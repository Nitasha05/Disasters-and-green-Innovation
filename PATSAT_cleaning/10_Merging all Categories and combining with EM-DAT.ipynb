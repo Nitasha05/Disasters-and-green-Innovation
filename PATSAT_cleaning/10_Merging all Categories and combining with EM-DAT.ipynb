{
 "cells": [
  {
   "cell_type": "code",
   "execution_count": 34,
   "id": "248e8700",
   "metadata": {},
   "outputs": [],
   "source": [
    "import pandas as pd\n",
    "import numpy as np\n",
    "Categories = ['Sequester', 'ICT', 'Geo', 'Hydro', 'Ocean', 'Solar-T', 'PV', 'Thermal-PV', 'Wind', 'Combust', 'Fusion', 'Fission', 'Electric', 'Biofuel', 'Waste', 'Store- B', 'Store - C', 'Store- T', 'Store- M', 'Hydrogen', 'Processing', 'Transport', 'Wastewater', 'SmrtGrds', 'Nuclear', 'Non-Fossil', 'Enable',  'Other-1', 'Other-3']#, 'Other-5','Other-6', 'Other-4']\n",
    "emdat_patsat_names = {'1_ExTemp', '3_Storm', '4_Flood', '5_Landslide', '7_Drought', '9_Wildfire'}\n",
    "for a in emdat_patsat_names:\n",
    "    df_merged = pd.read_csv('/Volumes/NJ_4TB/Final/Adaptive_Mitigative/Build' + '_'+ a + '_panel_combined.csv', skipinitialspace=True, header=0)\n",
    "    total_count = ['Build_total_count']\n",
    "    granted_count = ['Build_granted_count']\n",
    "    ge2 = ['Build_granted_family_ge_2_count']\n",
    "    kstock = ['Build_K_stock']\n",
    "    for c in Categories:\n",
    "        df2 = pd.read_csv('/Volumes/NJ_4TB/Final/Adaptive_Mitigative/'+ c + '_'+ a + '_panel_combined.csv', skipinitialspace=True, header=0)\n",
    "        df_merged = pd.merge(df_merged, df2[['country','year',c+'_total_count',c+'_granted_count',c+'_granted_family_ge_2_count',c+'_K_stock']],on=['country','year'], how = 'left')\n",
    "        total_count.append(c+'_total_count')\n",
    "        granted_count.append(c+ '_granted_count')\n",
    "        ge2.append(c+'_granted_family_ge_2_count')\n",
    "        kstock.append(c+'_K_stock')\n",
    "    df_merged.fillna(0, inplace=True)\n",
    "    df_merged['Total_count'] =  df_merged[total_count].sum(axis=1)\n",
    "    df_merged['Granted_count'] =  df_merged[granted_count].sum(axis=1)\n",
    "    df_merged['Granted_family_ge_2_count'] =  df_merged[ge2].sum(axis=1)\n",
    "    df_merged['K_Stock'] =  df_merged[kstock].sum(axis=1)\n",
    "    df_merged.drop(total_count+granted_count+ge2+kstock, axis=1, inplace=True)\n",
    "    df_merged.to_csv('/Volumes/NJ_4TB/Final/Sum_'+ a + '_panel_combined.csv', index=False)"
   ]
  },
  {
   "cell_type": "code",
   "execution_count": null,
   "id": "6eb69b85",
   "metadata": {},
   "outputs": [],
   "source": []
  }
 ],
 "metadata": {
  "kernelspec": {
   "display_name": "Python 3 (ipykernel)",
   "language": "python",
   "name": "python3"
  },
  "language_info": {
   "codemirror_mode": {
    "name": "ipython",
    "version": 3
   },
   "file_extension": ".py",
   "mimetype": "text/x-python",
   "name": "python",
   "nbconvert_exporter": "python",
   "pygments_lexer": "ipython3",
   "version": "3.9.7"
  }
 },
 "nbformat": 4,
 "nbformat_minor": 5
}
