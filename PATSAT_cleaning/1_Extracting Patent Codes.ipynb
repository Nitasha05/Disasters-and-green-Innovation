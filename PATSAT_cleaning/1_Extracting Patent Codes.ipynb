{
 "cells": [
  {
   "cell_type": "markdown",
   "metadata": {},
   "source": [
    "# Filtering by CPC codes"
   ]
  },
  {
   "cell_type": "markdown",
   "metadata": {},
   "source": [
    "### Assessing total number of unique patents in PATSAT"
   ]
  },
  {
   "cell_type": "code",
   "execution_count": null,
   "metadata": {},
   "outputs": [],
   "source": [
    "import pandas as pd\n",
    "fields = ['appln_id']\n",
    "df1 = pd.read_csv('/Volumes/NJ_4TB/PATSAT/tls201_part01.csv',skipinitialspace=True, header=0,usecols=fields)\n",
    "df1['appln_id'].nunique()\n",
    "#50,000,000"
   ]
  },
  {
   "cell_type": "code",
   "execution_count": null,
   "metadata": {},
   "outputs": [],
   "source": [
    "import pandas as pd\n",
    "fields = ['appln_id']\n",
    "df2 = pd.read_csv('/Volumes/NJ_4TB/PATSAT/tls201_part02.csv',skipinitialspace=True, header=0,usecols=fields)\n",
    "df2['appln_id'].nunique()\n",
    "#50,000,000"
   ]
  },
  {
   "cell_type": "code",
   "execution_count": null,
   "metadata": {},
   "outputs": [],
   "source": [
    "import pandas as pd\n",
    "fields = ['appln_id']\n",
    "df3 = pd.read_csv('/Volumes/NJ_4TB/PATSAT/tls201_part03.csv',skipinitialspace=True, header=0,usecols=fields)\n",
    "df3['appln_id'].nunique()\n",
    "#5,355,385"
   ]
  },
  {
   "cell_type": "markdown",
   "metadata": {},
   "source": [
    "### Total number of unique patents classified under CPC"
   ]
  },
  {
   "cell_type": "code",
   "execution_count": null,
   "metadata": {},
   "outputs": [],
   "source": [
    "import pandas as pd\n",
    "fields = ['appln_id', 'cpc_class_symbol']\n",
    "df4 = pd.read_csv('/Volumes/NJ_4TB/PATSAT/tls224_part01.csv',skipinitialspace=True, header=0,usecols=fields)\n",
    "df4['appln_id'].nunique() #number of unique application ids\n",
    "# 38,554,358"
   ]
  },
  {
   "cell_type": "code",
   "execution_count": null,
   "metadata": {},
   "outputs": [],
   "source": [
    "df5 = pd.read_csv('/Volumes/NJ_4TB/PATSAT/tls224_part02.csv',skipinitialspace=True, header=0,usecols=fields)\n",
    "df5['appln_id'].nunique()\n",
    "# 18,320,029"
   ]
  },
  {
   "cell_type": "markdown",
   "metadata": {},
   "source": [
    "The database has ~105 million unique application ids, of which ~57 million have also been classified under CPC. "
   ]
  },
  {
   "cell_type": "markdown",
   "metadata": {},
   "source": [
    "# Filtering by CPC code"
   ]
  },
  {
   "cell_type": "markdown",
   "metadata": {},
   "source": [
    "### Filtering to CPC1.csv"
   ]
  },
  {
   "cell_type": "code",
   "execution_count": null,
   "metadata": {},
   "outputs": [],
   "source": [
    "import pandas as pd\n",
    "fields = ['appln_id', 'cpc_class_symbol']\n",
    "filter_list = ['Y02A','Y02B','Y02C','Y02D','Y02E','Y02P','Y02T','Y02W','Y04S','Y10S','Y10T']\n",
    "df6 = pd.read_csv('/Volumes/NJ_4TB/PATSAT/tls224_part01.csv',skipinitialspace=True, chunksize=5000, header=0,usecols=fields)\n",
    "header = True\n",
    "for chunk in df6:\n",
    "    chunk['cpc_class_symbol'] = chunk['cpc_class_symbol'].str.replace(\" \",\"\") #remove spaces \n",
    "    validid = chunk['cpc_class_symbol'].str.contains('Y02A|Y02B|Y02C|Y02D|Y02E|Y02P|Y02T|Y02W|Y04S|Y10S|Y10T', regex=True)\n",
    "    chunk = chunk[validid]\n",
    "    chunk.to_csv('/Volumes/NJ_4TB/PATSAT/MyFiles/CPCcodes_1.csv', index=False, mode='a', header=header)\n",
    "    header = False\n",
    "#     print(df3.shape)\n",
    "#     print(df3.dtypes)\n",
    "#     print(df3.isnull().sum()) #check for missing values\n",
    "#     print(df3.head())"
   ]
  },
  {
   "cell_type": "code",
   "execution_count": 4,
   "metadata": {},
   "outputs": [
    {
     "data": {
      "text/plain": [
       "6136206"
      ]
     },
     "execution_count": 4,
     "metadata": {},
     "output_type": "execute_result"
    }
   ],
   "source": [
    "import pandas as pd\n",
    "fields = ['appln_id']\n",
    "df7 = pd.read_csv('/Volumes/NJ_4TB/PATSAT/MyFiles/General/CPCcodes_1.csv',skipinitialspace=True, header=0,usecols=fields)\n",
    "df7['appln_id'].nunique()\n",
    "#6,136,206"
   ]
  },
  {
   "cell_type": "markdown",
   "metadata": {},
   "source": [
    "### Filtering to CPC2.csv"
   ]
  },
  {
   "cell_type": "code",
   "execution_count": null,
   "metadata": {},
   "outputs": [],
   "source": [
    "import pandas as pd\n",
    "fields = ['appln_id', 'cpc_class_symbol']\n",
    "filter_list = ['Y02A','Y02B','Y02C','Y02D','Y02E','Y02P','Y02T','Y02W','Y04S','Y10S','Y10T']\n",
    "df8 = pd.read_csv('/Volumes/NJ_4TB/PATSAT/tls224_part02.csv',skipinitialspace=True, chunksize=5000, header=0,usecols=fields)\n",
    "header = True\n",
    "for chunk in df8:\n",
    "    chunk['cpc_class_symbol'] = chunk['cpc_class_symbol'].str.replace(\" \",\"\") #remove spaces \n",
    "    validid = chunk['cpc_class_symbol'].str.contains('Y02A|Y02B|Y02C|Y02D|Y02E|Y02P|Y02T|Y02W|Y04S|Y10S|Y10T', regex=True)\n",
    "    chunk = chunk[validid]\n",
    "    chunk.to_csv('/Volumes/NJ_4TB/PATSAT/MyFiles/General/CPCcodes_2.csv', index=False, mode='a', header=header)\n",
    "    header = False"
   ]
  },
  {
   "cell_type": "code",
   "execution_count": 5,
   "metadata": {},
   "outputs": [
    {
     "data": {
      "text/plain": [
       "2414168"
      ]
     },
     "execution_count": 5,
     "metadata": {},
     "output_type": "execute_result"
    }
   ],
   "source": [
    "import pandas as pd\n",
    "fields = ['appln_id']\n",
    "df9 = pd.read_csv('/Volumes/NJ_4TB/PATSAT/MyFiles/General/CPCcodes_2.csv',skipinitialspace=True, header=0,usecols=fields)\n",
    "df9['appln_id'].nunique()\n",
    "#2,414,168"
   ]
  },
  {
   "cell_type": "markdown",
   "metadata": {},
   "source": [
    "~8.5 million Y02 patents"
   ]
  },
  {
   "cell_type": "code",
   "execution_count": null,
   "metadata": {},
   "outputs": [],
   "source": []
  }
 ],
 "metadata": {
  "kernelspec": {
   "display_name": "Python 3 (ipykernel)",
   "language": "python",
   "name": "python3"
  },
  "language_info": {
   "codemirror_mode": {
    "name": "ipython",
    "version": 3
   },
   "file_extension": ".py",
   "mimetype": "text/x-python",
   "name": "python",
   "nbconvert_exporter": "python",
   "pygments_lexer": "ipython3",
   "version": "3.9.7"
  }
 },
 "nbformat": 4,
 "nbformat_minor": 2
}
