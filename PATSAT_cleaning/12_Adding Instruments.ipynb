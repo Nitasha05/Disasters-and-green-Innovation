{
 "cells": [
  {
   "cell_type": "code",
   "execution_count": 1,
   "id": "aab309f2",
   "metadata": {},
   "outputs": [],
   "source": [
    "import pandas as pd\n",
    "import numpy as np\n",
    "df = pd.read_csv('/Volumes/NJ_4TB/Final/GEOMET.csv', skipinitialspace=True, header=0)"
   ]
  },
  {
   "cell_type": "code",
   "execution_count": 6,
   "id": "c1e42eee",
   "metadata": {
    "scrolled": true
   },
   "outputs": [
    {
     "data": {
      "text/plain": [
       "array(['GRC'], dtype=object)"
      ]
     },
     "execution_count": 6,
     "metadata": {},
     "output_type": "execute_result"
    }
   ],
   "source": [
    "pd.unique(df[df['country'].str.contains('Greece')]['iso'])"
   ]
  },
  {
   "cell_type": "code",
   "execution_count": 7,
   "id": "1ee10b65",
   "metadata": {},
   "outputs": [],
   "source": [
    "emdat_iso_countries={ 'KR':'KOR',\n",
    "                         'MX':'MEX',\n",
    "                         'EG':'EGY',\n",
    "                         'JP':'JPN',\n",
    "                         'NO':'NOR',\n",
    "                         'CA':'CAN',\n",
    "                         'SI':'SVN',\n",
    "                         'DK':'DNK',\n",
    "                         'TH':'THA',\n",
    "                         'FI':'FIN',\n",
    "                         'HU':'HUN',\n",
    "                         'IS':'ISL',\n",
    "                         'IN':'IND',\n",
    "                         'US':'USA',\n",
    "                         'CZ':['CZE', 'SVK'],\n",
    "                         'CL':'CHL',\n",
    "                         'PL':'POL',\n",
    "                         'LV':'LVA',\n",
    "                         'KY':'CYM',\n",
    "                         'PH':'PHL',\n",
    "                         'DE': 'DEU',#also DD\n",
    "                         'SG':'SGP',\n",
    "                         'CH':'CHE',\n",
    "                         'LT':'LTU',\n",
    "                         'CY':'CYP',\n",
    "                         'RU':'RUS',\n",
    "                         'UA':'UKR',\n",
    "                         'IT':'ITA',\n",
    "                         'AU':'AUS',\n",
    "                         'NZ':'NZL',\n",
    "                         'BE':'BEL',\n",
    "                         'QA':'QAT',\n",
    "                         'MY':'MYS',\n",
    "                         'BM':'BMU',\n",
    "                         'AT':'AUT',\n",
    "                         #'SU':'Soviet Union',\n",
    "                         'GR':'GRC',\n",
    "                         'MT':'MLT',\n",
    "                         'IE':'IRL',\n",
    "                         'TR':'TUR',\n",
    "                         'ES':'ESP',\n",
    "                         'NL':'NLD',\n",
    "                         'IL':'ISR',\n",
    "                         'MA':'MAR',\n",
    "                         'AE':'ARE',\n",
    "                         'CU':'CUB',\n",
    "                         'SE':'SWE',\n",
    "                         'CN':'CHN',\n",
    "                         'FR':'FRA',\n",
    "                         'LU':'LUX',\n",
    "                         'PA':'PAN',\n",
    "                         'BG':'BGR',\n",
    "                         'ZA':'ZAF',\n",
    "                         'TW':'TWN',\n",
    "                         'AR':'ARG',\n",
    "                         'BR':'BRA',\n",
    "                         'GB':'GBR',\n",
    "                         'SA':'SAU'\n",
    "                       }"
   ]
  },
  {
   "cell_type": "code",
   "execution_count": 8,
   "id": "276ff3c4",
   "metadata": {},
   "outputs": [],
   "source": [
    "#Creating instrumets\n",
    "df['country'] = df['iso']\n",
    "df_filtered = pd.DataFrame()\n",
    "for country, iso in emdat_iso_countries.items():\n",
    "    if country == 'CZ':\n",
    "        df.loc[df['iso'] == 'CZE','country'] = country\n",
    "        df.loc[df['iso'] == 'SVK','country'] = country\n",
    "    else:\n",
    "        df.loc[df['iso'] == iso,'country'] = country\n",
    "    df_country = df[df['country']==country][['country','year','mag','maxvei','combi','difmonth','abs_diff','dif_temp','drought','flood','magla','maxveila','combila','difmonthla','abs_diffla','dif_templa','droughtla','floodla']]\n",
    "    df_country = pd.concat([df_country, df_country.rolling(10).sum().add_prefix('r10_')],axis=1)\n",
    "    df_filtered = pd.concat([df_filtered,df_country])\n",
    "df_filtered.drop(columns=['r10_year','r10_country'],inplace=True)"
   ]
  },
  {
   "cell_type": "code",
   "execution_count": 16,
   "id": "3d09dc1d",
   "metadata": {},
   "outputs": [
    {
     "data": {
      "text/plain": [
       "Index(['country', 'year', 'mag', 'maxvei', 'combi', 'difmonth', 'abs_diff',\n",
       "       'dif_temp', 'drought', 'flood', 'magla', 'maxveila', 'combila',\n",
       "       'difmonthla', 'abs_diffla', 'dif_templa', 'droughtla', 'floodla',\n",
       "       'r10_mag', 'r10_maxvei', 'r10_combi', 'r10_difmonth', 'r10_abs_diff',\n",
       "       'r10_dif_temp', 'r10_drought', 'r10_flood', 'r10_magla', 'r10_maxveila',\n",
       "       'r10_combila', 'r10_difmonthla', 'r10_abs_diffla', 'r10_dif_templa',\n",
       "       'r10_droughtla', 'r10_floodla'],\n",
       "      dtype='object')"
      ]
     },
     "execution_count": 16,
     "metadata": {},
     "output_type": "execute_result"
    }
   ],
   "source": [
    "df_filtered.columns"
   ]
  },
  {
   "cell_type": "code",
   "execution_count": 17,
   "id": "0e959390",
   "metadata": {},
   "outputs": [
    {
     "data": {
      "text/plain": [
       "Index(['year', 'id', 'country', 'iso', 'region', 'income_group', 'lcgdp',\n",
       "       'lpop', 'polity', 'open', 'interest', 'credit', 'gross', 'fdi', 'cpi',\n",
       "       'balance', 'open_ww', 'kaopen', 'oecd', 'noil', 'safrica', 'low',\n",
       "       'middle', 'high', 'quake', 'storm', 'sdisaster', 'disaster',\n",
       "       'damage_cor', 'damage_gdp', 'disasterla', 'sdisasterla', 'mag',\n",
       "       'maxvei', 'combi', 'difmonth', 'abs_diff', 'dif_temp', 'drought',\n",
       "       'flood', 'magla', 'maxveila', 'combila', 'difmonthla', 'abs_diffla',\n",
       "       'dif_templa', 'droughtla', 'floodla', 'disindex', 'disindexla',\n",
       "       'indexla', 'dindex', 'maglaxopen_ww', 'maglaxpolity', 'maglaxkaopen',\n",
       "       'maxveilaxopen_ww', 'maxveilaxpolity', 'maxveilaxkaopen',\n",
       "       'combilaxopen_ww', 'combilaxpolity', 'combilaxkaopen',\n",
       "       'floodlaxopen_ww', 'floodlaxpolity', 'floodlaxkaopen',\n",
       "       'droughtlaxopen_ww', 'droughtlaxpolity', 'droughtlaxkaopen',\n",
       "       'dif_templaxopen_ww', 'dif_templaxpolity', 'dif_templaxkaopen',\n",
       "       'indexlaxopen_ww', 'indexlaxpolity', 'indexlaxkaopen',\n",
       "       'disindexlaxopen_ww', 'disindexlaxpolity', 'disindexlaxkaopen'],\n",
       "      dtype='object')"
      ]
     },
     "execution_count": 17,
     "metadata": {},
     "output_type": "execute_result"
    }
   ],
   "source": [
    "df.columns"
   ]
  },
  {
   "cell_type": "code",
   "execution_count": 22,
   "id": "1a9ecaef",
   "metadata": {},
   "outputs": [
    {
     "data": {
      "text/plain": [
       "Index(['1985', '1986', '1987', '1988', '1989', '1990', '1991', '1992', '1993',\n",
       "       '1994', '1995', '1996', '1997', '1998', '1999', '2000', '2001', '2002',\n",
       "       '2003', '2004', '2005', '2006', '2007', '2008', '2009', '2010', '2011',\n",
       "       '2012', '2013', '2014', '2015', '2016', '2017', '2018', 'country',\n",
       "       'year', 'gdp_per_capita', 'polity', 'control_total_patents',\n",
       "       '1_ExTemp_total_count', '1_ExTemp_granted_count',\n",
       "       '1_ExTemp_granted_family_ge_2_count', '1_ExTemp_K_stock',\n",
       "       'total_deaths', 'total_damages_adj', 'total_affected', 'Total_count',\n",
       "       'Granted_count', 'Granted_family_ge_2_count', 'K_Stock', 'mag',\n",
       "       'maxvei', 'combi', 'difmonth', 'abs_diff', 'dif_temp', 'drought',\n",
       "       'flood', 'magla', 'maxveila', 'combila', 'difmonthla', 'abs_diffla',\n",
       "       'dif_templa', 'droughtla', 'floodla', 'r10_mag', 'r10_maxvei',\n",
       "       'r10_combi', 'r10_difmonth', 'r10_abs_diff', 'r10_dif_temp',\n",
       "       'r10_drought', 'r10_flood', 'r10_magla', 'r10_maxveila', 'r10_combila',\n",
       "       'r10_difmonthla', 'r10_abs_diffla', 'r10_dif_templa', 'r10_droughtla',\n",
       "       'r10_floodla'],\n",
       "      dtype='object')"
      ]
     },
     "execution_count": 22,
     "metadata": {},
     "output_type": "execute_result"
    }
   ],
   "source": [
    "df_merged.columns"
   ]
  },
  {
   "cell_type": "markdown",
   "id": "f8c29329",
   "metadata": {},
   "source": [
    "### Population Density"
   ]
  },
  {
   "cell_type": "code",
   "execution_count": 49,
   "id": "2f347d99",
   "metadata": {},
   "outputs": [],
   "source": [
    "df_pop_raw = pd.read_csv('/Volumes/NJ_4TB/Final/PopDensity.csv', skipinitialspace=True, skiprows=4)\n",
    "df_pop_raw.drop(columns=[\"Country Name\", \"Indicator Name\", \"Indicator Code\", \"Unnamed: 65\"], inplace=True)"
   ]
  },
  {
   "cell_type": "code",
   "execution_count": 54,
   "id": "b997c7fe",
   "metadata": {},
   "outputs": [],
   "source": [
    "df_pop = df_pop_raw.melt(id_vars=[\"Country Code\"], \n",
    "        var_name=\"year\", \n",
    "        value_name=\"population_density\")\n",
    "df_pop.year = pd.to_numeric(df_pop.year)\n",
    "df_pop['country'] = df_pop['Country Code']\n",
    "for country, iso in emdat_iso_countries.items():\n",
    "    if country == 'CZ':\n",
    "        df_pop.loc[df_pop['Country Code'] == 'CZE','country'] = country\n",
    "        df_pop.loc[df_pop['Country Code'] == 'SVK','country'] = country\n",
    "    else:\n",
    "        df_pop.loc[df_pop['Country Code'] == iso,'country'] = country\n",
    "df_pop.drop(columns=[\"Country Code\"], inplace=True)\n"
   ]
  },
  {
   "cell_type": "markdown",
   "id": "5c64dea1",
   "metadata": {},
   "source": [
    "### Adding End user Energy Prices"
   ]
  },
  {
   "cell_type": "code",
   "execution_count": 55,
   "id": "0a6d0394",
   "metadata": {},
   "outputs": [],
   "source": [
    "# df_energy_raw = pd.read_csv('/Volumes/NJ_4TB/Final/EndUsePricesTaxes_USD_IEA_CoalGas.csv', skipinitialspace=True)\n",
    "# df_energy_raw.drop([0,1,3],inplace=True)\n",
    "# df_energy_raw.drop(columns=[\"Unnamed: 2\"],inplace=True)\n",
    "# df_energy_raw.head()"
   ]
  },
  {
   "cell_type": "markdown",
   "id": "e12c748c",
   "metadata": {},
   "source": [
    "### Combine GEOMET with PopDen"
   ]
  },
  {
   "cell_type": "code",
   "execution_count": 60,
   "id": "77c58d7b",
   "metadata": {},
   "outputs": [],
   "source": [
    "df_filtered = pd.merge(df_filtered, df_pop, on=['country', 'year'], how='left')"
   ]
  },
  {
   "cell_type": "markdown",
   "id": "fa504f46",
   "metadata": {},
   "source": [
    "## Adding Instruments"
   ]
  },
  {
   "cell_type": "code",
   "execution_count": 61,
   "id": "f339d3ca",
   "metadata": {},
   "outputs": [],
   "source": [
    "#Floods\n",
    "df1 = pd.read_csv('/Volumes/NJ_4TB/Final/Sum_4_Flood_panel_combined.csv', skipinitialspace=True, header=0)\n",
    "df_merged = pd.merge(df1, df_filtered,on=['country','year'], how = 'inner')\n",
    "df_merged.to_csv('/Volumes/NJ_4TB/Final/4_Flood_panel_combined_instruments.csv',index=False)\n",
    "del df1"
   ]
  },
  {
   "cell_type": "code",
   "execution_count": 62,
   "id": "b93eee2b",
   "metadata": {},
   "outputs": [],
   "source": [
    "#Drought\n",
    "df1 = pd.read_csv('/Volumes/NJ_4TB/Final/Sum_7_Drought_panel_combined.csv', skipinitialspace=True, header=0)\n",
    "df_merged = pd.merge(df1, df_filtered,on=['country','year'], how = 'inner')\n",
    "df_merged.to_csv('/Volumes/NJ_4TB/Final/7_Drought_panel_combined_instruments.csv',index=False)\n",
    "del df1"
   ]
  },
  {
   "cell_type": "code",
   "execution_count": 63,
   "id": "f3b84763",
   "metadata": {},
   "outputs": [],
   "source": [
    "#Storm\n",
    "df1 = pd.read_csv('/Volumes/NJ_4TB/Final/Sum_3_Storm_panel_combined.csv', skipinitialspace=True, header=0)\n",
    "df_merged = pd.merge(df1, df_filtered,on=['country','year'], how = 'inner')\n",
    "df_merged.to_csv('/Volumes/NJ_4TB/Final/3_Storm_panel_combined_instruments.csv',index=False)\n",
    "del df1"
   ]
  },
  {
   "cell_type": "code",
   "execution_count": 64,
   "id": "517e2b9f",
   "metadata": {},
   "outputs": [],
   "source": [
    "#Extreme Temperature\n",
    "df1 = pd.read_csv('/Volumes/NJ_4TB/Final/Sum_1_ExTemp_panel_combined.csv', skipinitialspace=True, header=0)\n",
    "df_merged = pd.merge(df1, df_filtered,on=['country','year'], how = 'inner')\n",
    "df_merged.to_csv('/Volumes/NJ_4TB/Final/1_ExTemp_panel_combined_instruments.csv',index=False)\n",
    "del df1"
   ]
  },
  {
   "cell_type": "markdown",
   "id": "0f83070c",
   "metadata": {},
   "source": [
    "### Updating polity"
   ]
  },
  {
   "cell_type": "code",
   "execution_count": 66,
   "id": "b01cd218",
   "metadata": {},
   "outputs": [],
   "source": [
    "#processed_controls file has been updated with polity2 in place of polity\n",
    "import pandas as pd\n",
    "import numpy as np\n",
    "df_controls = pd.read_csv('/Volumes/NJ_4TB/Final/controls_processed.csv', skipinitialspace=True, header=0)\n",
    "df_polity = df_controls[[\"country\", \"year\", \"polity\"]]"
   ]
  },
  {
   "cell_type": "code",
   "execution_count": 78,
   "id": "88771f69",
   "metadata": {},
   "outputs": [],
   "source": [
    "#Floods\n",
    "df1 = pd.read_csv('/Volumes/NJ_4TB/Final/4_Flood_panel_combined_instruments.csv', skipinitialspace=True, header=0)\n",
    "df1 = df1.drop(columns=['polity','1986', '1987', '1988','1989', '2011','2012','2013','2014','2015','2016','2017','2018'])\n",
    "df_merged = pd.merge(df1, df_polity,on=['country','year'], how = 'inner')\n",
    "df_merged.to_csv('/Volumes/NJ_4TB/Final/4_Flood_panel_combined_instruments_updated.csv',index=False)\n",
    "del df1"
   ]
  },
  {
   "cell_type": "code",
   "execution_count": 79,
   "id": "d07fba69",
   "metadata": {},
   "outputs": [],
   "source": [
    "#Drought\n",
    "df1 = pd.read_csv('/Volumes/NJ_4TB/Final/7_Drought_panel_combined_instruments.csv', skipinitialspace=True, header=0)\n",
    "df1 = df1.drop(columns=['polity','1986', '1987', '1988','1989', '2011','2012','2013','2014','2015','2016','2017','2018'])\n",
    "df_merged = pd.merge(df1, df_polity,on=['country','year'], how = 'inner')\n",
    "df_merged.to_csv('/Volumes/NJ_4TB/Final/7_Drought_panel_combined_instruments_updated.csv',index=False)\n",
    "del df1"
   ]
  },
  {
   "cell_type": "code",
   "execution_count": 80,
   "id": "fd500ee4",
   "metadata": {},
   "outputs": [],
   "source": [
    "#Storm\n",
    "df1 = pd.read_csv('/Volumes/NJ_4TB/Final/3_Storm_panel_combined_instruments.csv', skipinitialspace=True, header=0)\n",
    "df1 = df1.drop(columns=['polity','1986', '1987', '1988','1989', '2011','2012','2013','2014','2015','2016','2017','2018'])\n",
    "df_merged = pd.merge(df1, df_polity,on=['country','year'], how = 'inner')\n",
    "df_merged.to_csv('/Volumes/NJ_4TB/Final/3_Storm_panel_combined_instruments_updated.csv',index=False)\n",
    "del df1"
   ]
  },
  {
   "cell_type": "code",
   "execution_count": 81,
   "id": "3cfc91bc",
   "metadata": {},
   "outputs": [],
   "source": [
    "#Extreme Temperature\n",
    "df1 = pd.read_csv('/Volumes/NJ_4TB/Final/1_ExTemp_panel_combined_instruments.csv', skipinitialspace=True, header=0)\n",
    "df1 = df1.drop(columns=['polity','1986', '1987', '1988','1989', '2011','2012','2013','2014','2015','2016','2017','2018'])\n",
    "df_merged = pd.merge(df1, df_polity,on=['country','year'], how = 'inner')\n",
    "df_merged.to_csv('/Volumes/NJ_4TB/Final/1_ExTemp_panel_combined_instruments_updated.csv',index=False)\n",
    "del df1"
   ]
  },
  {
   "cell_type": "code",
   "execution_count": null,
   "id": "34dec020",
   "metadata": {},
   "outputs": [],
   "source": []
  }
 ],
 "metadata": {
  "kernelspec": {
   "display_name": "Python 3 (ipykernel)",
   "language": "python",
   "name": "python3"
  },
  "language_info": {
   "codemirror_mode": {
    "name": "ipython",
    "version": 3
   },
   "file_extension": ".py",
   "mimetype": "text/x-python",
   "name": "python",
   "nbconvert_exporter": "python",
   "pygments_lexer": "ipython3",
   "version": "3.9.7"
  }
 },
 "nbformat": 4,
 "nbformat_minor": 5
}
