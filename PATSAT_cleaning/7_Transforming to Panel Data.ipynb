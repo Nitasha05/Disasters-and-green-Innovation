{
 "cells": [
  {
   "cell_type": "code",
   "execution_count": 2,
   "id": "9cab525a",
   "metadata": {},
   "outputs": [],
   "source": [
    "import pandas as pd\n",
    "import numpy as np\n",
    "import time"
   ]
  },
  {
   "cell_type": "markdown",
   "id": "dd956133",
   "metadata": {},
   "source": [
    "### 1. Total patents \n",
    "### 2. Total Successful Patents\n",
    "### 3. Successful Patents with Family size >=2 "
   ]
  },
  {
   "cell_type": "code",
   "execution_count": null,
   "id": "bbf4cc13",
   "metadata": {
    "scrolled": false
   },
   "outputs": [
    {
     "name": "stdout",
     "output_type": "stream",
     "text": [
      "Counting  Processing\n",
      "Finished in  2759.3214387893677\n"
     ]
    },
    {
     "name": "stderr",
     "output_type": "stream",
     "text": [
      "/tmp/ipykernel_7465/3774453332.py:5: DtypeWarning: Columns (3) have mixed types. Specify dtype option on import or set low_memory=False.\n",
      "  df1 = pd.read_csv('/run/media/terrin/NJ_4TB/PATSAT/MyFiles/Extras/' + c + '_everything.csv', skipinitialspace=True, header=0)\n"
     ]
    },
    {
     "name": "stdout",
     "output_type": "stream",
     "text": [
      "Counting  Transport\n",
      "Finished in  1827.5475130081177\n",
      "Counting  Wastewater\n",
      "Finished in  772.7231154441833\n",
      "Counting  SmrtGrds\n",
      "Finished in  83.82301449775696\n",
      "Counting  Non-Fossil\n",
      "Finished in  0.22074055671691895\n",
      "Counting  Enable\n",
      "Finished in  123.04190707206726\n",
      "Counting  Other-1\n",
      "Finished in  4.343602895736694\n",
      "Counting  Other-3\n",
      "Finished in  9.417675971984863\n"
     ]
    },
    {
     "name": "stderr",
     "output_type": "stream",
     "text": [
      "/tmp/ipykernel_7465/3774453332.py:5: DtypeWarning: Columns (3) have mixed types. Specify dtype option on import or set low_memory=False.\n",
      "  df1 = pd.read_csv('/run/media/terrin/NJ_4TB/PATSAT/MyFiles/Extras/' + c + '_everything.csv', skipinitialspace=True, header=0)\n"
     ]
    },
    {
     "name": "stdout",
     "output_type": "stream",
     "text": [
      "Counting  Other-4\n",
      "Finished in  14151.427327156067\n"
     ]
    },
    {
     "name": "stderr",
     "output_type": "stream",
     "text": [
      "/tmp/ipykernel_7465/3774453332.py:5: DtypeWarning: Columns (3) have mixed types. Specify dtype option on import or set low_memory=False.\n",
      "  df1 = pd.read_csv('/run/media/terrin/NJ_4TB/PATSAT/MyFiles/Extras/' + c + '_everything.csv', skipinitialspace=True, header=0)\n"
     ]
    }
   ],
   "source": [
    "# Category = ['1_ExTemp', '3_Storm', '4_Flood', '5_Landslide', '6_WaveAct', '7_Drought', '9_Wildfire', 'Solar-T', 'Wind', 'Nuclear', 'Hydrogen', 'Adapt','Build','Sequester', 'ICT', 'Geo', 'Hydro', 'Ocean', 'PV', 'Thermal-PV', 'Combust', 'Fusion', 'Fission', 'Electric', 'Biofuel', 'Waste', 'Store- B', 'Store - C', 'Store- T', 'Store- M', 'Other-1', 'Other-3', 'Processing', 'Transport', 'Wastewater', 'SmrtGrds', 'Non-Fossil', 'Enable', 'Other-4', 'Other-5','Other-6']\n",
    "Category = [ 'Processing', 'Transport', 'Wastewater', 'SmrtGrds', 'Non-Fossil', 'Enable','Other-1', 'Other-3', 'Other-4', 'Other-5','Other-6']\n",
    "# Category = [ 'PV', 'Thermal-PV', 'Wind', 'Combust', 'Fusion', 'Fission', 'Electric', 'Biofuel', 'Waste', 'Store- B', 'Store - C', 'Store- T', 'Store- M', 'Hydrogen', 'Other-1', 'Other-3', 'Processing', 'Transport', 'Wastewater', 'SmrtGrds', 'Nuclear', 'Non-Fossil', 'Enable', 'Other-4', 'Other-5','Other-6']\n",
    "for c in Category:\n",
    "    df1 = pd.read_csv('/Volumes/NJ_4TB/PATSAT/MyFiles/Extras/' + c + '_everything.csv', skipinitialspace=True, header=0)\n",
    "    df1.loc[df1.appln_filing_year == 9999] = np.NaN\n",
    "    df1.dropna(subset=['appln_filing_year'], inplace=True)\n",
    "\n",
    "    countries = pd.unique( pd.concat([df1['person_ctry_code'],df1['person_ctry_code.1'],df1['person_ctry_code.2'],df1['person_ctry_code.3'],df1['person_ctry_code.4']]))\n",
    "\n",
    "\n",
    "    years = pd.unique(df1['appln_filing_year'])\n",
    "    start_year = 1985\n",
    "    end_year = years.max()\n",
    "    start_time = time.time()\n",
    "        \n",
    "    print('Counting ', c)\n",
    "    list_of_points = []\n",
    "    for country in countries:\n",
    "        K_stock = sum((df1['appln_filing_year'] <= start_year) & patent_country_idx &  (df1['granted'] == 'Y'))            \n",
    "        for year in range(int(start_year), int(end_year) + 1):\n",
    "            patent_country_idx = ( ((df1['person_ctry_code'] == country) | (df1['person_ctry_code.1'] == country) | (df1['person_ctry_code.2'] == country) | (df1['person_ctry_code.3'] == country) | (df1['person_ctry_code.4'] == country)))\n",
    "            patent_country_year_idx = (df1['appln_filing_year'] == year) & patent_country_idx\n",
    "            count = sum(patent_country_year_idx)\n",
    "            granted_count = sum(patent_country_year_idx & (df1['granted'] == 'Y'))\n",
    "            granted_family_ge_2 = sum(patent_country_year_idx & (df1['granted'] == 'Y') & (df1['docdb_family_size'] >=2 ))\n",
    "            K_stock = (1 - 0.15) * K_stock + granted_count\n",
    "            list_of_points.append({'country': country, 'year': year, 'total_count': count, 'granted_count': granted_count , 'granted_family_ge_2_count': granted_family_ge_2, 'K_stock':K_stock })\n",
    "    df_panel = pd.DataFrame.from_records(list_of_points)\n",
    "    df_panel.to_csv('Volumes/NJ_4TB/PATSAT/MyFiles/' + c + '_panel.csv', encoding='utf-8', index=False)\n",
    "    del df1, df_panel\n",
    "    print(\"Finished in \", time.time() - start_time)\n",
    "    \n",
    "\n",
    "\n",
    "\n",
    "\n"
   ]
  },
  {
   "cell_type": "markdown",
   "id": "5158772c",
   "metadata": {},
   "source": [
    "### Triadic Patents"
   ]
  },
  {
   "cell_type": "code",
   "execution_count": 1,
   "id": "4b297ca4",
   "metadata": {},
   "outputs": [],
   "source": [
    "#not right now"
   ]
  },
  {
   "cell_type": "code",
   "execution_count": null,
   "id": "ea3ae93c",
   "metadata": {},
   "outputs": [],
   "source": []
  }
 ],
 "metadata": {
  "kernelspec": {
   "display_name": "Python 3 (ipykernel)",
   "language": "python",
   "name": "python3"
  },
  "language_info": {
   "codemirror_mode": {
    "name": "ipython",
    "version": 3
   },
   "file_extension": ".py",
   "mimetype": "text/x-python",
   "name": "python",
   "nbconvert_exporter": "python",
   "pygments_lexer": "ipython3",
   "version": "3.9.7"
  }
 },
 "nbformat": 4,
 "nbformat_minor": 5
}
