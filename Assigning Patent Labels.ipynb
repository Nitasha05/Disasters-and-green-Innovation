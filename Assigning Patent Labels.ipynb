{
 "cells": [
  {
   "cell_type": "code",
   "execution_count": 1,
   "metadata": {},
   "outputs": [],
   "source": [
    "import pandas as pd\n",
    "import numpy as np\n",
    "df1 = pd.read_csv('/Volumes/NJ_4TB/PATSAT/MyFiles/CPCcodes_1.csv',skipinitialspace=True, nrows=1000)\n",
    "df2 = pd.read_csv('/Volumes/NJ_4TB/PATSAT/MyFiles/CPClabels.csv',skipinitialspace=True)"
   ]
  },
  {
   "cell_type": "code",
   "execution_count": 2,
   "metadata": {},
   "outputs": [
    {
     "name": "stderr",
     "output_type": "stream",
     "text": [
      "/Library/Frameworks/Python.framework/Versions/3.7/lib/python3.7/site-packages/ipykernel_launcher.py:6: SettingWithCopyWarning: \n",
      "A value is trying to be set on a copy of a slice from a DataFrame\n",
      "\n",
      "See the caveats in the documentation: http://pandas.pydata.org/pandas-docs/stable/user_guide/indexing.html#returning-a-view-versus-a-copy\n",
      "  \n"
     ]
    }
   ],
   "source": [
    "df1_modified = df1.copy()\n",
    "df1_modified['Category'] = df1_modified['cpc_class_symbol']\n",
    "# first match all cpc_cass_symbols in the df with those in IPC_CPC\n",
    "for code in df2['cpc_class_symbol']:\n",
    "    code_id = df1_modified['Category'].str.contains(code)\n",
    "    df1_modified['Category'][code_id] = code\n",
    "# now match all cpc_class_symbols with its categories.\n",
    "for category in df2.Category.values:\n",
    "    current_dict = dict.fromkeys(df2['cpc_class_symbol'][df2['Category'].str.contains(category)], category)\n",
    "    df1_modified['Category'] = df1_modified['Category'].replace(current_dict,regex=True)"
   ]
  },
  {
   "cell_type": "code",
   "execution_count": null,
   "metadata": {},
   "outputs": [],
   "source": []
  }
 ],
 "metadata": {
  "kernelspec": {
   "display_name": "Python 3",
   "language": "python",
   "name": "python3"
  },
  "language_info": {
   "codemirror_mode": {
    "name": "ipython",
    "version": 3
   },
   "file_extension": ".py",
   "mimetype": "text/x-python",
   "name": "python",
   "nbconvert_exporter": "python",
   "pygments_lexer": "ipython3",
   "version": "3.7.4"
  }
 },
 "nbformat": 4,
 "nbformat_minor": 2
}
