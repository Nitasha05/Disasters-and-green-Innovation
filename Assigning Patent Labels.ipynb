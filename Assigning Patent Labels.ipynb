{
 "cells": [
  {
   "cell_type": "code",
   "execution_count": 1,
   "metadata": {},
   "outputs": [],
   "source": [
    "import pandas as pd\n",
    "import numpy as np\n",
    "labels = pd.read_csv('/Volumes/NJ_4TB/PATSAT/MyFiles/CPClabels.csv',skipinitialspace=True)"
   ]
  },
  {
   "cell_type": "code",
   "execution_count": null,
   "metadata": {},
   "outputs": [],
   "source": [
    "def cpc_symbol_to_category(df_column, symbol, category):\n",
    "    current_dict = dict.fromkeys(df_column[df_column.str.contains(symbol)], category)\n",
    "    return df_column.replace(current_dict)\n",
    "df1 = pd.read_csv('/Volumes/NJ_4TB/PATSAT/MyFiles/CPCcodes_1.csv',skipinitialspace=True, chunksize=5000, header=0)\n",
    "extra_labels = pd.DataFrame([['Y02E30', 'Nuclear'],['Y02E50', 'Non-Fossil'], ['Y02E60','Enable'], ['Y02E', 'Other-6']], columns=labels.columns.values)\n",
    "\n",
    "header = True\n",
    "for chunk in df1:\n",
    "    chunk_modified = chunk.copy()\n",
    "    chunk_modified['Category'] = chunk_modified['cpc_class_symbol']\n",
    "    for index, row in labels.iterrows():\n",
    "        chunk_modified['Category'] = cpc_symbol_to_category(chunk_modified['Category'], row['cpc_class_symbol'], row['Category'])\n",
    "    for index, row in extra_labels.iterrows():\n",
    "        chunk_modified['Category'] = cpc_symbol_to_category(chunk_modified['Category'], row['cpc_class_symbol'], row['Category'])\n",
    "    chunk_modified.to_csv('/Volumes/NJ_4TB/PATSAT/MyFiles/CPC_with_labels.csv', index=False, mode='a', header=header)\n",
    "    header = False"
   ]
  },
  {
   "cell_type": "code",
   "execution_count": 2,
   "metadata": {},
   "outputs": [],
   "source": [
    "def cpc_symbol_to_category(df_column, symbol, category):\n",
    "    current_dict = dict.fromkeys(df_column[df_column.str.contains(symbol)], category)\n",
    "    return df_column.replace(current_dict)\n",
    "\n",
    "df1 = pd.read_csv('/Volumes/NJ_4TB/PATSAT/MyFiles/CPCcodes_1.csv',skipinitialspace=True, nrows=1000, header=0)\n",
    "extra_labels = pd.DataFrame([['Y02E30', 'Nuclear'],['Y02E50', 'Non-Fossil'], ['Y02E60','Enable'], ['Y02E', 'Other-6']], columns=labels.columns.values)\n",
    "\n",
    "df1_modified = df1.copy()\n",
    "df1_modified['Category'] = df1_modified['cpc_class_symbol']\n",
    "\n",
    "for index, row in labels.iterrows():\n",
    "    df1_modified['Category'] = cpc_symbol_to_category(df1_modified['Category'], row['cpc_class_symbol'], row['Category'])\n",
    "\n",
    "for index, row in extra_labels.iterrows():\n",
    "    df1_modified['Category'] = cpc_symbol_to_category(df1_modified['Category'], row['cpc_class_symbol'], row['Category'])"
   ]
  },
  {
   "cell_type": "code",
   "execution_count": 3,
   "metadata": {},
   "outputs": [
    {
     "data": {
      "text/html": [
       "<div>\n",
       "<style scoped>\n",
       "    .dataframe tbody tr th:only-of-type {\n",
       "        vertical-align: middle;\n",
       "    }\n",
       "\n",
       "    .dataframe tbody tr th {\n",
       "        vertical-align: top;\n",
       "    }\n",
       "\n",
       "    .dataframe thead th {\n",
       "        text-align: right;\n",
       "    }\n",
       "</style>\n",
       "<table border=\"1\" class=\"dataframe\">\n",
       "  <thead>\n",
       "    <tr style=\"text-align: right;\">\n",
       "      <th></th>\n",
       "      <th>appln_id</th>\n",
       "      <th>cpc_class_symbol</th>\n",
       "      <th>Category</th>\n",
       "    </tr>\n",
       "  </thead>\n",
       "  <tbody>\n",
       "    <tr>\n",
       "      <th>0</th>\n",
       "      <td>11</td>\n",
       "      <td>Y10T477/60</td>\n",
       "      <td>Other-5</td>\n",
       "    </tr>\n",
       "    <tr>\n",
       "      <th>1</th>\n",
       "      <td>11</td>\n",
       "      <td>Y10T477/675</td>\n",
       "      <td>Other-5</td>\n",
       "    </tr>\n",
       "    <tr>\n",
       "      <th>2</th>\n",
       "      <td>14</td>\n",
       "      <td>Y02T10/126</td>\n",
       "      <td>Transport</td>\n",
       "    </tr>\n",
       "    <tr>\n",
       "      <th>3</th>\n",
       "      <td>15</td>\n",
       "      <td>Y10S424/13</td>\n",
       "      <td>Other-4</td>\n",
       "    </tr>\n",
       "    <tr>\n",
       "      <th>4</th>\n",
       "      <td>15</td>\n",
       "      <td>Y10S514/829</td>\n",
       "      <td>Other-4</td>\n",
       "    </tr>\n",
       "    <tr>\n",
       "      <th>...</th>\n",
       "      <td>...</td>\n",
       "      <td>...</td>\n",
       "      <td>...</td>\n",
       "    </tr>\n",
       "    <tr>\n",
       "      <th>995</th>\n",
       "      <td>2982</td>\n",
       "      <td>Y10T29/53187</td>\n",
       "      <td>Other-5</td>\n",
       "    </tr>\n",
       "    <tr>\n",
       "      <th>996</th>\n",
       "      <td>2982</td>\n",
       "      <td>Y10T29/53191</td>\n",
       "      <td>Other-5</td>\n",
       "    </tr>\n",
       "    <tr>\n",
       "      <th>997</th>\n",
       "      <td>2984</td>\n",
       "      <td>Y02T10/146</td>\n",
       "      <td>Transport</td>\n",
       "    </tr>\n",
       "    <tr>\n",
       "      <th>998</th>\n",
       "      <td>2993</td>\n",
       "      <td>Y10S438/945</td>\n",
       "      <td>Other-4</td>\n",
       "    </tr>\n",
       "    <tr>\n",
       "      <th>999</th>\n",
       "      <td>2993</td>\n",
       "      <td>Y10S438/973</td>\n",
       "      <td>Other-4</td>\n",
       "    </tr>\n",
       "  </tbody>\n",
       "</table>\n",
       "<p>1000 rows × 3 columns</p>\n",
       "</div>"
      ],
      "text/plain": [
       "     appln_id cpc_class_symbol   Category\n",
       "0          11       Y10T477/60    Other-5\n",
       "1          11      Y10T477/675    Other-5\n",
       "2          14       Y02T10/126  Transport\n",
       "3          15       Y10S424/13    Other-4\n",
       "4          15      Y10S514/829    Other-4\n",
       "..        ...              ...        ...\n",
       "995      2982     Y10T29/53187    Other-5\n",
       "996      2982     Y10T29/53191    Other-5\n",
       "997      2984       Y02T10/146  Transport\n",
       "998      2993      Y10S438/945    Other-4\n",
       "999      2993      Y10S438/973    Other-4\n",
       "\n",
       "[1000 rows x 3 columns]"
      ]
     },
     "execution_count": 3,
     "metadata": {},
     "output_type": "execute_result"
    }
   ],
   "source": [
    "df1_modified"
   ]
  },
  {
   "cell_type": "code",
   "execution_count": 4,
   "metadata": {},
   "outputs": [
    {
     "data": {
      "text/plain": [
       "array(['Adapt', 'Biofuel', 'Build', 'Combust', 'Electric', 'Enable',\n",
       "       'Fusion', 'Hydro', 'Hydrogen', 'ICT', 'Ocean', 'Other-4',\n",
       "       'Other-5', 'PV', 'Processing', 'SmrtGrds', 'Solar-T', 'Store - C',\n",
       "       'Transport', 'Waste', 'Wastewater', 'Wind'], dtype=object)"
      ]
     },
     "execution_count": 4,
     "metadata": {},
     "output_type": "execute_result"
    }
   ],
   "source": [
    "np.unique(df1_modified.Category.values)"
   ]
  },
  {
   "cell_type": "code",
   "execution_count": null,
   "metadata": {},
   "outputs": [],
   "source": []
  }
 ],
 "metadata": {
  "kernelspec": {
   "display_name": "Python 3",
   "language": "python",
   "name": "python3"
  },
  "language_info": {
   "codemirror_mode": {
    "name": "ipython",
    "version": 3
   },
   "file_extension": ".py",
   "mimetype": "text/x-python",
   "name": "python",
   "nbconvert_exporter": "python",
   "pygments_lexer": "ipython3",
   "version": "3.7.4"
  }
 },
 "nbformat": 4,
 "nbformat_minor": 2
}
