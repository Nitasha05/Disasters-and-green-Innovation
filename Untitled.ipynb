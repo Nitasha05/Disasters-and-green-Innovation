{
 "cells": [
  {
   "cell_type": "code",
   "execution_count": 9,
   "id": "4c1bb171",
   "metadata": {},
   "outputs": [],
   "source": [
    "import pandas as pd\n",
    "df = pd.read_csv('/Users/nitashajhala/Desktop/Regression1/Sensitivity Analysis.csv',skipinitialspace=True, header=0)"
   ]
  },
  {
   "cell_type": "code",
   "execution_count": 10,
   "id": "2f9eceaa",
   "metadata": {},
   "outputs": [
    {
     "name": "stdout",
     "output_type": "stream",
     "text": [
      "\\begin{tabular}{llllrllllllllll}\n",
      "\\toprule\n",
      "                                        Unnamed: 0 &       (1) &        (2) &     (3) &    (4) &        (5) &        (6) &       (7) &       (8) &        (9) &     (10) &       (11) &     (12) &     (13) &       (14) \\\\\n",
      "\\midrule\n",
      "                                            Year t &         0 &          0 &       0 &  0.000 &          0 &          0 &         0 &         0 &          0 &        0 &          0 &        0 &        0 &          0 \\\\\n",
      "                                          Year t-1 &         0 &          0 &       0 &  0.000 &          0 &          0 &         0 &         0 &          0 &        0 &          0 &        0 &        0 &          0 \\\\\n",
      "                                          Year t-2 &   0.00001 &          0 &       0 &  0.000 &          0 &          0 &         0 &         0 &          0 &        0 &          0 &        0 &        0 &          0 \\\\\n",
      "                                          Year t-3 &         0 &          0 &       0 &  0.000 &          0 &          0 &         0 &         0 &          0 &        0 &          0 &        0 &        0 &          0 \\\\\n",
      "                                          Year t-4 &       NaN &          0 &       0 &  0.000 &          0 &          0 &         0 &         0 &          0 &        0 &          0 &        0 &        0 &          0 \\\\\n",
      "                                          Year t-5 &       NaN &        NaN &       0 &  0.000 &          0 &          0 &         0 &         0 &          0 &        0 &          0 &        0 &        0 &          0 \\\\\n",
      "                                          Year t-6 &       NaN &        NaN &     NaN &  0.000 &          0 &          0 &         0 &         0 &          0 &        0 &          0 &        0 &        0 &          0 \\\\\n",
      "                                          Year t-7 &       NaN &        NaN &     NaN &    NaN &         0* &        0** &         0 &         0 &          0 &        0 &          0 &        0 &        0 &          0 \\\\\n",
      "                                          Year t-8 &       NaN &        NaN &     NaN &    NaN &        NaN &       0*** &        0* &         0 &          0 &        0 &          0 &        0 &        0 &          0 \\\\\n",
      "                                          Year t-9 &       NaN &        NaN &     NaN &    NaN &        NaN &        NaN & -0.00003* & -0.00003* &  -0.00003* & -0.0000x &   -0.0000x & -0.0000x & -0.0000x &   -0.0000x \\\\\n",
      "                                         Year t-10 &       NaN &        NaN &     NaN &    NaN &        NaN &        NaN &       NaN &  -0.0000x & -0.00004** & -0.0000x &   -0.0000x & -0.0000x & -0.0000x &   -0.0000x \\\\\n",
      "                                         Year t-11 &       NaN &        NaN &     NaN &    NaN &        NaN &        NaN &       NaN &       NaN &   -0.0000x & -0.0000x &   -0.0000x & -0.0000x & -0.0000x &   -0.0000x \\\\\n",
      "                                         Year t-12 &       NaN &        NaN &     NaN &    NaN &        NaN &        NaN &       NaN &       NaN &        NaN & -0.0000x &   -0.0000x & -0.0000x & -0.0000x &   -0.0000x \\\\\n",
      "                                         Year t-13 &       NaN &        NaN &     NaN &    NaN &        NaN &        NaN &       NaN &       NaN &        NaN &      NaN &   -0.0000x & -0.0000x & -0.0000x &   -0.0000x \\\\\n",
      "                                         Year t-14 &       NaN &        NaN &     NaN &    NaN &        NaN &        NaN &       NaN &       NaN &        NaN &      NaN &        NaN & -0.0000x & -0.0000x &   -0.0000x \\\\\n",
      "                                         Year t-14 &       NaN &        NaN &     NaN &    NaN &        NaN &        NaN &       NaN &       NaN &        NaN &      NaN &        NaN &      NaN & -0.0000x &   -0.0000x \\\\\n",
      "                                         Year t-15 &       NaN &        NaN &     NaN &    NaN &        NaN &        NaN &       NaN &       NaN &        NaN &      NaN &        NaN &      NaN &      NaN &   -0.0000x \\\\\n",
      "                                 Cumulative effect &         0 &          0 &       0 &  0.000 &          0 &     0.0001 &    0.0001 &    0.0001 &    0.00003 &  0.00003 &          0 & -0.0000x & -0.0000x &   -0.0000x \\\\\n",
      "Log knowledge stocks of adaptation technology (... &   0.58173 &    0.58470 &  0.585* &    NaN &    0.588** &    0.599** &       NaN &       NaN &        NaN &      NaN &        NaN &      NaN &      NaN &    0.59*** \\\\\n",
      "Log knowledge stock of solar technology (year t-1) & 0.7648*** &  0.7667*** &     NaN &    NaN &   .7639*** &   0.747*** &       NaN &       NaN &        NaN &      NaN &        NaN &      NaN &      NaN &     0.8*** \\\\\n",
      "                               Log GDP per capita  &  -2.425** &   -2.426** &     NaN &    NaN &   -2.404** &    -2.43** &       NaN &       NaN &        NaN &      NaN &        NaN &      NaN &      NaN &    -2.56** \\\\\n",
      "                                 Institution index &  -0.00182 &   -0.00165 & -0.0017 &  0.003 &       0.01 &       0.01 &       NaN &       NaN &        NaN &      NaN &        NaN &      NaN &      NaN &      0.012 \\\\\n",
      "                     Log total patent applications &     0.047 &      0.046 &     NaN &    NaN &     0.0389 &      0.056 &       NaN &       NaN &        NaN &      NaN &        NaN &      NaN &      NaN &     0.0014 \\\\\n",
      "                           Tax-adjusted fuel price &       NaN &        NaN &     NaN &    NaN &        NaN &        NaN &       NaN &       NaN &        NaN &      NaN &        NaN &      NaN &      NaN &        NaN \\\\\n",
      "                               Number of countries &        48 &         48 &      48 & 48.000 &         48 &         48 &        48 &        48 &         48 &       48 &         48 &       48 &       48 &         48 \\\\\n",
      "                                     Log Liklihood &  -4722.03 & -4716.5617 &     NaN &    NaN & -4675.9037 & -4605.8422 &       NaN &       NaN &        NaN &      NaN & -4434.1858 &      NaN &      NaN & -4327.3043 \\\\\n",
      "\\bottomrule\n",
      "\\end{tabular}\n",
      "\n"
     ]
    }
   ],
   "source": [
    "print(df.to_latex(index=False)) \n"
   ]
  },
  {
   "cell_type": "code",
   "execution_count": null,
   "id": "e43a0407",
   "metadata": {},
   "outputs": [],
   "source": []
  }
 ],
 "metadata": {
  "kernelspec": {
   "display_name": "Python 3 (ipykernel)",
   "language": "python",
   "name": "python3"
  },
  "language_info": {
   "codemirror_mode": {
    "name": "ipython",
    "version": 3
   },
   "file_extension": ".py",
   "mimetype": "text/x-python",
   "name": "python",
   "nbconvert_exporter": "python",
   "pygments_lexer": "ipython3",
   "version": "3.9.7"
  }
 },
 "nbformat": 4,
 "nbformat_minor": 5
}
