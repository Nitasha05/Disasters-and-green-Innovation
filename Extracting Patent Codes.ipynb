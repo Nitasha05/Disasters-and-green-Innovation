{
 "cells": [
  {
   "cell_type": "markdown",
   "metadata": {},
   "source": [
    "# Filtering by IPC Codes"
   ]
  },
  {
   "cell_type": "code",
   "execution_count": 1,
   "metadata": {},
   "outputs": [],
   "source": [
    "import pandas as pd"
   ]
  },
  {
   "cell_type": "markdown",
   "metadata": {},
   "source": [
    "### Filtering tls209_part01 to IPC1.csv"
   ]
  },
  {
   "cell_type": "code",
   "execution_count": null,
   "metadata": {},
   "outputs": [],
   "source": [
    "fields = ['appln_id', 'ipc_class_symbol'] #extracting unique identifier and IPC code\n",
    "df1 = pd.read_csv('/Volumes/Elements/PATSAT/tls209_part01.csv', skipinitialspace=True, usecols=fields)\n",
    "print(df1.shape)\n",
    "print(df1.dtypes)\n",
    "print(df1.head())\n",
    "df1['ipc_class_symbol'] = df1['ipc_class_symbol'].str.replace(\" \",\"\") #remove spaces\n",
    "print(df1.isnull().sum()) #check for missing values"
   ]
  },
  {
   "cell_type": "code",
   "execution_count": null,
   "metadata": {},
   "outputs": [],
   "source": [
    "filter_list = ['F03D1', 'F03D3', 'F03D5', 'F03D7', 'F03D9', 'F03D11', 'F24J2', 'F03G6', 'E04D13/18', 'H01L27/142', 'H01L31/04','H01L31/05','H01L31/06','H01L 31/08', 'H02N6', 'F03G4', 'F03G7/04', 'F24J3 ', 'E02B9/08', 'F03B13/1','F03B13/2', 'F03G7/05', 'E02B 9', 'F03B3 ', 'F03B 7', 'F03B 13/06', 'F03B 13/07', 'F03B 13/08' 'F03B 15', 'C10L 5/40', 'C10L5/41','C10L5/42','C10L5/43', 'C10L5/44', 'C10L5/45', 'C10L5/46','C10L5/47','C10L5/48', 'F01K25/14', 'F02B43/08', 'F23G5/46', 'C10L1', 'B09B1', 'F01K27', 'F23G5']\n",
    "df1f = df1[df1.ipc_class_symbol.isin(filter_list)]\n",
    "df1f.to_csv('IPC1',index=False)"
   ]
  },
  {
   "cell_type": "markdown",
   "metadata": {},
   "source": [
    "###  Filtering tls209_part02 to IPC2.csv"
   ]
  },
  {
   "cell_type": "code",
   "execution_count": null,
   "metadata": {},
   "outputs": [],
   "source": [
    "fields = ['appln_id', 'ipc_class_symbol']\n",
    "filter_list = ['F03D1', 'F03D3', 'F03D5', 'F03D7', 'F03D9', 'F03D11', 'F24J2', 'F03G6', 'E04D13/18', 'H01L27/142', 'H01L31/04','H01L31/05','H01L31/06','H01L 31/08', 'H02N6', 'F03G4', 'F03G7/04', 'F24J3 ', 'E02B9/08', 'F03B13/1','F03B13/2', 'F03G7/05', 'E02B 9', 'F03B3 ', 'F03B 7', 'F03B 13/06', 'F03B 13/07', 'F03B 13/08' 'F03B 15', 'C10L 5/40', 'C10L5/41','C10L5/42','C10L5/43', 'C10L5/44', 'C10L5/45', 'C10L5/46','C10L5/47','C10L5/48', 'F01K25/14', 'F02B43/08', 'F23G5/46', 'C10L1', 'B09B1', 'F01K27', 'F23G5']\n",
    "df2 = pd.read_csv('/Volumes/Elements/PATSAT/tls209_part02.csv', skipinitialspace=True, usecols=fields)\n",
    "df2['ipc_class_symbol'] = df2['ipc_class_symbol'].str.replace(\" \",\"\") #remove spaces\n",
    "print(df2.isnull().sum()) #check for missing values\n",
    "print(df2.shape)\n",
    "print(df2.dtypes)\n",
    "print(df2.head())"
   ]
  },
  {
   "cell_type": "code",
   "execution_count": null,
   "metadata": {},
   "outputs": [],
   "source": [
    "df2f = df2[df2.ipc_class_symbol.isin(filter_list)]\n",
    "df2f.to_csv('IPC2',index=False)"
   ]
  },
  {
   "cell_type": "markdown",
   "metadata": {},
   "source": [
    "# Filtering by CPC codes"
   ]
  },
  {
   "cell_type": "markdown",
   "metadata": {},
   "source": [
    "### Filtering to CPC1.csv"
   ]
  },
  {
   "cell_type": "code",
   "execution_count": null,
   "metadata": {},
   "outputs": [
    {
     "name": "stdout",
     "output_type": "stream",
     "text": [
      "(150000000, 2)\n",
      "appln_id             int64\n",
      "cpc_class_symbol    object\n",
      "dtype: object\n"
     ]
    }
   ],
   "source": [
    "fields = ['appln_id', 'cpc_class_symbol']\n",
    "df3 = pd.read_csv('/Volumes/Elements/PATSAT/tls224_part01.csv', skipinitialspace=True, usecols=fields)\n",
    "print(df3.shape)\n",
    "print(df3.dtypes)\n",
    "df3['cpc_class_symbol'] = df3['cpc_class_symbol'].str.replace(\" \",\"\") #remove spaces\n",
    "print(df3.isnull().sum()) #check for missing values\n",
    "print(df3.head())"
   ]
  },
  {
   "cell_type": "code",
   "execution_count": null,
   "metadata": {},
   "outputs": [],
   "source": [
    "filter_list = ['Y02A','Y02B','Y02C','Y02D','Y02E','Y02P','Y02T','Y02W','Y04S','Y10S','Y10T']\n",
    "df3f = df3[df3.cpc_class_symbol.isin(filter_list)]\n",
    "df3f.to_csv('CPC1',index=False)"
   ]
  },
  {
   "cell_type": "markdown",
   "metadata": {},
   "source": [
    "### Filtering to CPC2.csv"
   ]
  },
  {
   "cell_type": "code",
   "execution_count": null,
   "metadata": {},
   "outputs": [],
   "source": [
    "fields = ['appln_id', 'cpc_class_symbol']\n",
    "df4 = pd.read_csv('/Volumes/Elements/PATSAT/tls224_part02.csv', skipinitialspace=True, usecols=fields)\n",
    "print(df4.shape)\n",
    "print(df4.dtypes)\n",
    "df4['cpc_class_symbol'] = df4['cpc_class_symbol'].str.replace(\" \",\"\") #remove spaces\n",
    "print(df4.isnull().sum()) #check for missing values\n",
    "print(df4.head())"
   ]
  },
  {
   "cell_type": "code",
   "execution_count": null,
   "metadata": {},
   "outputs": [],
   "source": [
    "filter_list = ['Y02A','Y02B','Y02C','Y02D','Y02E','Y02P','Y02T','Y02W','Y04S','Y10S','Y10T']\n",
    "df4f = df4[df4.cpc_class_symbol.isin(filter_list)]\n",
    "df4f.to_csv('CPC2',index=False)"
   ]
  }
 ],
 "metadata": {
  "kernelspec": {
   "display_name": "Python 3",
   "language": "python",
   "name": "python3"
  },
  "language_info": {
   "codemirror_mode": {
    "name": "ipython",
    "version": 3
   },
   "file_extension": ".py",
   "mimetype": "text/x-python",
   "name": "python",
   "nbconvert_exporter": "python",
   "pygments_lexer": "ipython3",
   "version": "3.7.4"
  }
 },
 "nbformat": 4,
 "nbformat_minor": 2
}
