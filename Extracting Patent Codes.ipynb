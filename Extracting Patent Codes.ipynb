{
 "cells": [
  {
   "cell_type": "markdown",
   "metadata": {},
   "source": [
    "# Filtering by IPC Codes"
   ]
  },
  {
   "cell_type": "markdown",
   "metadata": {},
   "source": [
    "### Filtering tls209_part01 to IPC1.csv"
   ]
  },
  {
   "cell_type": "code",
   "execution_count": null,
   "metadata": {},
   "outputs": [],
   "source": [
    "import pandas as pd\n",
    "fields = ['appln_id', 'ipc_class_symbol'] #extracting unique identifier and IPC code\n",
    "df1 = pd.read_csv('/Volumes/Elements/PATSAT/tls209_part01.csv', skipinitialspace=True, usecols=fields)\n",
    "print(df1.shape)\n",
    "print(df1.dtypes)\n",
    "print(df1.head())\n",
    "df1['ipc_class_symbol'] = df1['ipc_class_symbol'].str.replace(\" \",\"\") #remove spaces\n",
    "print(df1.isnull().sum()) #check for missing values"
   ]
  },
  {
   "cell_type": "code",
   "execution_count": null,
   "metadata": {},
   "outputs": [],
   "source": [
    "filter_list = ['F03D1', 'F03D3', 'F03D5', 'F03D7', 'F03D9', 'F03D11', 'F24J2', 'F03G6', 'E04D13/18', 'H01L27/142', 'H01L31/04','H01L31/05','H01L31/06','H01L 31/08', 'H02N6', 'F03G4', 'F03G7/04', 'F24J3 ', 'E02B9/08', 'F03B13/1','F03B13/2', 'F03G7/05', 'E02B 9', 'F03B3 ', 'F03B 7', 'F03B 13/06', 'F03B 13/07', 'F03B 13/08' 'F03B 15', 'C10L 5/40', 'C10L5/41','C10L5/42','C10L5/43', 'C10L5/44', 'C10L5/45', 'C10L5/46','C10L5/47','C10L5/48', 'F01K25/14', 'F02B43/08', 'F23G5/46', 'C10L1', 'B09B1', 'F01K27', 'F23G5']\n",
    "df1f = df1[df1.ipc_class_symbol.isin(filter_list)]\n",
    "df1f.to_csv('IPC1',index=False)"
   ]
  },
  {
   "cell_type": "markdown",
   "metadata": {},
   "source": [
    "###  Filtering tls209_part02 to IPC2.csv"
   ]
  },
  {
   "cell_type": "code",
   "execution_count": null,
   "metadata": {},
   "outputs": [],
   "source": [
    "import pandas as pd\n",
    "fields = ['appln_id', 'ipc_class_symbol']\n",
    "filter_list = ['F03D1', 'F03D3', 'F03D5', 'F03D7', 'F03D9', 'F03D11', 'F24J2', 'F03G6', 'E04D13/18', 'H01L27/142', 'H01L31/04','H01L31/05','H01L31/06','H01L 31/08', 'H02N6', 'F03G4', 'F03G7/04', 'F24J3 ', 'E02B9/08', 'F03B13/1','F03B13/2', 'F03G7/05', 'E02B 9', 'F03B3 ', 'F03B 7', 'F03B 13/06', 'F03B 13/07', 'F03B 13/08' 'F03B 15', 'C10L 5/40', 'C10L5/41','C10L5/42','C10L5/43', 'C10L5/44', 'C10L5/45', 'C10L5/46','C10L5/47','C10L5/48', 'F01K25/14', 'F02B43/08', 'F23G5/46', 'C10L1', 'B09B1', 'F01K27', 'F23G5']\n",
    "df2 = pd.read_csv('/Volumes/Elements/PATSAT/tls209_part02.csv', skipinitialspace=True, usecols=fields)\n",
    "df2['ipc_class_symbol'] = df2['ipc_class_symbol'].str.replace(\" \",\"\") #remove spaces\n",
    "print(df2.isnull().sum()) #check for missing values\n",
    "print(df2.shape)\n",
    "print(df2.dtypes)\n",
    "print(df2.head())"
   ]
  },
  {
   "cell_type": "code",
   "execution_count": null,
   "metadata": {},
   "outputs": [],
   "source": [
    "df2f = df2[df2.ipc_class_symbol.isin(filter_list)]\n",
    "df2f.to_csv('IPC2',index=False)"
   ]
  },
  {
   "cell_type": "markdown",
   "metadata": {},
   "source": [
    "# Filtering by CPC codes"
   ]
  },
  {
   "cell_type": "markdown",
   "metadata": {},
   "source": [
    "### Filtering to CPC1.csv"
   ]
  },
  {
   "cell_type": "code",
   "execution_count": 18,
   "metadata": {},
   "outputs": [
    {
     "ename": "OSError",
     "evalue": "[Errno 28] No space left on device",
     "output_type": "error",
     "traceback": [
      "\u001b[0;31m---------------------------------------------------------------------------\u001b[0m",
      "\u001b[0;31mOSError\u001b[0m                                   Traceback (most recent call last)",
      "\u001b[0;32m<ipython-input-18-e53ae033bb3a>\u001b[0m in \u001b[0;36m<module>\u001b[0;34m\u001b[0m\n\u001b[1;32m      8\u001b[0m     \u001b[0mvalidid\u001b[0m \u001b[0;34m=\u001b[0m \u001b[0mchunk\u001b[0m\u001b[0;34m[\u001b[0m\u001b[0;34m'cpc_class_symbol'\u001b[0m\u001b[0;34m]\u001b[0m\u001b[0;34m.\u001b[0m\u001b[0mstr\u001b[0m\u001b[0;34m.\u001b[0m\u001b[0mcontains\u001b[0m\u001b[0;34m(\u001b[0m\u001b[0;34m'Y02A|Y02B|Y02C|Y02D|Y02E|Y02P|Y02T|Y02W|Y04S|Y10S|Y10T'\u001b[0m\u001b[0;34m,\u001b[0m \u001b[0mregex\u001b[0m\u001b[0;34m=\u001b[0m\u001b[0;32mTrue\u001b[0m\u001b[0;34m)\u001b[0m\u001b[0;34m\u001b[0m\u001b[0;34m\u001b[0m\u001b[0m\n\u001b[1;32m      9\u001b[0m     \u001b[0mchunk\u001b[0m \u001b[0;34m=\u001b[0m \u001b[0mchunk\u001b[0m\u001b[0;34m[\u001b[0m\u001b[0mvalidid\u001b[0m\u001b[0;34m]\u001b[0m\u001b[0;34m\u001b[0m\u001b[0;34m\u001b[0m\u001b[0m\n\u001b[0;32m---> 10\u001b[0;31m     \u001b[0mchunk\u001b[0m\u001b[0;34m.\u001b[0m\u001b[0mto_csv\u001b[0m\u001b[0;34m(\u001b[0m\u001b[0;34m'df3.csv'\u001b[0m\u001b[0;34m,\u001b[0m \u001b[0mindex\u001b[0m\u001b[0;34m=\u001b[0m\u001b[0;32mFalse\u001b[0m\u001b[0;34m,\u001b[0m \u001b[0mmode\u001b[0m\u001b[0;34m=\u001b[0m\u001b[0;34m'a'\u001b[0m\u001b[0;34m,\u001b[0m \u001b[0mheader\u001b[0m\u001b[0;34m=\u001b[0m\u001b[0mheader\u001b[0m\u001b[0;34m)\u001b[0m\u001b[0;34m\u001b[0m\u001b[0;34m\u001b[0m\u001b[0m\n\u001b[0m\u001b[1;32m     11\u001b[0m     \u001b[0mheader\u001b[0m \u001b[0;34m=\u001b[0m \u001b[0;32mFalse\u001b[0m\u001b[0;34m\u001b[0m\u001b[0;34m\u001b[0m\u001b[0m\n\u001b[1;32m     12\u001b[0m \u001b[0;31m#     print(df3.shape)\u001b[0m\u001b[0;34m\u001b[0m\u001b[0;34m\u001b[0m\u001b[0;34m\u001b[0m\u001b[0m\n",
      "\u001b[0;32m/Library/Frameworks/Python.framework/Versions/3.7/lib/python3.7/site-packages/pandas/core/generic.py\u001b[0m in \u001b[0;36mto_csv\u001b[0;34m(self, path_or_buf, sep, na_rep, float_format, columns, header, index, index_label, mode, encoding, compression, quoting, quotechar, line_terminator, chunksize, date_format, doublequote, escapechar, decimal)\u001b[0m\n\u001b[1;32m   3226\u001b[0m             \u001b[0mdecimal\u001b[0m\u001b[0;34m=\u001b[0m\u001b[0mdecimal\u001b[0m\u001b[0;34m,\u001b[0m\u001b[0;34m\u001b[0m\u001b[0;34m\u001b[0m\u001b[0m\n\u001b[1;32m   3227\u001b[0m         )\n\u001b[0;32m-> 3228\u001b[0;31m         \u001b[0mformatter\u001b[0m\u001b[0;34m.\u001b[0m\u001b[0msave\u001b[0m\u001b[0;34m(\u001b[0m\u001b[0;34m)\u001b[0m\u001b[0;34m\u001b[0m\u001b[0;34m\u001b[0m\u001b[0m\n\u001b[0m\u001b[1;32m   3229\u001b[0m \u001b[0;34m\u001b[0m\u001b[0m\n\u001b[1;32m   3230\u001b[0m         \u001b[0;32mif\u001b[0m \u001b[0mpath_or_buf\u001b[0m \u001b[0;32mis\u001b[0m \u001b[0;32mNone\u001b[0m\u001b[0;34m:\u001b[0m\u001b[0;34m\u001b[0m\u001b[0;34m\u001b[0m\u001b[0m\n",
      "\u001b[0;32m/Library/Frameworks/Python.framework/Versions/3.7/lib/python3.7/site-packages/pandas/io/formats/csvs.py\u001b[0m in \u001b[0;36msave\u001b[0;34m(self)\u001b[0m\n\u001b[1;32m    218\u001b[0m                     \u001b[0mclose\u001b[0m \u001b[0;34m=\u001b[0m \u001b[0;32mTrue\u001b[0m\u001b[0;34m\u001b[0m\u001b[0;34m\u001b[0m\u001b[0m\n\u001b[1;32m    219\u001b[0m             \u001b[0;32mif\u001b[0m \u001b[0mclose\u001b[0m\u001b[0;34m:\u001b[0m\u001b[0;34m\u001b[0m\u001b[0;34m\u001b[0m\u001b[0m\n\u001b[0;32m--> 220\u001b[0;31m                 \u001b[0mf\u001b[0m\u001b[0;34m.\u001b[0m\u001b[0mclose\u001b[0m\u001b[0;34m(\u001b[0m\u001b[0;34m)\u001b[0m\u001b[0;34m\u001b[0m\u001b[0;34m\u001b[0m\u001b[0m\n\u001b[0m\u001b[1;32m    221\u001b[0m                 \u001b[0;32mfor\u001b[0m \u001b[0m_fh\u001b[0m \u001b[0;32min\u001b[0m \u001b[0mhandles\u001b[0m\u001b[0;34m:\u001b[0m\u001b[0;34m\u001b[0m\u001b[0;34m\u001b[0m\u001b[0m\n\u001b[1;32m    222\u001b[0m                     \u001b[0m_fh\u001b[0m\u001b[0;34m.\u001b[0m\u001b[0mclose\u001b[0m\u001b[0;34m(\u001b[0m\u001b[0;34m)\u001b[0m\u001b[0;34m\u001b[0m\u001b[0;34m\u001b[0m\u001b[0m\n",
      "\u001b[0;31mOSError\u001b[0m: [Errno 28] No space left on device"
     ]
    }
   ],
   "source": [
    "import pandas as pd\n",
    "fields = ['appln_id', 'cpc_class_symbol']\n",
    "filter_list = ['Y02A','Y02B','Y02C','Y02D','Y02E','Y02P','Y02T','Y02W','Y04S','Y10S','Y10T']\n",
    "df3 = pd.read_csv('/Volumes/Elements/PATSAT/tls224_part01.csv',skipinitialspace=True, chunksize=5000, header=0,usecols=fields)\n",
    "header = True\n",
    "for chunk in df3:\n",
    "    chunk['cpc_class_symbol'] = chunk['cpc_class_symbol'].str.replace(\" \",\"\") #remove spaces \n",
    "    validid = chunk['cpc_class_symbol'].str.contains('Y02A|Y02B|Y02C|Y02D|Y02E|Y02P|Y02T|Y02W|Y04S|Y10S|Y10T', regex=True)\n",
    "    chunk = chunk[validid]\n",
    "    chunk.to_csv('df3.csv', index=False, mode='a', header=header)\n",
    "    header = False\n",
    "#     print(df3.shape)\n",
    "#     print(df3.dtypes)\n",
    "#     print(df3.isnull().sum()) #check for missing values\n",
    "#     print(df3.head())"
   ]
  },
  {
   "cell_type": "markdown",
   "metadata": {},
   "source": [
    "### Filtering to CPC2.csv"
   ]
  },
  {
   "cell_type": "code",
   "execution_count": null,
   "metadata": {},
   "outputs": [],
   "source": [
    "import pandas as pd\n",
    "fields = ['appln_id', 'cpc_class_symbol']\n",
    "df4 = pd.read_csv('/Volumes/Elements/PATSAT/tls224_part02.csv', skipinitialspace=True, usecols=fields)\n",
    "print(df4.shape)\n",
    "print(df4.dtypes)\n",
    "df4['cpc_class_symbol'] = df4['cpc_class_symbol'].str.replace(\" \",\"\") #remove spaces\n",
    "print(df4.isnull().sum()) #check for missing values\n",
    "print(df4.head())"
   ]
  },
  {
   "cell_type": "code",
   "execution_count": null,
   "metadata": {},
   "outputs": [],
   "source": [
    "filter_list = ['Y02A','Y02B','Y02C','Y02D','Y02E','Y02P','Y02T','Y02W','Y04S','Y10S','Y10T']\n",
    "df4f = df4[df4.cpc_class_symbol.isin(filter_list)]\n",
    "df4f.to_csv('CPC2',index=False)"
   ]
  },
  {
   "cell_type": "code",
   "execution_count": 15,
   "metadata": {},
   "outputs": [
    {
     "name": "stdout",
     "output_type": "stream",
     "text": [
      "     appln_id cpc_class_symbol\n",
      "138        11       Y10T477/60\n",
      "139        11      Y10T477/675\n",
      "175        14       Y02T10/126\n",
      "178        15       Y10S424/13\n",
      "179        15      Y10S514/829\n",
      "180        15      Y10S514/831\n",
      "181        15      Y10S514/886\n",
      "182        15      Y10S514/887\n",
      "183        15      Y10S514/925\n",
      "184        15      Y10S514/928\n",
      "185        15      Y10S514/944\n",
      "186        15      Y10S514/966\n",
      "201        22       Y02D70/122\n",
      "249        29        Y02W30/92\n",
      "250        29        Y02W30/94\n",
      "251        29        Y02W30/95\n",
      "351        45        Y02W30/94\n",
      "444        59     Y10T29/49865\n",
      "445        59    Y10T279/17957\n",
      "446        59     Y10T279/3487\n",
      "447        59       Y10T408/95\n",
      "448        59   Y10T409/308624\n",
      "449        59   Y10T409/309408\n",
      "450        59    Y10T409/30952\n",
      "480        66      Y10T428/218\n",
      "481        66     Y10T428/2962\n",
      "482        66      Y10T442/102\n",
      "483        66      Y10T442/109\n",
      "484        66     Y10T442/3382\n",
      "485        66      Y10T442/339\n",
      "494        70     Y10T29/49339\n",
      "495        70     Y10T29/49622\n",
      "519        76     Y10T74/20462\n",
      "562        91      Y10T29/4935\n",
      "599       100     Y10T428/2395\n",
      "600       100    Y10T428/23986\n",
      "601       100    Y10T428/23993\n",
      "602       100     Y10T442/2508\n",
      "621       103        Y02E20/16\n",
      "640       109     Y10T29/49384\n",
      "641       109     Y10T29/49389\n",
      "642       109     Y10T29/49391\n",
      "643       109     Y10T29/49936\n",
      "644       109    Y10T428/12354\n",
      "645       109    Y10T428/12389\n",
      "680       119     Y10T156/1052\n",
      "681       119     Y10T156/1056\n",
      "682       119     Y10T156/1067\n",
      "683       119     Y10T156/1089\n",
      "697       122      Y10T70/5973\n",
      "706       124        Y02T70/58\n",
      "737       132       Y02A50/482\n",
      "841       146       Y02E10/723\n",
      "842       146       Y02E10/763\n",
      "982       184       Y02A20/104\n",
      "983       184       Y02A20/106\n",
      "984       184       Y02A20/108\n"
     ]
    }
   ],
   "source": [
    "fields = ['appln_id', 'cpc_class_symbol']\n",
    "df3 = pd.read_csv('/Volumes/Elements/PATSAT/tls224_part01.csv', skipinitialspace=True, usecols=fields, nrows=1000)\n",
    "df3['cpc_class_symbol'] = df3['cpc_class_symbol'].str.replace(\" \",\"\")\n",
    "filter_list = ['G06K7/0013','Y02A','Y02B','Y02C','Y02D','Y02E','Y02P','Y02T','Y02W','Y04S','Y10S','Y10T']\n",
    "df3f = df3['cpc_class_symbol'].str.contains('Y02A|Y02B|Y02C|Y02D|Y02E|Y02P|Y02T|Y02W|Y04S|Y10S|Y10T', regex=True)\n",
    "print(df3[df3f])"
   ]
  },
  {
   "cell_type": "code",
   "execution_count": null,
   "metadata": {},
   "outputs": [],
   "source": []
  }
 ],
 "metadata": {
  "kernelspec": {
   "display_name": "Python 3",
   "language": "python",
   "name": "python3"
  },
  "language_info": {
   "codemirror_mode": {
    "name": "ipython",
    "version": 3
   },
   "file_extension": ".py",
   "mimetype": "text/x-python",
   "name": "python",
   "nbconvert_exporter": "python",
   "pygments_lexer": "ipython3",
   "version": "3.7.4"
  }
 },
 "nbformat": 4,
 "nbformat_minor": 2
}
