{
 "cells": [
  {
   "cell_type": "markdown",
   "metadata": {},
   "source": [
    "# Filtering by CPC codes"
   ]
  },
  {
   "cell_type": "markdown",
   "metadata": {},
   "source": [
    "### Filtering to CPC1.csv"
   ]
  },
  {
   "cell_type": "code",
   "execution_count": null,
   "metadata": {},
   "outputs": [],
   "source": [
    "import pandas as pd\n",
    "fields = ['appln_id', 'cpc_class_symbol']\n",
    "filter_list = ['Y02A','Y02B','Y02C','Y02D','Y02E','Y02P','Y02T','Y02W','Y04S','Y10S','Y10T']\n",
    "df3 = pd.read_csv('/Volumes/NJ_4TB/PATSAT/tls224_part01.csv',skipinitialspace=True, chunksize=5000, header=0,usecols=fields)\n",
    "header = True\n",
    "for chunk in df3:\n",
    "    chunk['cpc_class_symbol'] = chunk['cpc_class_symbol'].str.replace(\" \",\"\") #remove spaces \n",
    "    validid = chunk['cpc_class_symbol'].str.contains('Y02A|Y02B|Y02C|Y02D|Y02E|Y02P|Y02T|Y02W|Y04S|Y10S|Y10T', regex=True)\n",
    "    chunk = chunk[validid]\n",
    "    chunk.to_csv('/Volumes/NJ_4TB/PATSAT/MyFiles/CPCcodes_1.csv', index=False, mode='a', header=header)\n",
    "    header = False\n",
    "#     print(df3.shape)\n",
    "#     print(df3.dtypes)\n",
    "#     print(df3.isnull().sum()) #check for missing values\n",
    "#     print(df3.head())"
   ]
  },
  {
   "cell_type": "markdown",
   "metadata": {},
   "source": [
    "### Filtering to CPC2.csv"
   ]
  },
  {
   "cell_type": "code",
   "execution_count": null,
   "metadata": {},
   "outputs": [],
   "source": [
    "import pandas as pd\n",
    "fields = ['appln_id', 'cpc_class_symbol']\n",
    "filter_list = ['Y02A','Y02B','Y02C','Y02D','Y02E','Y02P','Y02T','Y02W','Y04S','Y10S','Y10T']\n",
    "df4 = pd.read_csv('/Volumes/NJ_4TB/PATSAT/tls224_part02.csv',skipinitialspace=True, chunksize=5000, header=0,usecols=fields)\n",
    "header = True\n",
    "for chunk in df4:\n",
    "    chunk['cpc_class_symbol'] = chunk['cpc_class_symbol'].str.replace(\" \",\"\") #remove spaces \n",
    "    validid = chunk['cpc_class_symbol'].str.contains('Y02A|Y02B|Y02C|Y02D|Y02E|Y02P|Y02T|Y02W|Y04S|Y10S|Y10T', regex=True)\n",
    "    chunk = chunk[validid]\n",
    "    chunk.to_csv('/Volumes/NJ_4TB/PATSAT/MyFiles/CPCcodes_2.csv', index=False, mode='a', header=header)\n",
    "    header = False"
   ]
  },
  {
   "cell_type": "code",
   "execution_count": 1,
   "metadata": {},
   "outputs": [
    {
     "data": {
      "text/plain": [
       "38554358"
      ]
     },
     "execution_count": 1,
     "metadata": {},
     "output_type": "execute_result"
    }
   ],
   "source": [
    "import pandas as pd\n",
    "fields = ['appln_id', 'cpc_class_symbol']\n",
    "df3 = pd.read_csv('/Volumes/NJ_4TB/PATSAT/tls224_part01.csv',skipinitialspace=True, header=0,usecols=fields)\n",
    "df3['appln_id'].nunique() #number of unique application ids\n",
    "# 38,554,358"
   ]
  },
  {
   "cell_type": "code",
   "execution_count": 2,
   "metadata": {},
   "outputs": [
    {
     "data": {
      "text/plain": [
       "18320029"
      ]
     },
     "execution_count": 2,
     "metadata": {},
     "output_type": "execute_result"
    }
   ],
   "source": [
    "df4 = pd.read_csv('/Volumes/NJ_4TB/PATSAT/tls224_part02.csv',skipinitialspace=True, header=0,usecols=fields)\n",
    "df4['appln_id'].nunique()\n",
    "# 18,320,029"
   ]
  },
  {
   "cell_type": "code",
   "execution_count": null,
   "metadata": {},
   "outputs": [],
   "source": []
  }
 ],
 "metadata": {
  "kernelspec": {
   "display_name": "Python 3",
   "language": "python",
   "name": "python3"
  },
  "language_info": {
   "codemirror_mode": {
    "name": "ipython",
    "version": 3
   },
   "file_extension": ".py",
   "mimetype": "text/x-python",
   "name": "python",
   "nbconvert_exporter": "python",
   "pygments_lexer": "ipython3",
   "version": "3.7.4"
  }
 },
 "nbformat": 4,
 "nbformat_minor": 2
}
