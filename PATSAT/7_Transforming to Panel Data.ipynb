{
 "cells": [
  {
   "cell_type": "markdown",
   "id": "dd956133",
   "metadata": {},
   "source": [
    "### 1. Total patents \n",
    "### 2. Total Successful Patents\n",
    "### 3. Successful Patents with Family size >=2 "
   ]
  },
  {
   "cell_type": "code",
   "execution_count": 1,
   "id": "bbf4cc13",
   "metadata": {},
   "outputs": [
    {
     "name": "stdout",
     "output_type": "stream",
     "text": [
      "Counting  1_ExTemp\n",
      "Finished in  249.95148420333862\n",
      "Counting  3_Storm\n",
      "Finished in  29.891416788101196\n",
      "Counting  4_Flood\n",
      "Finished in  31.867521047592163\n",
      "Counting  5_Landslide\n",
      "Finished in  19.136115074157715\n",
      "Counting  6_WaveAct\n",
      "Finished in  17.69421625137329\n",
      "Counting  7_Drought\n",
      "Finished in  180.7941930294037\n",
      "Counting  9_Wildfire\n",
      "Finished in  24.14602518081665\n",
      "Counting  Adapt\n",
      "Finished in  1522.449304819107\n",
      "Counting  Build\n",
      "Finished in  1507.4630630016327\n",
      "Counting  Sequester\n",
      "Finished in  77.8200249671936\n",
      "Counting  ICT\n",
      "Finished in  292.88223218917847\n",
      "Counting  Geo\n",
      "Finished in  11.801356792449951\n",
      "Counting  Hydro\n",
      "Finished in  299.24336409568787\n",
      "Counting  Ocean\n",
      "Finished in  37.88416528701782\n",
      "Counting  Solar-T\n",
      "Finished in  222.4328100681305\n",
      "Counting  PV\n",
      "Finished in  403.99444699287415\n",
      "Counting  Thermal-PV\n",
      "Finished in  6.602499008178711\n",
      "Counting  Wind\n",
      "Finished in  224.3847689628601\n",
      "Counting  Combust\n",
      "Finished in  103.76121282577515\n",
      "Counting  Fusion\n",
      "Finished in  8.689187049865723\n",
      "Counting  Fission\n",
      "Finished in  26.33724093437195\n",
      "Counting  Electric\n",
      "Finished in  68.86807775497437\n",
      "Counting  Biofuel\n",
      "Finished in  108.76870918273926\n",
      "Counting  Waste\n",
      "Finished in  917.4971678256989\n",
      "Counting  Store- B\n",
      "Finished in  0.24604415893554688\n",
      "Counting  Store - C\n",
      "Finished in  42.081294775009155\n",
      "Counting  Store- T\n",
      "Finished in  33.99420213699341\n",
      "Counting  Store- M\n",
      "Finished in  6.554275751113892\n",
      "Counting  Hydrogen\n",
      "Finished in  164.8139100074768\n",
      "Counting  Other-1\n",
      "Finished in  5.053795099258423\n",
      "Counting  Other-3\n",
      "Finished in  11.255017042160034\n",
      "Counting  Processing\n",
      "Finished in  3116.812530040741\n"
     ]
    },
    {
     "name": "stderr",
     "output_type": "stream",
     "text": [
      "/Users/nitashajhala/opt/anaconda3/lib/python3.9/site-packages/IPython/core/interactiveshell.py:3444: DtypeWarning: Columns (3) have mixed types.Specify dtype option on import or set low_memory=False.\n",
      "  exec(code_obj, self.user_global_ns, self.user_ns)\n"
     ]
    },
    {
     "name": "stdout",
     "output_type": "stream",
     "text": [
      "Counting  Transport\n",
      "Finished in  2215.260589838028\n",
      "Counting  Wastewater\n",
      "Finished in  937.0148479938507\n",
      "Counting  SmrtGrds\n",
      "Finished in  125.75765228271484\n",
      "Counting  Nuclear\n",
      "Finished in  82.19306492805481\n",
      "Counting  Non-Fossil\n",
      "Finished in  0.4005570411682129\n",
      "Counting  Enable\n",
      "Finished in  194.3362832069397\n",
      "Counting  Other-4\n"
     ]
    },
    {
     "ename": "KeyboardInterrupt",
     "evalue": "",
     "output_type": "error",
     "traceback": [
      "\u001b[0;31m---------------------------------------------------------------------------\u001b[0m",
      "\u001b[0;31mKeyboardInterrupt\u001b[0m                         Traceback (most recent call last)",
      "\u001b[0;32m/var/folders/m0/n45yndhx6rd3g0r9yzrc6k300000gn/T/ipykernel_6049/3807577874.py\u001b[0m in \u001b[0;36m<module>\u001b[0;34m\u001b[0m\n\u001b[1;32m     26\u001b[0m             \u001b[0mcount\u001b[0m \u001b[0;34m=\u001b[0m \u001b[0msum\u001b[0m\u001b[0;34m(\u001b[0m\u001b[0mpatent_country_idx\u001b[0m\u001b[0;34m)\u001b[0m\u001b[0;34m\u001b[0m\u001b[0;34m\u001b[0m\u001b[0m\n\u001b[1;32m     27\u001b[0m             \u001b[0mgranted_count\u001b[0m \u001b[0;34m=\u001b[0m \u001b[0msum\u001b[0m\u001b[0;34m(\u001b[0m\u001b[0mpatent_country_idx\u001b[0m \u001b[0;34m&\u001b[0m \u001b[0;34m(\u001b[0m\u001b[0mdf1\u001b[0m\u001b[0;34m[\u001b[0m\u001b[0;34m'granted'\u001b[0m\u001b[0;34m]\u001b[0m \u001b[0;34m==\u001b[0m \u001b[0;34m'Y'\u001b[0m\u001b[0;34m)\u001b[0m\u001b[0;34m)\u001b[0m\u001b[0;34m\u001b[0m\u001b[0;34m\u001b[0m\u001b[0m\n\u001b[0;32m---> 28\u001b[0;31m             \u001b[0mgranted_family_ge_2\u001b[0m \u001b[0;34m=\u001b[0m \u001b[0msum\u001b[0m\u001b[0;34m(\u001b[0m\u001b[0mpatent_country_idx\u001b[0m \u001b[0;34m&\u001b[0m \u001b[0;34m(\u001b[0m\u001b[0mdf1\u001b[0m\u001b[0;34m[\u001b[0m\u001b[0;34m'granted'\u001b[0m\u001b[0;34m]\u001b[0m \u001b[0;34m==\u001b[0m \u001b[0;34m'Y'\u001b[0m\u001b[0;34m)\u001b[0m \u001b[0;34m&\u001b[0m \u001b[0;34m(\u001b[0m\u001b[0mdf1\u001b[0m\u001b[0;34m[\u001b[0m\u001b[0;34m'docdb_family_size'\u001b[0m\u001b[0;34m]\u001b[0m \u001b[0;34m>=\u001b[0m\u001b[0;36m2\u001b[0m \u001b[0;34m)\u001b[0m\u001b[0;34m)\u001b[0m\u001b[0;34m\u001b[0m\u001b[0;34m\u001b[0m\u001b[0m\n\u001b[0m\u001b[1;32m     29\u001b[0m             \u001b[0mis_country_chosen\u001b[0m \u001b[0;34m=\u001b[0m \u001b[0mis_country_chosen\u001b[0m \u001b[0;34m|\u001b[0m \u001b[0;34m(\u001b[0m\u001b[0mgranted_count\u001b[0m \u001b[0;34m>=\u001b[0m \u001b[0;36m5\u001b[0m\u001b[0;34m)\u001b[0m\u001b[0;34m\u001b[0m\u001b[0;34m\u001b[0m\u001b[0m\n\u001b[1;32m     30\u001b[0m             \u001b[0mlist_for_country\u001b[0m\u001b[0;34m.\u001b[0m\u001b[0mappend\u001b[0m\u001b[0;34m(\u001b[0m\u001b[0;34m{\u001b[0m\u001b[0;34m'country'\u001b[0m\u001b[0;34m:\u001b[0m \u001b[0mcountry\u001b[0m\u001b[0;34m,\u001b[0m \u001b[0;34m'year'\u001b[0m\u001b[0;34m:\u001b[0m \u001b[0myear\u001b[0m\u001b[0;34m,\u001b[0m \u001b[0;34m'total_count'\u001b[0m\u001b[0;34m:\u001b[0m \u001b[0mcount\u001b[0m\u001b[0;34m,\u001b[0m \u001b[0;34m'granted_count'\u001b[0m\u001b[0;34m:\u001b[0m \u001b[0mgranted_count\u001b[0m \u001b[0;34m,\u001b[0m \u001b[0;34m'granted_family_ge_2_count'\u001b[0m\u001b[0;34m:\u001b[0m \u001b[0mgranted_family_ge_2\u001b[0m \u001b[0;34m}\u001b[0m\u001b[0;34m)\u001b[0m\u001b[0;34m\u001b[0m\u001b[0;34m\u001b[0m\u001b[0m\n",
      "\u001b[0;31mKeyboardInterrupt\u001b[0m: "
     ]
    }
   ],
   "source": [
    "import pandas as pd\n",
    "import numpy as np\n",
    "import time\n",
    "\n",
    "Category = ['1_ExTemp', '3_Storm', '4_Flood', '5_Landslide', '6_WaveAct', '7_Drought', '9_Wildfire', 'Adapt','Build','Sequester', 'ICT', 'Geo', 'Hydro', 'Ocean', 'Solar-T', 'PV', 'Thermal-PV', 'Wind', 'Combust', 'Fusion', 'Fission', 'Electric', 'Biofuel', 'Waste', 'Store- B', 'Store - C', 'Store- T', 'Store- M', 'Hydrogen', 'Other-1', 'Other-3', 'Processing', 'Transport', 'Wastewater', 'SmrtGrds', 'Nuclear', 'Non-Fossil', 'Enable', 'Other-4', 'Other-5','Other-6']\n",
    "for c in Category:\n",
    "    df1 = pd.read_csv('/Volumes/NJ_4TB/PATSAT/MyFiles/' + c + '_everything.csv', skipinitialspace=True, header=0)\n",
    "    df1.loc[df1.appln_filing_year == 9999] = np.NaN\n",
    "    df1.dropna(subset=['appln_filing_year'], inplace=True)\n",
    "\n",
    "    countries = pd.unique( pd.concat([df1['person_ctry_code'],df1['person_ctry_code.1'],df1['person_ctry_code.2'],df1['person_ctry_code.3'],df1['person_ctry_code.4']]))\n",
    "\n",
    "\n",
    "    years = pd.unique(df1['appln_filing_year'])\n",
    "    start_year = 1985\n",
    "    end_year = years.max()\n",
    "    start_time = time.time()\n",
    "        \n",
    "    print('Counting ', c)\n",
    "    list_of_points = []\n",
    "    for country in countries:\n",
    "        is_country_chosen = False\n",
    "        list_for_country = []\n",
    "        for year in range(int(start_year), int(end_year) + 1):\n",
    "            patent_country_idx = ([(df1['appln_filing_year'] == year) & ((df1['person_ctry_code'] == country) | (df1['person_ctry_code.1'] == country) | (df1['person_ctry_code.2'] == country) | (df1['person_ctry_code.3'] == country) | (df1['person_ctry_code.4'] == country))][0])\n",
    "            count = sum(patent_country_idx)\n",
    "            granted_count = sum(patent_country_idx & (df1['granted'] == 'Y'))\n",
    "            granted_family_ge_2 = sum(patent_country_idx & (df1['granted'] == 'Y') & (df1['docdb_family_size'] >=2 ))\n",
    "            is_country_chosen = is_country_chosen | (granted_count >= 5)\n",
    "            list_for_country.append({'country': country, 'year': year, 'total_count': count, 'granted_count': granted_count , 'granted_family_ge_2_count': granted_family_ge_2 })\n",
    "        if is_country_chosen:\n",
    "            list_of_points = list_of_points + list_for_country\n",
    "    df_panel = pd.DataFrame.from_records(list_of_points)\n",
    "    df_panel.to_csv('/Volumes/NJ_4TB/PATSAT/MyFiles/' + c + '_panel.csv', encoding='utf-8', index=False)\n",
    "    del df1, df_panel\n",
    "    print(\"Finished in \", time.time() - start_time)\n",
    "    \n",
    "\n",
    "\n",
    "\n",
    "\n"
   ]
  },
  {
   "cell_type": "markdown",
   "id": "5158772c",
   "metadata": {},
   "source": [
    "### Triadic Patents"
   ]
  },
  {
   "cell_type": "code",
   "execution_count": null,
   "id": "4b297ca4",
   "metadata": {},
   "outputs": [],
   "source": [
    "#not right now"
   ]
  }
 ],
 "metadata": {
  "kernelspec": {
   "display_name": "Python 3 (ipykernel)",
   "language": "python",
   "name": "python3"
  },
  "language_info": {
   "codemirror_mode": {
    "name": "ipython",
    "version": 3
   },
   "file_extension": ".py",
   "mimetype": "text/x-python",
   "name": "python",
   "nbconvert_exporter": "python",
   "pygments_lexer": "ipython3",
   "version": "3.9.7"
  }
 },
 "nbformat": 4,
 "nbformat_minor": 5
}
