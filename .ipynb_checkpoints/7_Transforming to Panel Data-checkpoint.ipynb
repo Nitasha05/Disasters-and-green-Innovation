{
 "cells": [
  {
   "cell_type": "code",
   "execution_count": 3,
   "id": "622078ff",
   "metadata": {},
   "outputs": [
    {
     "ename": "NameError",
     "evalue": "name 'time' is not defined",
     "output_type": "error",
     "traceback": [
      "\u001b[0;31m---------------------------------------------------------------------------\u001b[0m",
      "\u001b[0;31mNameError\u001b[0m                                 Traceback (most recent call last)",
      "\u001b[0;32m/var/folders/m0/n45yndhx6rd3g0r9yzrc6k300000gn/T/ipykernel_93138/1666554970.py\u001b[0m in \u001b[0;36m<module>\u001b[0;34m\u001b[0m\n\u001b[1;32m     17\u001b[0m     \u001b[0mlist_of_points\u001b[0m \u001b[0;34m=\u001b[0m \u001b[0;34m[\u001b[0m\u001b[0;34m]\u001b[0m\u001b[0;34m\u001b[0m\u001b[0;34m\u001b[0m\u001b[0m\n\u001b[1;32m     18\u001b[0m     \u001b[0;32mfor\u001b[0m \u001b[0mcountry\u001b[0m \u001b[0;32min\u001b[0m \u001b[0mcountries\u001b[0m\u001b[0;34m:\u001b[0m\u001b[0;34m\u001b[0m\u001b[0;34m\u001b[0m\u001b[0m\n\u001b[0;32m---> 19\u001b[0;31m         \u001b[0mstart_time\u001b[0m \u001b[0;34m=\u001b[0m \u001b[0mtime\u001b[0m\u001b[0;34m.\u001b[0m\u001b[0mtime\u001b[0m\u001b[0;34m(\u001b[0m\u001b[0;34m)\u001b[0m\u001b[0;34m\u001b[0m\u001b[0;34m\u001b[0m\u001b[0m\n\u001b[0m\u001b[1;32m     20\u001b[0m         \u001b[0mprint\u001b[0m\u001b[0;34m(\u001b[0m\u001b[0;34m'Counting '\u001b[0m\u001b[0;34m,\u001b[0m \u001b[0mcountry\u001b[0m\u001b[0;34m)\u001b[0m\u001b[0;34m\u001b[0m\u001b[0;34m\u001b[0m\u001b[0m\n\u001b[1;32m     21\u001b[0m         \u001b[0;32mfor\u001b[0m \u001b[0myear\u001b[0m \u001b[0;32min\u001b[0m \u001b[0mrange\u001b[0m\u001b[0;34m(\u001b[0m\u001b[0mint\u001b[0m\u001b[0;34m(\u001b[0m\u001b[0mstart_year\u001b[0m\u001b[0;34m)\u001b[0m\u001b[0;34m,\u001b[0m \u001b[0mint\u001b[0m\u001b[0;34m(\u001b[0m\u001b[0mend_year\u001b[0m\u001b[0;34m)\u001b[0m \u001b[0;34m+\u001b[0m \u001b[0;36m1\u001b[0m\u001b[0;34m)\u001b[0m\u001b[0;34m:\u001b[0m\u001b[0;34m\u001b[0m\u001b[0;34m\u001b[0m\u001b[0m\n",
      "\u001b[0;31mNameError\u001b[0m: name 'time' is not defined"
     ]
    }
   ],
   "source": [
    "import pandas as pd\n",
    "import numpy as np\n",
    "\n",
    "Category = ['1_ExTemp', '3_Storm', '4_Flood', '5_Landslide', '6_WaveAct', '7_Drought', '9_Wildfire', 'Adapt','Build','Sequester', 'ICT', 'Geo', 'Hydro', 'Ocean', 'Solar-T', 'PV', 'Thermal-PV', 'Wind', 'Combust', 'Fusion', 'Fission', 'Electric', 'Biofuel', 'Waste', 'Store- B', 'Store - C', 'Store- T', 'Store- M', 'Hydrogen', 'Other-1', 'Other-3', 'Processing', 'Transport', 'Wastewater', 'SmrtGrds', 'Other-4', 'Other-5', 'Nuclear', 'Non-Fossil', 'Enable','Other-6']\n",
    "for c in Category:\n",
    "    df1 = pd.read_csv('/Volumes/NJ_4TB/PATSAT/MyFiles/' + c + '_everything.csv', skipinitialspace=True, header=0)\n",
    "    df1.loc[df1.appln_filing_year == 9999] = np.NaN\n",
    "    df1.dropna(subset=['appln_filing_year'], inplace=True)\n",
    "\n",
    "    countries = pd.unique( pd.concat([df1['person_ctry_code'],df1['person_ctry_code.1'],df1['person_ctry_code.2'],df1['person_ctry_code.3'],df1['person_ctry_code.4']]))\n",
    "\n",
    "\n",
    "    years = pd.unique(df1['appln_filing_year'])\n",
    "    start_year = 1985\n",
    "    end_year = years.max()\n",
    "    start_time = time.time()\n",
    "        \n",
    "    print('Counting ', c)\n",
    "    list_of_points = []\n",
    "    for country in countries:\n",
    "        for year in range(int(start_year), int(end_year) + 1):\n",
    "            count = sum([(df1['appln_filing_year'] == year) & ((df1['person_ctry_code'] == country) | (df1['person_ctry_code.1'] == country) | (df1['person_ctry_code.2'] == country) | (df1['person_ctry_code.3'] == country) | (df1['person_ctry_code.4'] == country))][0])\n",
    "            list_of_points.append({'country': country, 'year': year, 'count': count })\n",
    "    df_counts = pd.DataFrame.from_records(list_of_points)\n",
    "    df_counts.to_csv('/Volumes/NJ_4TB/PATSAT/MyFiles/' + c + '_panel.csv', encoding='utf-8', index=False)\n",
    "    del df1, df_counts\n",
    "    print(\"Finished in \", time.time() - start_time)\n",
    "    \n",
    "\n",
    "\n",
    "\n",
    "\n"
   ]
  },
  {
   "cell_type": "code",
   "execution_count": null,
   "id": "7fc8c7ee",
   "metadata": {},
   "outputs": [],
   "source": []
  }
 ],
 "metadata": {
  "kernelspec": {
   "display_name": "Python 3 (ipykernel)",
   "language": "python",
   "name": "python3"
  },
  "language_info": {
   "codemirror_mode": {
    "name": "ipython",
    "version": 3
   },
   "file_extension": ".py",
   "mimetype": "text/x-python",
   "name": "python",
   "nbconvert_exporter": "python",
   "pygments_lexer": "ipython3",
   "version": "3.9.7"
  }
 },
 "nbformat": 4,
 "nbformat_minor": 5
}
