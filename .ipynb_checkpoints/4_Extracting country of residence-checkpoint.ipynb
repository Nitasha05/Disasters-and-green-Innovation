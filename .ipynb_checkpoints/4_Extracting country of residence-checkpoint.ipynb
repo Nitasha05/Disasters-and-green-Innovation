{
 "cells": [
  {
   "cell_type": "code",
   "execution_count": null,
   "metadata": {},
   "outputs": [],
   "source": [
    "import pandas as pd\n",
    "df1 = pd.read_csv('/Volumes/NJ_4TB/PATSAT/tls207_part01.csv',skipinitialspace=True, header=0)\n",
    "df1['appln_id'].nunique()\n",
    "#84,076,043"
   ]
  },
  {
   "cell_type": "code",
   "execution_count": null,
   "metadata": {},
   "outputs": [],
   "source": [
    "df1['person_id'].nunique()\n",
    "#61,558,031"
   ]
  },
  {
   "cell_type": "markdown",
   "metadata": {},
   "source": [
    "~84 million unique applications have persons associated with them, and ~62 million unique persons have contributed to the dataset"
   ]
  },
  {
   "cell_type": "markdown",
   "metadata": {},
   "source": [
    "### Filter Inventors by Application id"
   ]
  },
  {
   "cell_type": "code",
   "execution_count": null,
   "metadata": {},
   "outputs": [],
   "source": [
    "import pandas as pd\n",
    "import numpy as np\n",
    "df2 = pd.read_csv('/Volumes/NJ_4TB/PATSAT/MyFiles/Adapt.csv',skipinitialspace=True, usecols ='appln_id')\n",
    "ids = df2.values.tolist()\n",
    "fields = ['person_id', 'appln_id']\n",
    "df3 = pd.read_csv('/Volumes/NJ_4TB/PATSAT/tls207_part01.csv',skipinitialspace=True, chunksize=5000, header=0,usecols=fields)\n",
    "header = True\n",
    "for chunk in df3:\n",
    "    validid = chunk['appln_id'].str.contains(ids, regex=True)\n",
    "    chunk = chunk[validid]\n",
    "    chunk.to_csv('/Volumes/NJ_4TB/PATSAT/MyFiles/CPCcodes_1.csv', index=False, mode='a', header=header)\n",
    "    header = False"
   ]
  }
 ],
 "metadata": {
  "kernelspec": {
   "display_name": "Python 3",
   "language": "python",
   "name": "python3"
  },
  "language_info": {
   "codemirror_mode": {
    "name": "ipython",
    "version": 3
   },
   "file_extension": ".py",
   "mimetype": "text/x-python",
   "name": "python",
   "nbconvert_exporter": "python",
   "pygments_lexer": "ipython3",
   "version": "3.7.4"
  }
 },
 "nbformat": 4,
 "nbformat_minor": 2
}
