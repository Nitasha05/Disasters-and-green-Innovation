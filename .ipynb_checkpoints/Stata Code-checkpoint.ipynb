{
 "cells": [
  {
   "cell_type": "markdown",
   "id": "54d196d0",
   "metadata": {},
   "source": [
    "# Using Deaths as main regressor"
   ]
  },
  {
   "cell_type": "code",
   "execution_count": 73,
   "id": "53dbba73",
   "metadata": {},
   "outputs": [
    {
     "name": "stdout",
     "output_type": "stream",
     "text": [
      "lab var country \"Country\"\n",
      "lab var total_damages_adj \"Damages\"\n"
     ]
    },
    {
     "ename": "TypeError",
     "evalue": "can only concatenate str (not \"int\") to str",
     "output_type": "error",
     "traceback": [
      "\u001b[0;31m---------------------------------------------------------------------------\u001b[0m",
      "\u001b[0;31mTypeError\u001b[0m                                 Traceback (most recent call last)",
      "\u001b[0;32m/var/folders/m0/n45yndhx6rd3g0r9yzrc6k300000gn/T/ipykernel_29752/3232289919.py\u001b[0m in \u001b[0;36m<module>\u001b[0;34m\u001b[0m\n\u001b[1;32m     67\u001b[0m             \u001b[0mprint\u001b[0m \u001b[0;34m(\u001b[0m\u001b[0;34m'\\nestadd r(estimate)'\u001b[0m\u001b[0;34m,\u001b[0m \u001b[0mfile\u001b[0m\u001b[0;34m=\u001b[0m\u001b[0mf\u001b[0m\u001b[0;34m)\u001b[0m\u001b[0;34m\u001b[0m\u001b[0;34m\u001b[0m\u001b[0m\n\u001b[1;32m     68\u001b[0m         \u001b[0mprint\u001b[0m\u001b[0;34m(\u001b[0m\u001b[0;34m'esttab, b(3) se(3) nomtitle label star(* 0.10 ** 0.05 *** 0.01)'\u001b[0m\u001b[0;34m,\u001b[0m \u001b[0mfile\u001b[0m\u001b[0;34m=\u001b[0m\u001b[0mf\u001b[0m\u001b[0;34m)\u001b[0m\u001b[0;34m\u001b[0m\u001b[0;34m\u001b[0m\u001b[0m\n\u001b[0;32m---> 69\u001b[0;31m         \u001b[0mprint\u001b[0m \u001b[0;34m(\u001b[0m\u001b[0;34m'esttab using \"'\u001b[0m\u001b[0;34m+\u001b[0m\u001b[0ma\u001b[0m\u001b[0;34m+\u001b[0m\u001b[0mg\u001b[0m\u001b[0;34m+\u001b[0m\u001b[0;34m'.tex\", keep('\u001b[0m\u001b[0;34m+\u001b[0m\u001b[0mg\u001b[0m\u001b[0;34m.\u001b[0m\u001b[0mlower\u001b[0m\u001b[0;34m(\u001b[0m\u001b[0;34m)\u001b[0m\u001b[0;34m.\u001b[0m\u001b[0mreplace\u001b[0m\u001b[0;34m(\u001b[0m\u001b[0;34m'1'\u001b[0m\u001b[0;34m,\u001b[0m\u001b[0;34m''\u001b[0m\u001b[0;34m)\u001b[0m\u001b[0;34m.\u001b[0m\u001b[0mreplace\u001b[0m\u001b[0;34m(\u001b[0m\u001b[0;34m'3'\u001b[0m\u001b[0;34m,\u001b[0m\u001b[0;34m''\u001b[0m\u001b[0;34m)\u001b[0m\u001b[0;34m.\u001b[0m\u001b[0mreplace\u001b[0m\u001b[0;34m(\u001b[0m\u001b[0;34m'4'\u001b[0m\u001b[0;34m,\u001b[0m\u001b[0;34m''\u001b[0m\u001b[0;34m)\u001b[0m\u001b[0;34m.\u001b[0m\u001b[0mreplace\u001b[0m\u001b[0;34m(\u001b[0m\u001b[0;34m'5'\u001b[0m\u001b[0;34m,\u001b[0m\u001b[0;34m''\u001b[0m\u001b[0;34m)\u001b[0m\u001b[0;34m.\u001b[0m\u001b[0mreplace\u001b[0m\u001b[0;34m(\u001b[0m\u001b[0;34m'7'\u001b[0m\u001b[0;34m,\u001b[0m\u001b[0;34m''\u001b[0m\u001b[0;34m)\u001b[0m\u001b[0;34m.\u001b[0m\u001b[0mreplace\u001b[0m\u001b[0;34m(\u001b[0m\u001b[0;34m'9'\u001b[0m\u001b[0;34m,\u001b[0m\u001b[0;34m''\u001b[0m\u001b[0;34m)\u001b[0m\u001b[0;34m.\u001b[0m\u001b[0mreplace\u001b[0m\u001b[0;34m(\u001b[0m\u001b[0;34m'_'\u001b[0m\u001b[0;34m,\u001b[0m\u001b[0;34m''\u001b[0m\u001b[0;34m)\u001b[0m\u001b[0;34m+\u001b[0m\u001b[0;34m'_k_stock gdp_per_capita polity control_total_patents _'\u001b[0m\u001b[0;34m+\u001b[0m\u001b[0ma\u001b[0m\u001b[0;34m.\u001b[0m\u001b[0mlower\u001b[0m\u001b[0;34m(\u001b[0m\u001b[0;34m)\u001b[0m\u001b[0;34m.\u001b[0m\u001b[0mreplace\u001b[0m\u001b[0;34m(\u001b[0m\u001b[0;34m'1'\u001b[0m\u001b[0;34m,\u001b[0m\u001b[0;34m''\u001b[0m\u001b[0;34m)\u001b[0m\u001b[0;34m.\u001b[0m\u001b[0mreplace\u001b[0m\u001b[0;34m(\u001b[0m\u001b[0;34m'3'\u001b[0m\u001b[0;34m,\u001b[0m\u001b[0;34m''\u001b[0m\u001b[0;34m)\u001b[0m\u001b[0;34m.\u001b[0m\u001b[0mreplace\u001b[0m\u001b[0;34m(\u001b[0m\u001b[0;34m'4'\u001b[0m\u001b[0;34m,\u001b[0m\u001b[0;34m''\u001b[0m\u001b[0;34m)\u001b[0m\u001b[0;34m.\u001b[0m\u001b[0mreplace\u001b[0m\u001b[0;34m(\u001b[0m\u001b[0;34m'5'\u001b[0m\u001b[0;34m,\u001b[0m\u001b[0;34m''\u001b[0m\u001b[0;34m)\u001b[0m\u001b[0;34m.\u001b[0m\u001b[0mreplace\u001b[0m\u001b[0;34m(\u001b[0m\u001b[0;34m'7'\u001b[0m\u001b[0;34m,\u001b[0m\u001b[0;34m''\u001b[0m\u001b[0;34m)\u001b[0m\u001b[0;34m.\u001b[0m\u001b[0mreplace\u001b[0m\u001b[0;34m(\u001b[0m\u001b[0;34m'9'\u001b[0m\u001b[0;34m,\u001b[0m\u001b[0;34m''\u001b[0m\u001b[0;34m)\u001b[0m\u001b[0;34m.\u001b[0m\u001b[0mreplace\u001b[0m\u001b[0;34m(\u001b[0m\u001b[0;34m'_'\u001b[0m\u001b[0;34m,\u001b[0m\u001b[0;34m''\u001b[0m\u001b[0;34m)\u001b[0m\u001b[0;34m+\u001b[0m\u001b[0;34m'_k_stock total_deaths total_deaths_1 total_deaths_2 total_deaths_3 total_deaths_4 total_deaths_5 total_deaths_6 total_deaths_7 total_deaths_8 total_deaths_9 total_deaths_10 total_deaths_11 total_deaths_12 total_deaths_13 total_deaths_14 total_deaths_15) replace b(3) se(3) nomtitle label star(* 0.10 ** 0.05 *** 0.01) booktabs alignment(D{.}{.}{-1}) title(Sensitivity Analysis : '\u001b[0m\u001b[0;34m+\u001b[0m\u001b[0mg\u001b[0m\u001b[0;34m+\u001b[0m\u001b[0;34m' patents against'\u001b[0m\u001b[0;34m+\u001b[0m\u001b[0ma\u001b[0m\u001b[0;34m.\u001b[0m\u001b[0mreplace\u001b[0m\u001b[0;34m(\u001b[0m\u001b[0;34m'1'\u001b[0m\u001b[0;34m,\u001b[0m\u001b[0;34m''\u001b[0m\u001b[0;34m)\u001b[0m\u001b[0;34m.\u001b[0m\u001b[0mreplace\u001b[0m\u001b[0;34m(\u001b[0m\u001b[0;34m'3'\u001b[0m\u001b[0;34m,\u001b[0m\u001b[0;34m''\u001b[0m\u001b[0;34m)\u001b[0m\u001b[0;34m.\u001b[0m\u001b[0mreplace\u001b[0m\u001b[0;34m(\u001b[0m\u001b[0;34m'4'\u001b[0m\u001b[0;34m,\u001b[0m\u001b[0;34m''\u001b[0m\u001b[0;34m)\u001b[0m\u001b[0;34m.\u001b[0m\u001b[0mreplace\u001b[0m\u001b[0;34m(\u001b[0m\u001b[0;34m'5'\u001b[0m\u001b[0;34m,\u001b[0m\u001b[0;34m''\u001b[0m\u001b[0;34m)\u001b[0m\u001b[0;34m.\u001b[0m\u001b[0mreplace\u001b[0m\u001b[0;34m(\u001b[0m\u001b[0;34m'7'\u001b[0m\u001b[0;34m,\u001b[0m\u001b[0;34m''\u001b[0m\u001b[0;34m)\u001b[0m\u001b[0;34m.\u001b[0m\u001b[0mreplace\u001b[0m\u001b[0;34m(\u001b[0m\u001b[0;34m'9'\u001b[0m\u001b[0;34m,\u001b[0m\u001b[0;34m''\u001b[0m\u001b[0;34m)\u001b[0m\u001b[0;34m.\u001b[0m\u001b[0mreplace\u001b[0m\u001b[0;34m(\u001b[0m\u001b[0;34m'_'\u001b[0m\u001b[0;34m,\u001b[0m\u001b[0;34m''\u001b[0m\u001b[0;34m)\u001b[0m\u001b[0;34m+\u001b[0m \u001b[0;34m'(Deaths) table \\label{reg'\u001b[0m\u001b[0;34m+\u001b[0m\u001b[0mr\u001b[0m\u001b[0;34m+\u001b[0m\u001b[0;34m'}) addnotes(\"Notes\") scalar(F estimate)'\u001b[0m\u001b[0;34m,\u001b[0m \u001b[0mfile\u001b[0m\u001b[0;34m=\u001b[0m\u001b[0mf\u001b[0m\u001b[0;34m)\u001b[0m\u001b[0;34m\u001b[0m\u001b[0;34m\u001b[0m\u001b[0m\n\u001b[0m\u001b[1;32m     70\u001b[0m         \u001b[0mr\u001b[0m \u001b[0;34m=\u001b[0m \u001b[0mr\u001b[0m \u001b[0;34m+\u001b[0m \u001b[0;36m1\u001b[0m\u001b[0;34m\u001b[0m\u001b[0;34m\u001b[0m\u001b[0m\n\u001b[1;32m     71\u001b[0m     \u001b[0mf\u001b[0m\u001b[0;34m.\u001b[0m\u001b[0mclose\u001b[0m\u001b[0;34m(\u001b[0m\u001b[0;34m)\u001b[0m\u001b[0;34m\u001b[0m\u001b[0;34m\u001b[0m\u001b[0m\n",
      "\u001b[0;31mTypeError\u001b[0m: can only concatenate str (not \"int\") to str"
     ]
    }
   ],
   "source": [
    "Adapt = ['1_ExTemp', '3_Storm', '4_Flood', '5_Landslide', '7_Drought', '9_Wildfire']\n",
    "Green  = ['Build','Sequester', 'ICT', 'Geo', 'Hydro', 'Ocean', 'Solar-T', 'PV', 'Thermal-PV', 'Wind', 'Combust', 'Fusion', 'Fission', 'Electric', 'Biofuel', 'Waste', 'Store- B', 'Store - C', 'Store- T', 'Store- M', 'Hydrogen', 'Processing', 'Transport', 'Wastewater', 'SmrtGrds', 'Nuclear', 'Non-Fossil', 'Enable',  'Other-1', 'Other-3']#, 'Other-5','Other-6', 'Other-4']\n",
    "r=1   \n",
    "for a in Adapt:\n",
    "    f = open(str(a)+\"_Deaths_Stata.txt\", \"a\")\n",
    "    for g in Green:\n",
    "        print ('Stata '+g,file=f)\n",
    "        print ('ssc install estout, replace',file=f)\n",
    "        print ('import delimited \"/Users/nitashajhala/Downloads/Regressions/'+g+'_'+ a+'_panel_combined.csv\"', file=f)\n",
    "        print ('destring gdp_per_capita, replace force float', file=f)\n",
    "        print ('egen panelvar = group(country)', file=f)\n",
    "        print ('xtset panelvar', file=f)\n",
    "        print ('lab var country \"Country\"')\n",
    "        print ('lab var gdp_per_capita \"log GDP per capita\"', file=f)\n",
    "        print ('lab var polity \"Institution index\"', file=f)\n",
    "        print ('lab var control_total_patents \"log Total country patents (t)\"', file=f)\n",
    "        print ('lab var total_deaths \"Deaths\"', file=f)\n",
    "        print ('lab var total_damages_adj \"Damages\"')\n",
    "        print ('lab var total_affected \"Total Affected\"', file=f)\n",
    "        print ('lab var '+g.lower().replace('1','').replace('3','').replace('4','').replace('5','').replace('7','').replace('9','').replace('_','')+'_total_count \"Total '+ g +' Patents\"', file=f)\n",
    "        print ('lab var '+g.lower().replace('1','').replace('3','').replace('4','').replace('5','').replace('7','').replace('9','').replace('_','')+'_granted_count \"'+g+' Patents (granted)\"', file=f)\n",
    "        print ('lab var '+g.lower().replace('1','').replace('3','').replace('4','').replace('5','').replace('7','').replace('9','').replace('_','')+'_granted_family_ge_2_count \"'+g+' patents (famsize>=2)\"', file=f)\n",
    "        print ('lab var '+g.lower().replace('1','').replace('3','').replace('4','').replace('5','').replace('7','').replace('9','').replace('_','')+'_k_stock \"log '+g+' knowledge stocks (t-1)\"', file=f)\n",
    "        print ('lab var _'+a.lower().replace('1','').replace('3','').replace('4','').replace('5','').replace('7','').replace('9','').replace('_','')+'_total_count \"Total adaptation patents ('+a+')\"', file=f)\n",
    "        print ('lab var _'+a.lower().replace('1','').replace('3','').replace('4','').replace('5','').replace('7','').replace('9','').replace('_','')+'_granted_count \"Adaptation ('+a+') Patents granted\"', file=f)\n",
    "        print ('lab var _'+a.lower().replace('1','').replace('3','').replace('4','').replace('5','').replace('7','').replace('9','').replace('_','')+'_granted_family_ge_2_coun \"Adaptation ('+a+') Patents famsize>=2\"', file=f)\n",
    "        print ('lab var _'+a.lower().replace('1','').replace('3','').replace('4','').replace('5','').replace('7','').replace('9','').replace('_','')+'_k_stock \"log adaptation knowledge stock ('+a+')\"', file=f)\n",
    "        print ('gen  total_deaths_1 = total_deaths[_n-1]', file=f)\n",
    "        print ('gen  total_deaths_2 = total_deaths[_n-2]', file=f)\n",
    "        print ('gen  total_deaths_3 = total_deaths[_n-3]', file=f)\n",
    "        print ('gen  total_deaths_4 = total_deaths[_n-4]', file=f)\n",
    "        print ('gen  total_deaths_5 = total_deaths[_n-5]', file=f)\n",
    "        print ('gen  total_deaths_6 = total_deaths[_n-6]', file=f)\n",
    "        print ('gen  total_deaths_7 = total_deaths[_n-7]', file=f)\n",
    "        print ('gen  total_deaths_8 = total_deaths[_n-8]', file=f)\n",
    "        print ('gen  total_deaths_9 = total_deaths[_n-9]', file=f)\n",
    "        print ('gen  total_deaths_10 = total_deaths[_n-10]', file=f)\n",
    "        print ('gen  total_deaths_11 = total_deaths[_n-11]', file=f)\n",
    "        print ('gen  total_deaths_12 = total_deaths[_n-12]', file=f)\n",
    "        print ('gen  total_deaths_13 = total_deaths[_n-13]', file=f)\n",
    "        print ('gen  total_deaths_14 = total_deaths[_n-14]', file=f)\n",
    "        print ('gen  total_deaths_15 = total_deaths[_n-15]', file=f)\n",
    "        print ('lab var total_deaths_1 \"Deaths (Year t-1)\"', file=f)\n",
    "        print ('lab var total_deaths_2 \"Deaths (Year t-2)\"', file=f)\n",
    "        print ('lab var total_deaths_3 \"Deaths (Year t-3)\"', file=f)\n",
    "        print ('lab var total_deaths_4 \"Deaths (Year t-4)\"', file=f)\n",
    "        print ('lab var total_deaths_5 \"Deaths (Year t-5)\"', file=f)\n",
    "        print ('lab var total_deaths_6 \"Deaths (Year t-6)\"', file=f)\n",
    "        print ('lab var total_deaths_7 \"Deaths (Year t-7)\"', file=f)\n",
    "        print ('lab var total_deaths_8 \"Deaths (Year t-8)\"', file=f)\n",
    "        print ('lab var total_deaths_9 \"Deaths (Year t-9)\"', file=f)\n",
    "        print ('lab var total_deaths_10 \"Deaths (Year t-10)\"', file=f)\n",
    "        print ('lab var total_deaths_11 \"Deaths (Year t-11)\"', file=f)\n",
    "        print ('lab var total_deaths_12 \"Deaths (Year t-12)\"', file=f)\n",
    "        print ('lab var total_deaths_13 \"Deaths (Year t-13)\"', file=f)\n",
    "        print ('lab var total_deaths_14 \"Deaths (Year t-14)\"', file=f)\n",
    "        print ('lab var total_deaths_15 \"Deaths (Year t-15)\"', file=f)\n",
    "        print ('est clear', file=f)\n",
    "        for m in range(4,17): \n",
    "            print ('eststo: xtpqml '+g.lower().replace('1','').replace('3','').replace('4','').replace('5','').replace('7','').replace('9','').replace('_','')+'_granted_count v2-v33 '+g.lower().replace('1','').replace('3','').replace('4','').replace('5','').replace('7','').replace('9','').replace('_','')+'_k_stock gdp_per_capita polity control_total_patents _'+a.lower().replace('1','').replace('3','').replace('4','').replace('5','').replace('7','').replace('9','').replace('_','')+'_k_stock + total_deaths', end='', file=f) \n",
    "            for n in range(1,m,1):\n",
    "                print(' total_deaths_'+str(n), end='', file=f)\n",
    "            print(', fe', file=f)\n",
    "            print ('lincom total_deaths',end = '', file=f)\n",
    "            for n in range(1,m,1):\n",
    "                print(' + total_dealths_'+str(n), end='', file=f)\n",
    "            print ('\\nestadd r(estimate)', file=f)\n",
    "        print('esttab, b(3) se(3) nomtitle label star(* 0.10 ** 0.05 *** 0.01)', file=f)\n",
    "        print ('esttab using \"'+a+g+'.tex\", keep('+g.lower().replace('1','').replace('3','').replace('4','').replace('5','').replace('7','').replace('9','').replace('_','')+'_k_stock gdp_per_capita polity control_total_patents _'+a.lower().replace('1','').replace('3','').replace('4','').replace('5','').replace('7','').replace('9','').replace('_','')+'_k_stock total_deaths total_deaths_1 total_deaths_2 total_deaths_3 total_deaths_4 total_deaths_5 total_deaths_6 total_deaths_7 total_deaths_8 total_deaths_9 total_deaths_10 total_deaths_11 total_deaths_12 total_deaths_13 total_deaths_14 total_deaths_15) replace b(3) se(3) nomtitle label star(* 0.10 ** 0.05 *** 0.01) booktabs alignment(D{.}{.}{-1}) title(Sensitivity Analysis : '+g+' patents against'+a.replace('1','').replace('3','').replace('4','').replace('5','').replace('7','').replace('9','').replace('_','')+ '(Deaths) table \\label{reg'+r+'}) addnotes(\"Notes\") scalar(F estimate)', file=f)\n",
    "        r = r + 1\n",
    "    f.close()\n",
    "        \n",
    "\n",
    "\n",
    "\n"
   ]
  },
  {
   "cell_type": "code",
   "execution_count": 40,
   "id": "a04e2f4c",
   "metadata": {},
   "outputs": [
    {
     "name": "stdout",
     "output_type": "stream",
     "text": [
      "eststo: xtpqml _granted_count v2-v33 _k_stock gdp_per_capita polity control_total_patents _total_deaths total_deaths_1 total_deaths_2 total_deaths_3, fe\n",
      "lincom total_deaths + total_dealths_1 + total_dealths_2 + total_dealths_3\n",
      "estadd r(estimate)\n",
      "ab\n",
      "eststo: xtpqml _granted_count v2-v33 _k_stock gdp_per_capita polity control_total_patents _total_deaths total_deaths_1 total_deaths_2 total_deaths_3 total_deaths_4, fe\n",
      "lincom total_deaths + total_dealths_1 + total_dealths_2 + total_dealths_3 + total_dealths_4\n",
      "estadd r(estimate)\n",
      "ab\n",
      "eststo: xtpqml _granted_count v2-v33 _k_stock gdp_per_capita polity control_total_patents _total_deaths total_deaths_1 total_deaths_2 total_deaths_3 total_deaths_4 total_deaths_5, fe\n",
      "lincom total_deaths + total_dealths_1 + total_dealths_2 + total_dealths_3 + total_dealths_4 + total_dealths_5\n",
      "estadd r(estimate)\n",
      "ab\n",
      "eststo: xtpqml _granted_count v2-v33 _k_stock gdp_per_capita polity control_total_patents _total_deaths total_deaths_1 total_deaths_2 total_deaths_3 total_deaths_4 total_deaths_5 total_deaths_6, fe\n",
      "lincom total_deaths + total_dealths_1 + total_dealths_2 + total_dealths_3 + total_dealths_4 + total_dealths_5 + total_dealths_6\n",
      "estadd r(estimate)\n",
      "ab\n",
      "eststo: xtpqml _granted_count v2-v33 _k_stock gdp_per_capita polity control_total_patents _total_deaths total_deaths_1 total_deaths_2 total_deaths_3 total_deaths_4 total_deaths_5 total_deaths_6 total_deaths_7, fe\n",
      "lincom total_deaths + total_dealths_1 + total_dealths_2 + total_dealths_3 + total_dealths_4 + total_dealths_5 + total_dealths_6 + total_dealths_7\n",
      "estadd r(estimate)\n",
      "ab\n",
      "eststo: xtpqml _granted_count v2-v33 _k_stock gdp_per_capita polity control_total_patents _total_deaths total_deaths_1 total_deaths_2 total_deaths_3 total_deaths_4 total_deaths_5 total_deaths_6 total_deaths_7 total_deaths_8, fe\n",
      "lincom total_deaths + total_dealths_1 + total_dealths_2 + total_dealths_3 + total_dealths_4 + total_dealths_5 + total_dealths_6 + total_dealths_7 + total_dealths_8\n",
      "estadd r(estimate)\n",
      "ab\n",
      "eststo: xtpqml _granted_count v2-v33 _k_stock gdp_per_capita polity control_total_patents _total_deaths total_deaths_1 total_deaths_2 total_deaths_3 total_deaths_4 total_deaths_5 total_deaths_6 total_deaths_7 total_deaths_8 total_deaths_9, fe\n",
      "lincom total_deaths + total_dealths_1 + total_dealths_2 + total_dealths_3 + total_dealths_4 + total_dealths_5 + total_dealths_6 + total_dealths_7 + total_dealths_8 + total_dealths_9\n",
      "estadd r(estimate)\n",
      "ab\n",
      "eststo: xtpqml _granted_count v2-v33 _k_stock gdp_per_capita polity control_total_patents _total_deaths total_deaths_1 total_deaths_2 total_deaths_3 total_deaths_4 total_deaths_5 total_deaths_6 total_deaths_7 total_deaths_8 total_deaths_9 total_deaths_10, fe\n",
      "lincom total_deaths + total_dealths_1 + total_dealths_2 + total_dealths_3 + total_dealths_4 + total_dealths_5 + total_dealths_6 + total_dealths_7 + total_dealths_8 + total_dealths_9 + total_dealths_10\n",
      "estadd r(estimate)\n",
      "ab\n",
      "eststo: xtpqml _granted_count v2-v33 _k_stock gdp_per_capita polity control_total_patents _total_deaths total_deaths_1 total_deaths_2 total_deaths_3 total_deaths_4 total_deaths_5 total_deaths_6 total_deaths_7 total_deaths_8 total_deaths_9 total_deaths_10 total_deaths_11, fe\n",
      "lincom total_deaths + total_dealths_1 + total_dealths_2 + total_dealths_3 + total_dealths_4 + total_dealths_5 + total_dealths_6 + total_dealths_7 + total_dealths_8 + total_dealths_9 + total_dealths_10 + total_dealths_11\n",
      "estadd r(estimate)\n",
      "ab\n",
      "eststo: xtpqml _granted_count v2-v33 _k_stock gdp_per_capita polity control_total_patents _total_deaths total_deaths_1 total_deaths_2 total_deaths_3 total_deaths_4 total_deaths_5 total_deaths_6 total_deaths_7 total_deaths_8 total_deaths_9 total_deaths_10 total_deaths_11 total_deaths_12, fe\n",
      "lincom total_deaths + total_dealths_1 + total_dealths_2 + total_dealths_3 + total_dealths_4 + total_dealths_5 + total_dealths_6 + total_dealths_7 + total_dealths_8 + total_dealths_9 + total_dealths_10 + total_dealths_11 + total_dealths_12\n",
      "estadd r(estimate)\n",
      "ab\n",
      "eststo: xtpqml _granted_count v2-v33 _k_stock gdp_per_capita polity control_total_patents _total_deaths total_deaths_1 total_deaths_2 total_deaths_3 total_deaths_4 total_deaths_5 total_deaths_6 total_deaths_7 total_deaths_8 total_deaths_9 total_deaths_10 total_deaths_11 total_deaths_12 total_deaths_13, fe\n",
      "lincom total_deaths + total_dealths_1 + total_dealths_2 + total_dealths_3 + total_dealths_4 + total_dealths_5 + total_dealths_6 + total_dealths_7 + total_dealths_8 + total_dealths_9 + total_dealths_10 + total_dealths_11 + total_dealths_12 + total_dealths_13\n",
      "estadd r(estimate)\n",
      "ab\n",
      "eststo: xtpqml _granted_count v2-v33 _k_stock gdp_per_capita polity control_total_patents _total_deaths total_deaths_1 total_deaths_2 total_deaths_3 total_deaths_4 total_deaths_5 total_deaths_6 total_deaths_7 total_deaths_8 total_deaths_9 total_deaths_10 total_deaths_11 total_deaths_12 total_deaths_13 total_deaths_14, fe\n",
      "lincom total_deaths + total_dealths_1 + total_dealths_2 + total_dealths_3 + total_dealths_4 + total_dealths_5 + total_dealths_6 + total_dealths_7 + total_dealths_8 + total_dealths_9 + total_dealths_10 + total_dealths_11 + total_dealths_12 + total_dealths_13 + total_dealths_14\n",
      "estadd r(estimate)\n",
      "ab\n",
      "eststo: xtpqml _granted_count v2-v33 _k_stock gdp_per_capita polity control_total_patents _total_deaths total_deaths_1 total_deaths_2 total_deaths_3 total_deaths_4 total_deaths_5 total_deaths_6 total_deaths_7 total_deaths_8 total_deaths_9 total_deaths_10 total_deaths_11 total_deaths_12 total_deaths_13 total_deaths_14 total_deaths_15, fe\n",
      "lincom total_deaths + total_dealths_1 + total_dealths_2 + total_dealths_3 + total_dealths_4 + total_dealths_5 + total_dealths_6 + total_dealths_7 + total_dealths_8 + total_dealths_9 + total_dealths_10 + total_dealths_11 + total_dealths_12 + total_dealths_13 + total_dealths_14 + total_dealths_15\n",
      "estadd r(estimate)\n",
      "ab\n"
     ]
    }
   ],
   "source": [
    "for m in range(4,17):\n",
    "    print ('eststo: xtpqml _granted_count v2-v33 _k_stock gdp_per_capita polity control_total_patents _total_deaths', end='')\n",
    "    for n in range(1,m,1):\n",
    "        print(' total_deaths_'+str(n), end='')\n",
    "    print(', fe')\n",
    "    print ('lincom total_deaths',end = '')\n",
    "    for n in range(1,m,1):\n",
    "        print(' + total_dealths_'+str(n), end='')\n",
    "    print ('\\nestadd r(estimate)')\n",
    "    print('a\\\n",
    "b')\n"
   ]
  },
  {
   "cell_type": "code",
   "execution_count": 48,
   "id": "fb3e5ea2",
   "metadata": {},
   "outputs": [],
   "source": [
    "Adapt = ['a', 'b']\n",
    "Green  = ['2','3']\n",
    "r=1\n",
    "for a in Adapt:\n",
    "    f = open(str(a)+\".txt\", \"a\")\n",
    "    for g in Green:\n",
    "        print(\"Now the file has more content!\", file=f)\n",
    "    f.close()"
   ]
  },
  {
   "cell_type": "code",
   "execution_count": 64,
   "id": "a5030d04",
   "metadata": {},
   "outputs": [
    {
     "data": {
      "text/plain": [
       "'name2'"
      ]
     },
     "execution_count": 64,
     "metadata": {},
     "output_type": "execute_result"
    }
   ],
   "source": [
    "g.lower().replace('1','').replace('3','').replace('4','').replace('5','').replace('7','').replace('9','').replace('_','')"
   ]
  },
  {
   "cell_type": "code",
   "execution_count": 75,
   "id": "ac3b543c",
   "metadata": {},
   "outputs": [
    {
     "name": "stdout",
     "output_type": "stream",
     "text": [
      "a\"2\"\n",
      "a\"3\"\n",
      "b\"2\"\n",
      "b\"3\"\n"
     ]
    }
   ],
   "source": [
    "Adapt = ['a', 'b']\n",
    "Green  = ['2','3']\n",
    "r=1\n",
    "for a in Adapt:\n",
    "    for g in Green:\n",
    "        print(a+'\"'+g+'\"')\n",
    "    "
   ]
  },
  {
   "cell_type": "code",
   "execution_count": null,
   "id": "68821ba6",
   "metadata": {},
   "outputs": [],
   "source": []
  }
 ],
 "metadata": {
  "kernelspec": {
   "display_name": "Python 3 (ipykernel)",
   "language": "python",
   "name": "python3"
  },
  "language_info": {
   "codemirror_mode": {
    "name": "ipython",
    "version": 3
   },
   "file_extension": ".py",
   "mimetype": "text/x-python",
   "name": "python",
   "nbconvert_exporter": "python",
   "pygments_lexer": "ipython3",
   "version": "3.9.7"
  }
 },
 "nbformat": 4,
 "nbformat_minor": 5
}
