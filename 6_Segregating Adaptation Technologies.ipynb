{
 "cells": [
  {
   "cell_type": "code",
   "execution_count": 3,
   "id": "0e653b24",
   "metadata": {},
   "outputs": [],
   "source": [
    "import pandas as pd\n",
    "import numpy as np\n",
    "fields=['appln_id', 'cpc_class_symbol']\n",
    "#Extreme Temperatures\n",
    "df = pd.read_csv('/Volumes/NJ_4TB/PATSAT/MyFiles/Extras/Adapt.csv', skipinitialspace=True,chunksize=1000000, usecols = fields, header=0)\n",
    "header = True\n",
    "for chunk in df:\n",
    "    df1 = chunk[chunk['cpc_class_symbol'].str.contains('Y02A30/24|Y02A30/254|Y02A30/27|Y02A30/3|Y02A30/6|Y02A40/13|Y02A40/146|Y02A40/25|Y02A50/3|Y02A40/963')]\n",
    "    df1.to_csv('/Volumes/NJ_4TB/PATSAT/MyFiles/1_ExTemp.csv', index=False, mode='a', header=header)\n",
    "    header = False\n",
    "    del df1"
   ]
  },
  {
   "cell_type": "code",
   "execution_count": 5,
   "id": "82d309b0",
   "metadata": {},
   "outputs": [],
   "source": [
    "#Storms\n",
    "df = pd.read_csv('/Volumes/NJ_4TB/PATSAT/MyFiles/Extras/Adapt.csv', skipinitialspace=True,chunksize=1000000, usecols = fields, header=0)\n",
    "header = True\n",
    "for chunk in df:\n",
    "    df3 = chunk[chunk['cpc_class_symbol'].str.contains('Y02A10/3|Y02A10/4|Y02A30/14|Y02A30/3|Y02A30/6')]\n",
    "    df3.to_csv('/Volumes/NJ_4TB/PATSAT/MyFiles/3_Storm.csv', index=False, mode='a', header=header)\n",
    "    header = False\n",
    "    del df3"
   ]
  },
  {
   "cell_type": "code",
   "execution_count": 6,
   "id": "4e1c2cb4",
   "metadata": {},
   "outputs": [],
   "source": [
    "#Floods\n",
    "df = pd.read_csv('/Volumes/NJ_4TB/PATSAT/MyFiles/Extras/Adapt.csv', skipinitialspace=True,chunksize=1000000, usecols = fields, header=0)\n",
    "header = True\n",
    "for chunk in df:\n",
    "    df4 = chunk[chunk['cpc_class_symbol'].str.contains('Y02A10/11|Y02A10/3|Y02A10/4|Y02A30/14|Y02A30/3|Y02A30/6')]\n",
    "    df4.to_csv('/Volumes/NJ_4TB/PATSAT/MyFiles/4_Flood.csv', index=False, mode='a', header=header)\n",
    "    header = False\n",
    "    del df4"
   ]
  },
  {
   "cell_type": "code",
   "execution_count": 7,
   "id": "6d7634a0",
   "metadata": {},
   "outputs": [],
   "source": [
    "#Landslide\n",
    "df = pd.read_csv('/Volumes/NJ_4TB/PATSAT/MyFiles/Extras/Adapt.csv', skipinitialspace=True,chunksize=1000000, usecols = fields, header=0)\n",
    "header = True\n",
    "for chunk in df:\n",
    "    df5 = chunk[chunk['cpc_class_symbol'].str.contains('Y02A10/23|Y02A30/3|Y02A30/6')]\n",
    "    df5.to_csv('/Volumes/NJ_4TB/PATSAT/MyFiles/5_Landslide.csv', index=False, mode='a', header=header)\n",
    "    header = False\n",
    "    del df5"
   ]
  },
  {
   "cell_type": "code",
   "execution_count": 8,
   "id": "e5dc50f9",
   "metadata": {},
   "outputs": [],
   "source": [
    "#WaveAction\n",
    "df = pd.read_csv('/Volumes/NJ_4TB/PATSAT/MyFiles/Extras/Adapt.csv', skipinitialspace=True,chunksize=1000000, usecols = fields, header=0)\n",
    "header = True\n",
    "for chunk in df:\n",
    "    df6 = chunk[chunk['cpc_class_symbol'].str.contains('Y02A10/26|Y02A30/3|Y02A30/6')]\n",
    "    df6.to_csv('/Volumes/NJ_4TB/PATSAT/MyFiles/6_WaveAct.csv', index=False, mode='a', header=header)\n",
    "    header = False\n",
    "    del df6"
   ]
  },
  {
   "cell_type": "code",
   "execution_count": 9,
   "id": "65c9b18d",
   "metadata": {},
   "outputs": [],
   "source": [
    "#Drought\n",
    "df = pd.read_csv('/Volumes/NJ_4TB/PATSAT/MyFiles/Extras/Adapt.csv', skipinitialspace=True,chunksize=1000000, usecols = fields, header=0)\n",
    "header = True\n",
    "for chunk in df:\n",
    "    df7 = chunk[chunk['cpc_class_symbol'].str.contains('Y02A20/|Y02A40/13|Y02A40/146|Y02A40/22')]\n",
    "    df7.to_csv('/Volumes/NJ_4TB/PATSAT/MyFiles/7_Drought.csv', index=False, mode='a', header=header)\n",
    "    header = False\n",
    "    del df7"
   ]
  },
  {
   "cell_type": "code",
   "execution_count": 10,
   "id": "b06c9cb3",
   "metadata": {},
   "outputs": [],
   "source": [
    "#Wildfire\n",
    "df = pd.read_csv('/Volumes/NJ_4TB/PATSAT/MyFiles/Extras/Adapt.csv', skipinitialspace=True,chunksize=1000000, usecols = fields, header=0)\n",
    "header = True\n",
    "for chunk in df:\n",
    "    df9 = chunk[chunk['cpc_class_symbol'].str.contains('Y02A30/14|Y02A30/3|Y02A30/6')]\n",
    "    df9.to_csv('/Volumes/NJ_4TB/PATSAT/MyFiles/9_Wildfire.csv', index=False, mode='a', header=header)\n",
    "    header = False\n",
    "    del df9"
   ]
  },
  {
   "cell_type": "code",
   "execution_count": 3,
   "id": "b8b675f1",
   "metadata": {},
   "outputs": [],
   "source": [
    "import pandas as pd\n",
    "import numpy as np\n",
    "Disaster = ['1_ExTemp', '3_Storm', '4_Flood', '5_Landslide', '6_WaveAct', '7_Drought', '9_Wildfire']\n",
    "for d in Disaster:\n",
    "    df = pd.read_csv('/Volumes/NJ_4TB/PATSAT/MyFiles/Adapt_everything.csv', skipinitialspace=True,chunksize=1000000, header=0)\n",
    "    df1 = pd.read_csv('/Volumes/NJ_4TB/PATSAT/MyFiles/' + d +'.csv', skipinitialspace=True,header=0)\n",
    "    for chunk in df:\n",
    "        df2 = pd.merge(df1, chunk, on=\"appln_id\", how = 'inner')\n",
    "        df2.to_csv('/Volumes/NJ_4TB/PATSAT/MyFiles/' + d + '_everything.csv', encoding='utf-8', index=False)\n",
    "        del df1, df2"
   ]
  },
  {
   "cell_type": "code",
   "execution_count": null,
   "id": "0711a1dc",
   "metadata": {},
   "outputs": [],
   "source": [
    "df1 = pd.read_csv('/Volumes/NJ_4TB/PATSAT/MyFiles/5_Landslide.csv', skipinitialspace=True,header=0)\n",
    "df1.shape[0]"
   ]
  }
 ],
 "metadata": {
  "kernelspec": {
   "display_name": "Python 3 (ipykernel)",
   "language": "python",
   "name": "python3"
  },
  "language_info": {
   "codemirror_mode": {
    "name": "ipython",
    "version": 3
   },
   "file_extension": ".py",
   "mimetype": "text/x-python",
   "name": "python",
   "nbconvert_exporter": "python",
   "pygments_lexer": "ipython3",
   "version": "3.9.7"
  }
 },
 "nbformat": 4,
 "nbformat_minor": 5
}
