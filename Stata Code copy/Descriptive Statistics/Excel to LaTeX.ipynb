{
 "cells": [
  {
   "cell_type": "code",
   "execution_count": 7,
   "id": "3392b204",
   "metadata": {},
   "outputs": [],
   "source": [
    "import pandas as pd\n",
    "df = pd.read_csv('/Users/nitashajhala/Desktop/Disaster_adapt panels/Descriptive Statistics/Excel files/Country Sample.csv')\n",
    "df.to_latex('CountrySample.tex')"
   ]
  },
  {
   "cell_type": "code",
   "execution_count": 8,
   "id": "5e1ee676",
   "metadata": {},
   "outputs": [],
   "source": [
    "df1 = pd.read_csv('/Users/nitashajhala/Desktop/Disaster_adapt panels/Descriptive Statistics/Excel files/Country-level statistics-Natural disaster and patent statistics for sample nations, 1990-2010.csv')\n",
    "df1.to_latex('CountryStatistics.tex')"
   ]
  },
  {
   "cell_type": "code",
   "execution_count": 9,
   "id": "d14d8812",
   "metadata": {},
   "outputs": [],
   "source": [
    "df2 = pd.read_csv('/Users/nitashajhala/Desktop/Disaster_adapt panels/Descriptive Statistics/Excel files/Magnitude-costs-Statistics on disaster events - magnitudes and costs.csv')\n",
    "df2.to_latex('MagnitudeCosts.tex')"
   ]
  },
  {
   "cell_type": "code",
   "execution_count": 10,
   "id": "d6b23b3f",
   "metadata": {},
   "outputs": [],
   "source": [
    "df3 = pd.read_csv('/Users/nitashajhala/Desktop/Disaster_adapt panels/Descriptive Statistics/Excel files/Descriptive Statistics-Descriptive Statistics.csv')\n",
    "df3.to_latex('DescriptiveStatistics.tex')"
   ]
  },
  {
   "cell_type": "code",
   "execution_count": null,
   "id": "887c9486",
   "metadata": {},
   "outputs": [],
   "source": []
  }
 ],
 "metadata": {
  "kernelspec": {
   "display_name": "Python 3 (ipykernel)",
   "language": "python",
   "name": "python3"
  },
  "language_info": {
   "codemirror_mode": {
    "name": "ipython",
    "version": 3
   },
   "file_extension": ".py",
   "mimetype": "text/x-python",
   "name": "python",
   "nbconvert_exporter": "python",
   "pygments_lexer": "ipython3",
   "version": "3.9.7"
  }
 },
 "nbformat": 4,
 "nbformat_minor": 5
}
