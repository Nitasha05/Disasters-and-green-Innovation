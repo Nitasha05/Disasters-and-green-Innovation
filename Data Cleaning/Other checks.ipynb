{
 "cells": [
  {
   "cell_type": "markdown",
   "id": "fab2ecf9",
   "metadata": {},
   "source": [
    "Checking if flood and storm have the same associated patents"
   ]
  },
  {
   "cell_type": "code",
   "execution_count": 4,
   "id": "aeeb7939",
   "metadata": {},
   "outputs": [
    {
     "data": {
      "text/plain": [
       "True    29406\n",
       "Name: appln_id, dtype: int64"
      ]
     },
     "execution_count": 4,
     "metadata": {},
     "output_type": "execute_result"
    }
   ],
   "source": [
    "import pandas as pd\n",
    "fields = ['appln_id']\n",
    "df1 = pd.read_csv('/Volumes/NJ_4TB/PATSAT/MyFiles/Extras/3_Storm.csv',skipinitialspace=True, header=0,usecols=fields)\n",
    "df2 = pd.read_csv('/Volumes/NJ_4TB/PATSAT/MyFiles/Extras/4_Flood.csv',skipinitialspace=True, header=0,usecols=fields)\n",
    "df1['appln_id'].isin(df2['appln_id']).value_counts()\n"
   ]
  },
  {
   "cell_type": "code",
   "execution_count": 6,
   "id": "f6fdbdd3",
   "metadata": {},
   "outputs": [
    {
     "data": {
      "text/plain": [
       "29406"
      ]
     },
     "execution_count": 6,
     "metadata": {},
     "output_type": "execute_result"
    }
   ],
   "source": [
    "df1.shape[0]"
   ]
  },
  {
   "cell_type": "code",
   "execution_count": 7,
   "id": "70a6fde8",
   "metadata": {},
   "outputs": [
    {
     "data": {
      "text/plain": [
       "29406"
      ]
     },
     "execution_count": 7,
     "metadata": {},
     "output_type": "execute_result"
    }
   ],
   "source": [
    "df2.shape[0]"
   ]
  }
 ],
 "metadata": {
  "kernelspec": {
   "display_name": "Python 3 (ipykernel)",
   "language": "python",
   "name": "python3"
  },
  "language_info": {
   "codemirror_mode": {
    "name": "ipython",
    "version": 3
   },
   "file_extension": ".py",
   "mimetype": "text/x-python",
   "name": "python",
   "nbconvert_exporter": "python",
   "pygments_lexer": "ipython3",
   "version": "3.9.7"
  }
 },
 "nbformat": 4,
 "nbformat_minor": 5
}
