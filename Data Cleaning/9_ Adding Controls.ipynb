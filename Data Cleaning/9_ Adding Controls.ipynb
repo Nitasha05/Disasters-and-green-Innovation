{
 "cells": [
  {
   "cell_type": "code",
   "execution_count": 1,
   "id": "2b54f5cf",
   "metadata": {},
   "outputs": [],
   "source": [
    "import pandas as pd\n",
    "import numpy as np\n",
    "import re"
   ]
  },
  {
   "cell_type": "markdown",
   "id": "5ddcc5c8",
   "metadata": {},
   "source": [
    "### Polity"
   ]
  },
  {
   "cell_type": "code",
   "execution_count": null,
   "id": "ac09086a",
   "metadata": {},
   "outputs": [],
   "source": [
    "df1 = pd.read_csv('/Volumes/NJ_4TB/Final/Polity.csv', skipinitialspace=True)\n",
    "df1.drop(df1[(df1['year'] <1985) | (df1['year'] > 2020 )].index, inplace=True)\n",
    "polity_countries = pd.unique(df1['country'])"
   ]
  },
  {
   "cell_type": "code",
   "execution_count": null,
   "id": "6d357023",
   "metadata": {},
   "outputs": [],
   "source": [
    "r = re.compile(\".*Nethe\", re.IGNORECASE)\n",
    "print(list(filter(r.match, polity_countries)))"
   ]
  },
  {
   "cell_type": "code",
   "execution_count": 2,
   "id": "e56720b1",
   "metadata": {},
   "outputs": [],
   "source": [
    "polity_patsat_countries={ 'KR':'Korea South',\n",
    "                         'MX':'Mexico',\n",
    "                         'EG':'Egypt',\n",
    "                         'JP':'Japan',\n",
    "                         'NO':'Norway',\n",
    "                         'CA':'Canada',\n",
    "                         'SI':'Slovenia',\n",
    "                         'DK':'Denmark',\n",
    "                         'TH':'Thailand',\n",
    "                         'FI':'Finland',\n",
    "                         'HU':'Hungary',\n",
    "                         'IS':'Iceland',\n",
    "                         'IN':'India',\n",
    "                         'US':'United States                   ',\n",
    "                         'CZ':['Czechoslovakia', 'Czech Republic'],\n",
    "                         'CL':'Chile',\n",
    "                         'PL':'Poland',\n",
    "                         'LV':'Latvia',\n",
    "                         'KY':'Cayman Islands (the)',\n",
    "                         'PH':'Philippines',\n",
    "                         'DE':['Germany East', 'Germany', 'Germany West'],#also DD\n",
    "                         'SG':'Singapore',\n",
    "                         'CH':'Switzerland',\n",
    "                         'LT':'Lithuania',\n",
    "                         'CY':'Cyprus',\n",
    "                         'RU':'Russia',\n",
    "                         'UA':'Ukraine',\n",
    "                         'IT':'Italy',\n",
    "                         'AU':'Australia',\n",
    "                         'NZ':'New Zealand',\n",
    "                         'BE':'Belgium',\n",
    "                         'QA':'Qatar',\n",
    "                         'MY':'Malaysia',\n",
    "                         'BM':'Bermuda',\n",
    "                         'AT':'Austria',\n",
    "                         'SU':'USSR',\n",
    "                         'GR':'Greece',\n",
    "                         'MT':'Malta',\n",
    "                         'IE':'Ireland',\n",
    "                         'TR':'Turkey',\n",
    "                         'ES':'Spain',\n",
    "                         'NL':'Netherlands',\n",
    "                         'IL':'Israel',\n",
    "                         'MA':'Morocco',\n",
    "                         'AE':'UAE',\n",
    "                         'CU':'Cuba',\n",
    "                         'SE':'Sweden',\n",
    "                         'CN':'China',\n",
    "                         'FR':'France',\n",
    "                         'LU':'Luxembourg',\n",
    "                         'PA':'Panama',\n",
    "                         'BG':'Bulgaria',\n",
    "                         'ZA':'South Africa',\n",
    "                         'TW':'Taiwan',\n",
    "                         'AR':'Argentina',\n",
    "                         'BR':'Brazil',\n",
    "                         'GB':'United Kingdom',\n",
    "                         'SA':'Saudi Arabia'\n",
    "                       }"
   ]
  },
  {
   "cell_type": "code",
   "execution_count": null,
   "id": "d6798493",
   "metadata": {},
   "outputs": [],
   "source": [
    "my_list = []\n",
    "for patsat_country, pol_country in polity_patsat_countries.items():\n",
    "    polity = 0\n",
    "    if not(patsat_country == 'CZ' or patsat_country == 'DE'):\n",
    "        pol_country = [pol_country]\n",
    "    for year in range( 1985,  2020 + 1):\n",
    "        polity = 0.0\n",
    "        num = 0.0\n",
    "        for country in pol_country:              \n",
    "            arr = df1[(df1['country'] == country) & (df1['year'] == year)]['polity2'].to_numpy()\n",
    "            if arr.size:\n",
    "                polity += arr[0]\n",
    "                num += 1.0\n",
    "            else:\n",
    "                if (patsat_country == 'CZ' or patsat_country == 'DE'):\n",
    "                    polity += 0.0\n",
    "                else:\n",
    "                    polity = np.NaN\n",
    "        if num:\n",
    "            polity = polity / num\n",
    "        my_list.append({'year':year,'country':patsat_country,'polity':polity})\n",
    "df_polity = pd.DataFrame.from_records(my_list)\n",
    "df_polity.to_csv('/Volumes/NJ_4TB/Final/polity_processed.csv', encoding='utf-8', index=False)"
   ]
  },
  {
   "cell_type": "markdown",
   "id": "59697ee8",
   "metadata": {},
   "source": [
    "### Total Patents by Country"
   ]
  },
  {
   "cell_type": "code",
   "execution_count": null,
   "id": "268fde6e",
   "metadata": {},
   "outputs": [],
   "source": [
    "df1 = pd.read_csv('/Volumes/NJ_4TB/Final/Total_patent_count_by filing_office_1980_2020.csv', skipinitialspace=True, skiprows=6)\n",
    "total_patents=[]\n",
    "for country in polity_patsat_countries.keys():\n",
    "    for year in range(1985, 2020+1):\n",
    "        val = df1[df1['Unnamed: 0']==country][str(year)]\n",
    "        if val.size:\n",
    "            val=val[0]\n",
    "        else:\n",
    "            val = np.NaN\n",
    "        total_patents.append({'country':country,'year':year,'control_total_patents':val})\n",
    "df_patents = pd.DataFrame.from_records(total_patents)\n",
    "# now DD\n",
    "for year in range(1985, 2020+1):\n",
    "    val = df1[df1['Unnamed: 0']=='DD'][str(year)]\n",
    "    if val.size and val[0]==val[0]:\n",
    "        df_patents.at[ np.where((df_patents['year'] == year) & (df_patents['country'] == 'DE') )[0][0],'control_total_patents'] += val[0]\n",
    "\n",
    "df_patents.to_csv('/Volumes/NJ_4TB/Final/patent_processed.csv', encoding='utf-8', index=False)"
   ]
  },
  {
   "cell_type": "markdown",
   "id": "ab7106f8",
   "metadata": {},
   "source": [
    "### GDP by Country"
   ]
  },
  {
   "cell_type": "code",
   "execution_count": null,
   "id": "bc02126b",
   "metadata": {},
   "outputs": [],
   "source": [
    "df1 = pd.read_csv('/Volumes/NJ_4TB/Final/GDPperCA.csv', skipinitialspace=True)\n",
    "df1.drop(df1[df1['Series Name']!='GDP per capita (constant 2015 US$)'].index,inplace=True)"
   ]
  },
  {
   "cell_type": "code",
   "execution_count": null,
   "id": "25095b15",
   "metadata": {},
   "outputs": [],
   "source": [
    "r = re.compile(\".*germ\", re.IGNORECASE)\n",
    "print(list(filter(r.match, df1['Country Name'].to_list())))"
   ]
  },
  {
   "cell_type": "code",
   "execution_count": null,
   "id": "8be5ec12",
   "metadata": {},
   "outputs": [],
   "source": [
    "gdp_patsat_countries={ 'KR':'KOR',\n",
    "                         'MX':'MEX',\n",
    "                         'EG':'EGY',\n",
    "                         'JP':'JPN',\n",
    "                         'NO':'NOR',\n",
    "                         'CA':'CAN',\n",
    "                         'SI':'SVN',\n",
    "                         'DK':'DNK',\n",
    "                         'TH':'THA',\n",
    "                         'FI':'FIN',\n",
    "                         'HU':'HUN',\n",
    "                         'IS':'ISL',\n",
    "                         'IN':'IND',\n",
    "                         'US':'USA',\n",
    "                         'CZ':['CZE', 'SVK'],\n",
    "                         'CL':'CHL',\n",
    "                         'PL':'POL',\n",
    "                         'LV':'LVA',\n",
    "                         'KY':'CYM',\n",
    "                         'PH':'PHL',\n",
    "                         'DE':'DEU',#also DD\n",
    "                         'SG':'SGP',\n",
    "                         'CH':'CHE',\n",
    "                         'LT':'LTU',\n",
    "                         'CY':'CYP',\n",
    "                         'RU':'RUS',\n",
    "                         'UA':'UKR',\n",
    "                         'IT':'ITA',\n",
    "                         'AU':'AUS',\n",
    "                         'NZ':'NZL',\n",
    "                         'BE':'BEL',\n",
    "                         'QA':'QAT',\n",
    "                         'MY':'MYS',\n",
    "                         'BM':'BMU',\n",
    "                         'AT':'AUT',\n",
    "                         'SU':'',\n",
    "                         'GR':'GRC',\n",
    "                         'MT':'MLT',\n",
    "                         'IE':'IRL',\n",
    "                         'TR':'TUR',\n",
    "                         'ES':'ESP',\n",
    "                         'NL':'NLD',\n",
    "                         'IL':'ISR',\n",
    "                         'MA':'MAR',\n",
    "                         'AE':'ARE',\n",
    "                         'CU':'CUB',\n",
    "                         'SE':'SWE',\n",
    "                         'CN':'CHN',\n",
    "                         'FR':'FRA',\n",
    "                         'LU':'LUX',\n",
    "                         'PA':'PAN',\n",
    "                         'BG':'BGR',\n",
    "                         'ZA':'ZAF',\n",
    "                         'TW':'',\n",
    "                         'AR':'ARG',\n",
    "                         'BR':'BRA',\n",
    "                         'GB':'GBR',\n",
    "                         'SA':'SAU'\n",
    "                       }"
   ]
  },
  {
   "cell_type": "code",
   "execution_count": null,
   "id": "a147050e",
   "metadata": {},
   "outputs": [],
   "source": [
    "my_list = []\n",
    "for patsat_country, gdp_country in gdp_patsat_countries.items():\n",
    "    polity = 0\n",
    "    if not(patsat_country == 'CZ'):\n",
    "        gdp_country = [gdp_country]\n",
    "    for year in range( 1985,  2020 + 1):\n",
    "        gdp = 0.0\n",
    "        num = 0.0\n",
    "        for country in gdp_country:              \n",
    "            arr = df1[(df1['Country Code'] == country)][str(year)+\" [YR\"+ str(year) +\"]\"].to_numpy()\n",
    "            if arr.size:\n",
    "                if arr[0] != '..':\n",
    "                    gdp += float(arr[0])\n",
    "                    num += 1.0\n",
    "            else:\n",
    "                gdp = np.NaN\n",
    "        if num:\n",
    "            gdp = gdp / num\n",
    "        my_list.append({'year':year,'country':patsat_country,'gdp_per_capita':gdp})\n",
    "df_gdp = pd.DataFrame.from_records(my_list)\n",
    "df_gdp.to_csv('/Volumes/NJ_4TB/Final/gdp_processed.csv', encoding='utf-8', index=False)"
   ]
  },
  {
   "cell_type": "markdown",
   "id": "491447bc",
   "metadata": {},
   "source": [
    "### Combine all controls"
   ]
  },
  {
   "cell_type": "code",
   "execution_count": null,
   "id": "812ffa37",
   "metadata": {},
   "outputs": [],
   "source": [
    "combined_list=[]\n",
    "for patsat_country in gdp_patsat_countries.keys():\n",
    "    for year in range(1985, 2020 +1):\n",
    "        combined_list.append({'year':year,'country':patsat_country,'gdp_per_capita':df_gdp[(df_gdp['country'] == patsat_country) & (df_gdp['year'] ==year)]['gdp_per_capita'].to_numpy()[0],\n",
    "                             'polity':df_polity[(df_polity['country'] == patsat_country) & (df_polity['year'] ==year)]['polity'].to_numpy()[0],\n",
    "                             'control_total_patents':df_patents[(df_patents['country'] == patsat_country) & (df_patents['year'] ==year)]['control_total_patents'].to_numpy()[0]})\n",
    "\n",
    "df_combined = pd.DataFrame.from_records(combined_list)\n",
    "df_combined.to_csv('/Volumes/NJ_4TB/Final/controls_processed.csv', encoding='utf-8', index=False)"
   ]
  },
  {
   "cell_type": "code",
   "execution_count": null,
   "id": "f25dcc9b",
   "metadata": {},
   "outputs": [],
   "source": [
    "df_combined[df_combined['country']=='KR']"
   ]
  },
  {
   "cell_type": "markdown",
   "id": "5cab964d",
   "metadata": {},
   "source": [
    "### Constructing TOTPAT"
   ]
  },
  {
   "cell_type": "code",
   "execution_count": null,
   "id": "ab037136",
   "metadata": {
    "scrolled": false
   },
   "outputs": [],
   "source": [
    "import pandas as pd\n",
    "import numpy as np\n",
    "import re\n",
    "fields1 = ['person_id', 'appln_id']\n",
    "df1 = pd.read_csv('/Volumes/NJ_4TB/PATSAT/tls207_part01.csv',skipinitialspace=True, header=0,usecols=fields1)\n",
    "fields2 = ['person_id', 'person_ctry_code']\n",
    "df2 = pd.read_csv('/Volumes/NJ_4TB/PATSAT/tls226_part01.csv',skipinitialspace=True, header=0,chunksize=200000, usecols=fields2)\n",
    "header = True\n",
    "chunkid=0\n",
    "for chunk in df2:\n",
    "    chunk = df1.merge(chunk, on='person_id', how='inner') #filter by ids\n",
    "    chunk.to_csv('/Volumes/NJ_4TB/PATSAT/MyFiles/TOTPAT.csv', index=False, mode='a', header=header)\n",
    "    print (chunkid)\n",
    "    chunkid = chunkid + 1\n",
    "    header = False"
   ]
  },
  {
   "cell_type": "markdown",
   "id": "f85a02d9",
   "metadata": {},
   "source": [
    "### Keep only first author"
   ]
  },
  {
   "cell_type": "code",
   "execution_count": 35,
   "id": "b103f192",
   "metadata": {
    "scrolled": false
   },
   "outputs": [
    {
     "name": "stdout",
     "output_type": "stream",
     "text": [
      "0 1 2 3 4 5 6 7 8 9 10 11 12 13 14 15 16 17 18 19 20 21 22 23 24 25 26 27 28 29 30 31 32 33 34 35 36 37 38 39 40 41 42 43 44 45 46 47 48 49 50 51 52 53 54 55 56 57 58 59 60 61 62 63 64 65 66 67 68 69 70 71 72 73 74 75 76 77 78 79 80 81 82 83 84 85 86 87 88 89 90 91 92 93 94 95 96 97 98 99 100 101 102 103 104 105 106 107 108 109 110 111 112 113 114 115 116 117 118 119 120 121 122 123 124 125 126 127 128 129 130 131 132 133 134 135 136 137 138 139 140 141 142 143 144 145 146 147 148 149 150 151 152 153 154 155 156 157 158 159 160 161 162 163 164 165 166 167 168 169 170 171 172 173 174 175 176 177 178 179 180 181 182 183 184 185 186 187 188 189 190 191 192 193 194 195 196 197 198 199 200 201 202 203 204 205 206 207 208 209 210 211 212 213 214 215 216 217 218 219 220 221 222 223 224 225 226 227 228 229 230 231 232 233 234 235 236 237 238 239 240 241 242 243 244 245 246 247 248 249 250 251 252 253 254 255 256 257 258 259 260 261 262 263 264 265 266 267 268 269 270 271 272 273 274 275 276 277 278 279 280 281 282 283 284 285 286 287 288 289 290 291 292 293 294 295 296 297 298 299 300 301 302 303 304 305 306 307 308 309 310 311 312 313 314 315 316 317 318 319 320 321 322 323 324 325 326 327 328 329 330 331 332 333 334 335 336 337 338 339 340 341 342 343 344 345 346 347 348 349 350 351 352 353 354 355 356 357 358 359 360 361 362 363 364 365 366 367 368 369 370 371 372 373 374 375 376 377 378 379 380 381 382 383 384 385 386 387 388 389 390 391 392 393 394 395 396 397 398 399 400 401 402 403 404 405 406 407 408 409 410 411 412 413 414 415 416 417 418 419 420 421 422 423 424 425 426 427 428 429 430 431 432 433 434 435 436 437 438 439 440 441 442 443 444 445 446 447 448 449 450 451 452 453 454 455 456 457 458 459 460 461 462 463 464 465 466 467 468 469 470 471 472 473 474 475 476 477 478 479 480 481 482 483 484 485 486 487 488 489 490 491 492 493 494 495 496 497 498 499 500 501 502 503 504 505 506 507 508 509 510 511 512 513 514 515 516 517 518 519 520 521 522 523 524 525 526 527 528 529 530 531 532 533 534 535 536 537 538 539 540 541 542 543 544 545 546 547 548 549 550 551 552 553 554 555 556 557 558 559 560 561 562 563 564 565 566 567 568 569 570 571 572 573 574 575 576 577 578 579 580 581 582 583 584 585 586 587 "
     ]
    }
   ],
   "source": [
    "df_needed_countries = pd.read_csv('/Volumes/NJ_4TB/PATSAT/MyFiles/TOTPAT_countries_to_keep.csv',skipinitialspace=True)\n",
    "df1 = pd.read_csv('/Volumes/NJ_4TB/PATSAT/MyFiles/TOTPAT.csv',skipinitialspace=True, header=0,chunksize=1000000)\n",
    "header = True\n",
    "chunkid=0\n",
    "for chunk in df1:\n",
    "    chunk['person_ctry_code'] = chunk['person_ctry_code'].astype(str)\n",
    "    chunk = chunk.merge(df_needed_countries, on='person_ctry_code', how='inner')\n",
    "    chunk = chunk.drop_duplicates('appln_id') \n",
    "    chunk.to_csv('/Volumes/NJ_4TB/PATSAT/MyFiles/TOTPAT_unique_chunks_round1.csv', index=False, mode='a', header=header)\n",
    "    print (chunkid, end=\" \")\n",
    "    chunkid = chunkid + 1\n",
    "    header = False\n",
    "    "
   ]
  },
  {
   "cell_type": "code",
   "execution_count": 36,
   "id": "4aeb9c87",
   "metadata": {},
   "outputs": [],
   "source": [
    "df1 = pd.read_csv('/Volumes/NJ_4TB/PATSAT/MyFiles/TOTPAT_unique_chunks_round1.csv',skipinitialspace=True, header=0)\n",
    "df1 = df1.drop_duplicates('appln_id')\n",
    "df1.to_csv('/Volumes/NJ_4TB/PATSAT/MyFiles/TOTPAT_unique_final.csv', index=False)\n"
   ]
  },
  {
   "cell_type": "markdown",
   "id": "f827787b",
   "metadata": {},
   "source": [
    "### Merge with appln_year"
   ]
  },
  {
   "cell_type": "code",
   "execution_count": 47,
   "id": "27d7fa24",
   "metadata": {},
   "outputs": [
    {
     "name": "stdout",
     "output_type": "stream",
     "text": [
      "0 1 2 3 4 5 6 7 8 9 10 11 12 13 14 15 16 17 18 19 20 21 22 23 24 25 26 27 28 29 30 31 32 33 34 35 36 37 38 39 40 41 42 43 44 45 46 47 48 49 50 51 52 53 54 55 56 57 58 59 60 61 62 63 64 65 66 67 68 69 70 71 72 73 74 75 76 77 78 79 80 81 82 83 84 85 86 87 88 89 90 91 92 93 94 95 96 97 98 99 1\n",
      "0 1 2 3 4 5 6 7 8 9 10 11 12 13 14 15 16 17 18 19 20 21 22 23 24 25 26 27 28 29 30 31 32 33 34 35 36 37 38 39 40 41 42 43 44 45 46 47 48 49 50 51 52 53 54 55 56 57 58 59 60 61 62 63 64 65 66 67 68 69 70 71 72 73 74 75 76 77 78 79 80 81 82 83 84 85 86 87 88 89 90 91 92 93 94 95 96 97 98 99 2\n",
      "0 1 2 3 4 5 6 7 8 9 10 3\n"
     ]
    }
   ],
   "source": [
    "for i in range(1,4):\n",
    "    df2 = pd.read_csv('/Volumes/NJ_4TB/PATSAT/tls201_part0'+ str(i) +'.csv',skipinitialspace=True, header=0,chunksize=500000, usecols=['appln_id','appln_filing_year'])\n",
    "    header = True\n",
    "    chunkid=0\n",
    "    for chunk in df2:\n",
    "        chunk.rename(columns={\"appln_filing_year\": \"year\"},inplace=True)\n",
    "        chunk = chunk.merge(df1, on='appln_id', how='inner')\n",
    "        chunk.to_csv('/Volumes/NJ_4TB/PATSAT/MyFiles/TOTPAT_panel.csv', index=False, mode='a', header=header)\n",
    "        print (chunkid, end=\" \")\n",
    "        chunkid = chunkid + 1\n",
    "        header = False\n",
    "    print(i)\n"
   ]
  },
  {
   "cell_type": "markdown",
   "id": "b718092f",
   "metadata": {},
   "source": [
    "### Get total number of patents per year"
   ]
  },
  {
   "cell_type": "code",
   "execution_count": 38,
   "id": "5974dd40",
   "metadata": {},
   "outputs": [
    {
     "name": "stderr",
     "output_type": "stream",
     "text": [
      "/Users/nitashajhala/opt/anaconda3/lib/python3.9/site-packages/IPython/core/interactiveshell.py:3444: DtypeWarning: Columns (0,1,2) have mixed types.Specify dtype option on import or set low_memory=False.\n",
      "  exec(code_obj, self.user_global_ns, self.user_ns)\n"
     ]
    }
   ],
   "source": [
    "df1 = pd.read_csv('/Volumes/NJ_4TB/PATSAT/MyFiles/TOTPAT_panel.csv')\n"
   ]
  },
  {
   "cell_type": "code",
   "execution_count": 40,
   "id": "ed353bc4",
   "metadata": {},
   "outputs": [],
   "source": [
    "df = df1.copy()\n",
    "df = df[df[\"year\"]!='year'].copy()\n",
    "df['year'] = pd.to_numeric(df['year'])\n",
    "df_years = df[(df[\"year\"]>=1980) & (df[\"year\"]<=2020)].copy()\n",
    "df_years.drop(columns=['person_id'], inplace=True)\n",
    "df_years.rename(columns={'person_ctry_code':'country'}, inplace=True)\n",
    "df_years[\"count\"] = 1"
   ]
  },
  {
   "cell_type": "code",
   "execution_count": 43,
   "id": "ee249c52",
   "metadata": {},
   "outputs": [],
   "source": [
    "df_counts=df_years.groupby(['year','country'])['count'].sum().reset_index()\n"
   ]
  },
  {
   "cell_type": "code",
   "execution_count": 74,
   "id": "506cb80a",
   "metadata": {
    "scrolled": false
   },
   "outputs": [],
   "source": [
    "#### assign 0 to countries when they did not make patents in a given year\n",
    "df_counts_complete = df_counts.copy()\n",
    "for year in pd.unique(df_counts[\"year\"]):\n",
    "    for country in pd.unique(df_counts[\"country\"]):\n",
    "        if(df_counts_complete.loc[(df_counts_complete['year'] == year) & (df_counts_complete['country'] == country), \"count\"].empty):\n",
    "            df_counts_complete = pd.concat([pd.DataFrame([[year,country,0]], columns=df_counts_complete.columns), df_counts_complete], ignore_index=True)"
   ]
  },
  {
   "cell_type": "code",
   "execution_count": 75,
   "id": "fb2f0805",
   "metadata": {},
   "outputs": [
    {
     "data": {
      "text/html": [
       "<div>\n",
       "<style scoped>\n",
       "    .dataframe tbody tr th:only-of-type {\n",
       "        vertical-align: middle;\n",
       "    }\n",
       "\n",
       "    .dataframe tbody tr th {\n",
       "        vertical-align: top;\n",
       "    }\n",
       "\n",
       "    .dataframe thead th {\n",
       "        text-align: right;\n",
       "    }\n",
       "</style>\n",
       "<table border=\"1\" class=\"dataframe\">\n",
       "  <thead>\n",
       "    <tr style=\"text-align: right;\">\n",
       "      <th></th>\n",
       "      <th>year</th>\n",
       "      <th>country</th>\n",
       "      <th>count</th>\n",
       "    </tr>\n",
       "  </thead>\n",
       "  <tbody>\n",
       "    <tr>\n",
       "      <th>0</th>\n",
       "      <td>2020</td>\n",
       "      <td>SI</td>\n",
       "      <td>0</td>\n",
       "    </tr>\n",
       "    <tr>\n",
       "      <th>1</th>\n",
       "      <td>2020</td>\n",
       "      <td>ZA</td>\n",
       "      <td>0</td>\n",
       "    </tr>\n",
       "    <tr>\n",
       "      <th>2</th>\n",
       "      <td>2020</td>\n",
       "      <td>UA</td>\n",
       "      <td>0</td>\n",
       "    </tr>\n",
       "    <tr>\n",
       "      <th>3</th>\n",
       "      <td>2020</td>\n",
       "      <td>TH</td>\n",
       "      <td>0</td>\n",
       "    </tr>\n",
       "    <tr>\n",
       "      <th>4</th>\n",
       "      <td>2020</td>\n",
       "      <td>SG</td>\n",
       "      <td>0</td>\n",
       "    </tr>\n",
       "    <tr>\n",
       "      <th>...</th>\n",
       "      <td>...</td>\n",
       "      <td>...</td>\n",
       "      <td>...</td>\n",
       "    </tr>\n",
       "    <tr>\n",
       "      <th>1635</th>\n",
       "      <td>2020</td>\n",
       "      <td>NZ</td>\n",
       "      <td>6</td>\n",
       "    </tr>\n",
       "    <tr>\n",
       "      <th>1636</th>\n",
       "      <td>2020</td>\n",
       "      <td>PL</td>\n",
       "      <td>1</td>\n",
       "    </tr>\n",
       "    <tr>\n",
       "      <th>1637</th>\n",
       "      <td>2020</td>\n",
       "      <td>RU</td>\n",
       "      <td>1</td>\n",
       "    </tr>\n",
       "    <tr>\n",
       "      <th>1638</th>\n",
       "      <td>2020</td>\n",
       "      <td>SE</td>\n",
       "      <td>8</td>\n",
       "    </tr>\n",
       "    <tr>\n",
       "      <th>1639</th>\n",
       "      <td>2020</td>\n",
       "      <td>US</td>\n",
       "      <td>190</td>\n",
       "    </tr>\n",
       "  </tbody>\n",
       "</table>\n",
       "<p>1640 rows × 3 columns</p>\n",
       "</div>"
      ],
      "text/plain": [
       "      year country  count\n",
       "0     2020      SI      0\n",
       "1     2020      ZA      0\n",
       "2     2020      UA      0\n",
       "3     2020      TH      0\n",
       "4     2020      SG      0\n",
       "...    ...     ...    ...\n",
       "1635  2020      NZ      6\n",
       "1636  2020      PL      1\n",
       "1637  2020      RU      1\n",
       "1638  2020      SE      8\n",
       "1639  2020      US    190\n",
       "\n",
       "[1640 rows x 3 columns]"
      ]
     },
     "execution_count": 75,
     "metadata": {},
     "output_type": "execute_result"
    }
   ],
   "source": [
    "df_counts_complete"
   ]
  },
  {
   "cell_type": "code",
   "execution_count": 76,
   "id": "ebf594eb",
   "metadata": {},
   "outputs": [],
   "source": [
    "df_counts_complete.to_csv('/Volumes/NJ_4TB/PATSAT/MyFiles/TOTPAT_per_year.csv', index=False)"
   ]
  },
  {
   "cell_type": "code",
   "execution_count": 77,
   "id": "05e3229c",
   "metadata": {},
   "outputs": [],
   "source": [
    "sumall= df_counts_complete.groupby(['year'])['count'].sum().reset_index()[\"count\"].to_numpy()"
   ]
  },
  {
   "cell_type": "code",
   "execution_count": 78,
   "id": "d57f8be6",
   "metadata": {},
   "outputs": [
    {
     "data": {
      "text/plain": [
       "Text(0.5, 1.0, 'Total patents per year for all countries')"
      ]
     },
     "execution_count": 78,
     "metadata": {},
     "output_type": "execute_result"
    },
    {
     "data": {
      "image/png": "[encoded data removed]",
      "text/plain": [
       "<Figure size 432x288 with 1 Axes>"
      ]
     },
     "metadata": {
      "needs_background": "light"
     },
     "output_type": "display_data"
    }
   ],
   "source": [
    "import matplotlib.pyplot as plt\n",
    "plt.plot(np.arange(1980,2021),sumall)\n",
    "plt.title(\"Total patents per year for all countries\")"
   ]
  },
  {
   "cell_type": "code",
   "execution_count": null,
   "id": "768d3235",
   "metadata": {},
   "outputs": [],
   "source": []
  }
 ],
 "metadata": {
  "kernelspec": {
   "display_name": "Python 3 (ipykernel)",
   "language": "python",
   "name": "python3"
  },
  "language_info": {
   "codemirror_mode": {
    "name": "ipython",
    "version": 3
   },
   "file_extension": ".py",
   "mimetype": "text/x-python",
   "name": "python",
   "nbconvert_exporter": "python",
   "pygments_lexer": "ipython3",
   "version": "3.9.7"
  }
 },
 "nbformat": 4,
 "nbformat_minor": 5
}
