{
 "cells": [
  {
   "cell_type": "code",
   "execution_count": 2,
   "metadata": {},
   "outputs": [
    {
     "data": {
      "text/plain": [
       "84076043"
      ]
     },
     "execution_count": 2,
     "metadata": {},
     "output_type": "execute_result"
    }
   ],
   "source": [
    "import pandas as pd\n",
    "df1 = pd.read_csv('/Volumes/NJ_4TB/PATSAT/tls207_part01.csv',skipinitialspace=True, header=0)\n",
    "ids = df1['appln_id']\n",
    "ids1 = pd.DataFrame(data = ids)\n",
    "df1['appln_id'].nunique()\n",
    "#84,076,043"
   ]
  },
  {
   "cell_type": "code",
   "execution_count": 3,
   "metadata": {},
   "outputs": [
    {
     "data": {
      "text/html": [
       "<div>\n",
       "<style scoped>\n",
       "    .dataframe tbody tr th:only-of-type {\n",
       "        vertical-align: middle;\n",
       "    }\n",
       "\n",
       "    .dataframe tbody tr th {\n",
       "        vertical-align: top;\n",
       "    }\n",
       "\n",
       "    .dataframe thead th {\n",
       "        text-align: right;\n",
       "    }\n",
       "</style>\n",
       "<table border=\"1\" class=\"dataframe\">\n",
       "  <thead>\n",
       "    <tr style=\"text-align: right;\">\n",
       "      <th></th>\n",
       "      <th>appln_id</th>\n",
       "    </tr>\n",
       "  </thead>\n",
       "  <tbody>\n",
       "    <tr>\n",
       "      <th>0</th>\n",
       "      <td>1</td>\n",
       "    </tr>\n",
       "    <tr>\n",
       "      <th>1</th>\n",
       "      <td>7</td>\n",
       "    </tr>\n",
       "    <tr>\n",
       "      <th>2</th>\n",
       "      <td>46</td>\n",
       "    </tr>\n",
       "    <tr>\n",
       "      <th>3</th>\n",
       "      <td>775</td>\n",
       "    </tr>\n",
       "    <tr>\n",
       "      <th>4</th>\n",
       "      <td>1192</td>\n",
       "    </tr>\n",
       "    <tr>\n",
       "      <th>...</th>\n",
       "      <td>...</td>\n",
       "    </tr>\n",
       "    <tr>\n",
       "      <th>265253176</th>\n",
       "      <td>521447033</td>\n",
       "    </tr>\n",
       "    <tr>\n",
       "      <th>265253177</th>\n",
       "      <td>517358871</td>\n",
       "    </tr>\n",
       "    <tr>\n",
       "      <th>265253178</th>\n",
       "      <td>522285092</td>\n",
       "    </tr>\n",
       "    <tr>\n",
       "      <th>265253179</th>\n",
       "      <td>526077838</td>\n",
       "    </tr>\n",
       "    <tr>\n",
       "      <th>265253180</th>\n",
       "      <td>526077568</td>\n",
       "    </tr>\n",
       "  </tbody>\n",
       "</table>\n",
       "<p>265253181 rows × 1 columns</p>\n",
       "</div>"
      ],
      "text/plain": [
       "            appln_id\n",
       "0                  1\n",
       "1                  7\n",
       "2                 46\n",
       "3                775\n",
       "4               1192\n",
       "...              ...\n",
       "265253176  521447033\n",
       "265253177  517358871\n",
       "265253178  522285092\n",
       "265253179  526077838\n",
       "265253180  526077568\n",
       "\n",
       "[265253181 rows x 1 columns]"
      ]
     },
     "execution_count": 3,
     "metadata": {},
     "output_type": "execute_result"
    }
   ],
   "source": [
    "ids1"
   ]
  },
  {
   "cell_type": "code",
   "execution_count": null,
   "metadata": {},
   "outputs": [],
   "source": [
    "df1['person_id'].nunique()\n",
    "#61,558,031"
   ]
  },
  {
   "cell_type": "markdown",
   "metadata": {},
   "source": [
    "~84 million unique applications have persons associated with them, and ~62 million unique persons have contributed to the dataset"
   ]
  },
  {
   "cell_type": "code",
   "execution_count": 4,
   "metadata": {},
   "outputs": [
    {
     "name": "stdout",
     "output_type": "stream",
     "text": [
      "0\n",
      "1\n",
      "2\n",
      "3\n",
      "4\n",
      "5\n",
      "6\n",
      "7\n",
      "8\n",
      "9\n",
      "10\n",
      "11\n",
      "12\n",
      "13\n",
      "14\n",
      "15\n",
      "16\n",
      "17\n",
      "18\n",
      "19\n",
      "20\n",
      "21\n",
      "22\n",
      "23\n",
      "24\n"
     ]
    },
    {
     "name": "stderr",
     "output_type": "stream",
     "text": [
      "/Users/nitashajhala/opt/anaconda3/lib/python3.9/site-packages/IPython/core/interactiveshell.py:3444: DtypeWarning: Columns (0) have mixed types.Specify dtype option on import or set low_memory=False.\n",
      "  exec(code_obj, self.user_global_ns, self.user_ns)\n"
     ]
    },
    {
     "data": {
      "text/plain": [
       "5758923"
      ]
     },
     "execution_count": 4,
     "metadata": {},
     "output_type": "execute_result"
    }
   ],
   "source": [
    "#checking how many of the 8.5 million Y02 patents have associated person ids\n",
    "df2 = pd.read_csv('/Volumes/NJ_4TB/PATSAT/MyFiles/General/CPC_with_labels.csv', chunksize=500000, skipinitialspace=True, header=0)\n",
    "header = True\n",
    "chunkid=0\n",
    "for chunk in df2:\n",
    "    chunk = ids1.merge(chunk, on='appln_id', how='inner') #filter by ids\n",
    "    chunk.to_csv('/Volumes/NJ_4TB/PATSAT/MyFiles/General/Check1.csv', index=False, mode='a', header=header)\n",
    "    print (chunkid)\n",
    "    chunkid = chunkid + 1\n",
    "    header = False\n",
    "df3 = pd.read_csv('/Volumes/NJ_4TB/PATSAT/MyFiles/General/Check1.csv', skipinitialspace=True, header=0)\n",
    "df3['appln_id'].nunique()\n",
    "#5,758,923"
   ]
  },
  {
   "cell_type": "code",
   "execution_count": null,
   "metadata": {},
   "outputs": [],
   "source": [
    "df3"
   ]
  },
  {
   "cell_type": "code",
   "execution_count": 6,
   "metadata": {},
   "outputs": [
    {
     "name": "stdout",
     "output_type": "stream",
     "text": [
      "0\n",
      "1\n",
      "2\n",
      "3\n",
      "4\n",
      "5\n",
      "6\n",
      "7\n",
      "8\n",
      "9\n"
     ]
    },
    {
     "data": {
      "text/plain": [
       "2283814"
      ]
     },
     "execution_count": 6,
     "metadata": {},
     "output_type": "execute_result"
    }
   ],
   "source": [
    "df4 = pd.read_csv('/Volumes/NJ_4TB/PATSAT/MyFiles/General/CPC_with_labels_2.csv', chunksize=500000, skipinitialspace=True, header=0)\n",
    "header = True\n",
    "chunkid=0\n",
    "for chunk in df4:\n",
    "    chunk = ids1.merge(chunk, on='appln_id', how='inner') #filter by ids\n",
    "    chunk.to_csv('/Volumes/NJ_4TB/PATSAT/MyFiles/General/Check2.csv', index=False, mode='a', header=header)\n",
    "    print (chunkid)\n",
    "    chunkid = chunkid + 1\n",
    "    header = False\n",
    "df5 = pd.read_csv('/Volumes/NJ_4TB/PATSAT/MyFiles/General/Check2.csv', skipinitialspace=True, header=0)\n",
    "df5['appln_id'].nunique()\n",
    "#2,283,814"
   ]
  },
  {
   "cell_type": "code",
   "execution_count": null,
   "metadata": {},
   "outputs": [],
   "source": [
    "del df1, df2, df3, df4, df5, ids"
   ]
  },
  {
   "cell_type": "markdown",
   "metadata": {},
   "source": [
    "~8 million Y02 patents have persons associated with them"
   ]
  },
  {
   "cell_type": "markdown",
   "metadata": {},
   "source": [
    "### Filter Inventors by Application id"
   ]
  },
  {
   "cell_type": "markdown",
   "metadata": {},
   "source": [
    "First I extract all relevant Person Id's from the larger database"
   ]
  },
  {
   "cell_type": "code",
   "execution_count": null,
   "metadata": {},
   "outputs": [],
   "source": [
    "import pandas as pd\n",
    "import numpy as np\n",
    "field = ['appln_id']\n",
    "df2 = pd.read_csv('/Volumes/NJ_4TB/PATSAT/MyFiles/General/CPCcodes_1.csv',skipinitialspace=True, usecols = field) \n",
    "ids = df2.drop_duplicates() #extract relevant unique ids"
   ]
  },
  {
   "cell_type": "code",
   "execution_count": null,
   "metadata": {},
   "outputs": [],
   "source": [
    "fields = ['person_id', 'appln_id']\n",
    "df3 = pd.read_csv('/Volumes/NJ_4TB/PATSAT/tls207_part01.csv',skipinitialspace=True, chunksize=200000, header=0,usecols=fields)\n",
    "header = True\n",
    "chunkid=0\n",
    "for chunk in df3:\n",
    "    chunk = ids.merge(chunk, on='appln_id', how='inner') #filter by ids\n",
    "    chunk.to_csv('/Volumes/NJ_4TB/PATSAT/MyFiles/General/Persons_1.csv', index=False, mode='a', header=header)\n",
    "    print (chunkid)\n",
    "    chunkid = chunkid + 1\n",
    "    header = False"
   ]
  },
  {
   "cell_type": "code",
   "execution_count": null,
   "metadata": {},
   "outputs": [],
   "source": [
    "del ids, df2\n",
    "import pandas as pd\n",
    "import numpy as np\n",
    "field = ['appln_id']\n",
    "df2 = pd.read_csv('/Volumes/NJ_4TB/PATSAT/MyFiles/General/CPCcodes_2.csv',skipinitialspace=True, usecols = field) \n",
    "ids = df2.drop_duplicates() #extract relevant unique ids"
   ]
  },
  {
   "cell_type": "code",
   "execution_count": null,
   "metadata": {},
   "outputs": [],
   "source": [
    "fields = ['person_id', 'appln_id']\n",
    "df3 = pd.read_csv('/Volumes/NJ_4TB/PATSAT/tls207_part01.csv',skipinitialspace=True, chunksize=500000, header=0,usecols=fields)\n",
    "header = True\n",
    "chunkid=0\n",
    "for chunk in df3:\n",
    "    chunk = ids.merge(chunk, on='appln_id', how='inner') #filter by ids\n",
    "    chunk.to_csv('/Volumes/NJ_4TB/PATSAT/MyFiles1/Persons_2.csv', index=False, mode='a', header=header)\n",
    "    print (chunkid)\n",
    "    chunkid = chunkid + 1\n",
    "    header = False"
   ]
  },
  {
   "cell_type": "code",
   "execution_count": null,
   "metadata": {},
   "outputs": [],
   "source": [
    "del ids, df2"
   ]
  },
  {
   "cell_type": "markdown",
   "metadata": {},
   "source": [
    "### Extract Countries of Residence"
   ]
  },
  {
   "cell_type": "markdown",
   "metadata": {},
   "source": [
    "Then I use Person id's to filter out country codes"
   ]
  },
  {
   "cell_type": "code",
   "execution_count": null,
   "metadata": {},
   "outputs": [],
   "source": [
    "import pandas as pd\n",
    "import numpy as np\n",
    "#extract relevant person ids\n",
    "field = ['person_id']\n",
    "df1 = pd.read_csv('/Volumes/NJ_4TB/PATSAT/MyFiles/General/Persons_1.csv',skipinitialspace=True, usecols = field) \n",
    "ids = df1.drop_duplicates() #extract relevant unique person ids"
   ]
  },
  {
   "cell_type": "code",
   "execution_count": null,
   "metadata": {},
   "outputs": [],
   "source": [
    "fields = ['person_id', 'person_ctry_code']\n",
    "#once again, parse through relevant person ids and residence country code columns\n",
    "df2 = pd.read_csv('/Volumes/NJ_4TB/PATSAT/tls226_part01.csv',skipinitialspace=True, chunksize=500000, header=0,usecols=fields)\n",
    "header = True\n",
    "chunkid=0\n",
    "for chunk in df2:\n",
    "    chunk = ids.merge(chunk, on='person_id', how='inner') #filter by person ids\n",
    "    chunk.to_csv('/Volumes/NJ_4TB/PATSAT/MyFiles/General/Residence_1.csv', index=False, mode='a', header=header)\n",
    "    print (chunkid)\n",
    "    chunkid = chunkid + 1\n",
    "    header = False"
   ]
  },
  {
   "cell_type": "code",
   "execution_count": null,
   "metadata": {},
   "outputs": [],
   "source": [
    "del df1, df2, ids"
   ]
  },
  {
   "cell_type": "code",
   "execution_count": null,
   "metadata": {},
   "outputs": [],
   "source": [
    "#similarly for Persons 2\n",
    "import pandas as pd\n",
    "import numpy as np\n",
    "field = ['person_id']\n",
    "df1 = pd.read_csv('/Volumes/NJ_4TB/PATSAT/MyFiles/General/Persons_2.csv',skipinitialspace=True, usecols = field) \n",
    "ids = df1.drop_duplicates() #extract relevant unique person ids\n",
    "import pandas as pd\n",
    "import numpy as np\n",
    "fields = ['person_id', 'person_ctry_code']\n",
    "#once again, parse through relevant person ids and residence country code columns\n",
    "df2 = pd.read_csv('/Volumes/NJ_4TB/PATSAT/tls226_part02.csv',skipinitialspace=True, chunksize=500000, header=0,usecols=fields)\n",
    "header = True\n",
    "chunkid=0\n",
    "for chunk in df2:\n",
    "    chunk = ids.merge(chunk, on='person_id', how='inner') #filter by person ids\n",
    "    chunk.to_csv('/Volumes/NJ_4TB/PATSAT/MyFiles/General/Residence_2.csv', index=False, mode='a', header=header)\n",
    "    print (chunkid)\n",
    "    chunkid = chunkid + 1\n",
    "    header = False"
   ]
  },
  {
   "cell_type": "code",
   "execution_count": null,
   "metadata": {},
   "outputs": [],
   "source": [
    "del df2\n",
    "import pandas as pd\n",
    "import numpy as np\n",
    "#once again, parse through relevant person ids and residence country code columns\n",
    "df2 = pd.read_csv('/Volumes/NJ_4TB/PATSAT/tls226_part02.csv',skipinitialspace=True, header=0, nrows=100)\n",
    "df2.head()"
   ]
  },
  {
   "cell_type": "code",
   "execution_count": null,
   "metadata": {},
   "outputs": [],
   "source": [
    "del df1, df2, ids"
   ]
  },
  {
   "cell_type": "code",
   "execution_count": null,
   "metadata": {},
   "outputs": [],
   "source": [
    "#merging names and country codes\n",
    "import pandas as pd\n",
    "import numpy as np\n",
    "df1 = pd.read_csv('/Volumes/NJ_4TB/PATSAT/MyFiles/General/Persons_1.csv',skipinitialspace=True, header=0)\n",
    "df2 = pd.read_csv('/Volumes/NJ_4TB/PATSAT/MyFiles/General/Residence_1.csv',skipinitialspace=True, header=0)\n",
    "df3 = pd.merge(df1, df2.drop_duplicates() , on=\"person_id\", how = 'inner')"
   ]
  },
  {
   "cell_type": "code",
   "execution_count": null,
   "metadata": {},
   "outputs": [],
   "source": [
    "df3.to_csv('/Volumes/NJ_4TB/PATSAT/MyFiles/General/CountryPersons1.csv', encoding='utf-8', index=False)"
   ]
  },
  {
   "cell_type": "code",
   "execution_count": 10,
   "metadata": {},
   "outputs": [
    {
     "data": {
      "text/plain": [
       "5701090"
      ]
     },
     "execution_count": 10,
     "metadata": {},
     "output_type": "execute_result"
    }
   ],
   "source": [
    "import pandas as pd\n",
    "field = ['appln_id']\n",
    "df4 = pd.read_csv('/Volumes/NJ_4TB/PATSAT/MyFiles/General/CountryPersons1.csv', skipinitialspace=True, usecols=field, header=0)\n",
    "df4['appln_id'].nunique()\n",
    "#5,701,090"
   ]
  },
  {
   "cell_type": "code",
   "execution_count": null,
   "metadata": {},
   "outputs": [],
   "source": [
    "del df1, df2, df3, df4"
   ]
  },
  {
   "cell_type": "code",
   "execution_count": null,
   "metadata": {},
   "outputs": [],
   "source": [
    "import pandas as pd\n",
    "import numpy as np\n",
    "df1 = pd.read_csv('/Volumes/NJ_4TB/PATSAT/MyFiles/Persons_2.csv',skipinitialspace=True, header=0)\n",
    "df2 = pd.read_csv('/Volumes/NJ_4TB/PATSAT/MyFiles/Residence_2.csv',skipinitialspace=True, header=0)\n",
    "df3 = pd.merge(df1, df2.drop_duplicates() , on=\"person_id\", how = 'inner')"
   ]
  },
  {
   "cell_type": "code",
   "execution_count": null,
   "metadata": {},
   "outputs": [],
   "source": [
    "df3.to_csv('/Volumes/NJ_4TB/PATSAT/MyFiles/CountryPersons2.csv', encoding='utf-8', index=False)"
   ]
  },
  {
   "cell_type": "code",
   "execution_count": 12,
   "metadata": {},
   "outputs": [
    {
     "data": {
      "text/plain": [
       "960054"
      ]
     },
     "execution_count": 12,
     "metadata": {},
     "output_type": "execute_result"
    }
   ],
   "source": [
    "import pandas as pd\n",
    "field = ['appln_id']\n",
    "df4 = pd.read_csv('/Volumes/NJ_4TB/PATSAT/MyFiles/General/CountryPersons2.csv', skipinitialspace=True, usecols=field, header=0)\n",
    "df4['appln_id'].nunique()\n",
    "#960,054"
   ]
  },
  {
   "cell_type": "code",
   "execution_count": null,
   "metadata": {},
   "outputs": [],
   "source": [
    "del df1, df2, df3, df4"
   ]
  },
  {
   "cell_type": "markdown",
   "metadata": {},
   "source": [
    "There are 6,661,144 unique patents with non-overlapping inventors."
   ]
  },
  {
   "cell_type": "markdown",
   "metadata": {},
   "source": [
    "### Divide person ids and country codes based on application categories"
   ]
  },
  {
   "cell_type": "code",
   "execution_count": null,
   "metadata": {},
   "outputs": [],
   "source": [
    "import pandas as pd\n",
    "import numpy as np\n",
    "field = ['appln_id']\n",
    "#first try with one category\n",
    "df1 = pd.read_csv('/Volumes/NJ_4TB/PATSAT/MyFiles/Adapt.csv',skipinitialspace=True, usecols = field) \n",
    "ids = df1.drop_duplicates() #extract relevant unique ids"
   ]
  },
  {
   "cell_type": "code",
   "execution_count": null,
   "metadata": {
    "scrolled": true
   },
   "outputs": [],
   "source": [
    "df2 = pd.read_csv('/Volumes/NJ_4TB/PATSAT/MyFiles/General/CountryPersons1.csv',skipinitialspace=True, chunksize=500000, header=0)\n",
    "header = True\n",
    "for chunk in df2:\n",
    "    if (chunk['appln_id'].dtype is not ids['appln_id'].dtype):\n",
    "        chunk['appln_id'] = pd.to_numeric(chunk['appln_id'], errors='coerce')\n",
    "        chunk.dropna(subset=['appln_id'], inplace=True)\n",
    "        chunk['appln_id'] = chunk['appln_id'].astype(ids['appln_id'].dtype)\n",
    "    chunk = ids.merge(chunk, on='appln_id', how='inner') #filter by ids\n",
    "    chunk.to_csv('/Volumes/NJ_4TB/PATSAT/MyFiles/Extras/Adapt_residence.csv', index=False, mode='a', header=header)\n",
    "    header = False"
   ]
  },
  {
   "cell_type": "code",
   "execution_count": null,
   "metadata": {},
   "outputs": [],
   "source": [
    "del df1, df2"
   ]
  },
  {
   "cell_type": "code",
   "execution_count": null,
   "metadata": {},
   "outputs": [],
   "source": [
    "#creating a for loop for the remaining categories\n",
    "import pandas as pd\n",
    "import numpy as np\n",
    "Category = ['Build', 'Sequester', 'ICT', 'Geo', 'Hydro', 'Ocean', 'Solar-T', 'PV', 'Thermal-PV', 'Wind', 'Combust', 'Fusion', 'Fission', 'Electric', 'Biofuel', 'Waste', 'Store- B', 'Store - C', 'Store- T', 'Store- M', 'Hydrogen', 'Other-1', 'Other-2', 'Other-3', 'Processing', 'Transport', 'Wastewater', 'SmrtGrds', 'Other-4', 'Other-5', 'Nuclear', 'Non-Fossil', 'Enable','Other-6']\n",
    "field = ['appln_id']\n",
    "for c in Category:\n",
    "    df1 = pd.read_csv('/Volumes/NJ_4TB/PATSAT/MyFiles/'+ c +'.csv',skipinitialspace=True, usecols = field) \n",
    "    ids = df1.drop_duplicates() #extract relevant unique ids\n",
    "    df2 = pd.read_csv('/Volumes/NJ_4TB/PATSAT/MyFiles/General/CountryPersons1.csv',skipinitialspace=True, chunksize=500000, header=0)\n",
    "    header = True\n",
    "    for chunk in df2:\n",
    "        if (chunk['appln_id'].dtype is not ids['appln_id'].dtype):\n",
    "            chunk['appln_id'] = pd.to_numeric(chunk['appln_id'], errors='coerce')\n",
    "            chunk.dropna(subset=['appln_id'], inplace=True)\n",
    "            chunk['appln_id'] = chunk['appln_id'].astype(ids['appln_id'].dtype)\n",
    "        chunk = ids.merge(chunk, on='appln_id', how='inner') #filter by ids\n",
    "        chunk.to_csv('/Volumes/NJ_4TB/PATSAT/MyFiles/Extras/' + c + '_residence.csv', index=False, mode='a', header=header)\n",
    "        header = False\n",
    "    del df1, df2"
   ]
  },
  {
   "cell_type": "markdown",
   "metadata": {},
   "source": [
    "Similarly for the second half of the data"
   ]
  },
  {
   "cell_type": "code",
   "execution_count": null,
   "metadata": {},
   "outputs": [],
   "source": [
    "import pandas as pd\n",
    "import numpy as np\n",
    "Category = ['Adapt','Build', 'Sequester', 'ICT', 'Geo', 'Hydro', 'Ocean', 'Solar-T', 'PV', 'Thermal-PV', 'Wind', 'Combust', 'Fusion', 'Fission', 'Electric', 'Biofuel', 'Waste', 'Store- B', 'Store - C', 'Store- T', 'Store- M', 'Hydrogen', 'Other-1', 'Other-2', 'Other-3', 'Processing', 'Transport', 'Wastewater', 'SmrtGrds', 'Other-4', 'Other-5', 'Nuclear', 'Non-Fossil', 'Enable','Other-6']\n",
    "field = ['appln_id']\n",
    "for c in Category:\n",
    "    df1 = pd.read_csv('/Volumes/NJ_4TB/PATSAT/MyFiles/'+ c +'.csv',skipinitialspace=True, usecols = field) \n",
    "    ids = df1.drop_duplicates() #extract relevant unique ids\n",
    "    df2 = pd.read_csv('/Volumes/NJ_4TB/PATSAT/MyFiles/CountryPersons2.csv',skipinitialspace=True, chunksize=500000, header=0)\n",
    "    header = True\n",
    "    for chunk in df2:\n",
    "        if (chunk['appln_id'].dtype is not ids['appln_id'].dtype):\n",
    "            chunk['appln_id'] = pd.to_numeric(chunk['appln_id'], errors='coerce')\n",
    "            chunk.dropna(subset=['appln_id'], inplace=True)\n",
    "            chunk['appln_id'] = chunk['appln_id'].astype(ids['appln_id'].dtype)\n",
    "        chunk = ids.merge(chunk, on='appln_id', how='inner') #filter by ids\n",
    "        chunk.to_csv('/Volumes/NJ_4TB/PATSAT/MyFiles/Extras/' + c + '_residence2.csv', index=False, mode='a', header=header)\n",
    "        header = False\n",
    "    del df1, df2"
   ]
  },
  {
   "cell_type": "code",
   "execution_count": null,
   "metadata": {},
   "outputs": [],
   "source": [
    "import pandas as pd\n",
    "import numpy as np\n",
    "#merging tables\n",
    "Category = ['Adapt','Build', 'Sequester', 'ICT', 'Geo', 'Hydro', 'Ocean', 'Solar-T', 'PV', 'Thermal-PV', 'Wind', 'Combust', 'Fusion', 'Fission', 'Electric', 'Biofuel', 'Waste', 'Store- B', 'Store - C', 'Store- T', 'Store- M', 'Hydrogen', 'Other-1', 'Other-2', 'Other-3', 'Processing', 'Transport', 'Wastewater', 'SmrtGrds', 'Other-4', 'Other-5', 'Nuclear', 'Non-Fossil', 'Enable','Other-6']\n",
    "for c in Category:\n",
    "    df1 = pd.read_csv('/Volumes/NJ_4TB/PATSAT/MyFiles/'+ c + '_residence.csv',skipinitialspace=True) \n",
    "    df2 = pd.read_csv('/Volumes/NJ_4TB/PATSAT/MyFiles/'+ c + '_residence2.csv',skipinitialspace=True)\n",
    "    df3 = pd.concat([df1, df2])\n",
    "    df3.to_csv('/Volumes/NJ_4TB/PATSAT/MyFiles/Extras/'+ c + '_Residence_complete.csv', encoding='utf-8', index=False)\n",
    "    del df1, df2, df3"
   ]
  },
  {
   "cell_type": "markdown",
   "metadata": {},
   "source": [
    "Check maximum investors per record"
   ]
  },
  {
   "cell_type": "code",
   "execution_count": null,
   "metadata": {},
   "outputs": [],
   "source": [
    "import pandas as pd\n",
    "import numpy as np\n",
    "df1 = pd.read_csv('/Volumes/NJ_4TB/PATSAT/MyFiles/Persons_1.csv',skipinitialspace=True, header=0)\n",
    "items_counts = df1['appln_id'].value_counts()\n",
    "max_item = items_counts.max()\n",
    "del df1\n",
    "#There are a maximum of 132 inventors associated with a patent"
   ]
  },
  {
   "cell_type": "code",
   "execution_count": null,
   "metadata": {},
   "outputs": [],
   "source": [
    "import pandas as pd\n",
    "import numpy as np\n",
    "df1 = pd.read_csv('/Volumes/NJ_4TB/PATSAT/MyFiles/Persons_2.csv',skipinitialspace=True, header=0)\n",
    "items_counts = df1['appln_id'].value_counts()\n",
    "max_item = items_counts.max()\n",
    "del df1\n",
    "#There are a maximum of 134 inventors associated with a patent"
   ]
  },
  {
   "cell_type": "code",
   "execution_count": null,
   "metadata": {},
   "outputs": [],
   "source": [
    "df1['appln_id'].value_counts().idxmax()"
   ]
  },
  {
   "cell_type": "code",
   "execution_count": null,
   "metadata": {},
   "outputs": [],
   "source": [
    "df1.loc[df1['appln_id'] == 478696789]\n"
   ]
  },
  {
   "cell_type": "markdown",
   "metadata": {},
   "source": [
    "Therefore we will randmly pick 5 inventors per application"
   ]
  },
  {
   "cell_type": "code",
   "execution_count": null,
   "metadata": {},
   "outputs": [],
   "source": [
    "df2 = df1.groupby('appln_id', group_keys=False).apply(lambda x: x.sample(min(len(x), 5)))"
   ]
  },
  {
   "cell_type": "code",
   "execution_count": null,
   "metadata": {},
   "outputs": [],
   "source": [
    "items_counts = df2['appln_id'].value_counts()\n",
    "max_item = items_counts.max()\n",
    "max_item"
   ]
  },
  {
   "cell_type": "code",
   "execution_count": null,
   "metadata": {},
   "outputs": [],
   "source": [
    "del df1, df2"
   ]
  },
  {
   "cell_type": "markdown",
   "metadata": {},
   "source": [
    "So we use this function and loop over all categories"
   ]
  },
  {
   "cell_type": "code",
   "execution_count": 2,
   "metadata": {
    "scrolled": false
   },
   "outputs": [
    {
     "name": "stdout",
     "output_type": "stream",
     "text": [
      "Other-3 0\n",
      "2.755944013595581\n",
      "5.483444929122925\n",
      "0.014072895050048828\n",
      "Processing 0\n",
      "246.01611423492432\n",
      "511.7457129955292\n",
      "1.4600000381469727\n",
      "Processing 1\n",
      "66.94035196304321\n",
      "140.90567803382874\n",
      "0.3085031509399414\n",
      "Transport 0\n",
      "243.54518222808838\n",
      "511.7477488517761\n",
      "1.178847074508667\n",
      "Wastewater 0\n",
      "112.61174726486206\n",
      "239.00197076797485\n",
      "0.5543951988220215\n",
      "SmrtGrds 0\n",
      "20.026781797409058\n",
      "41.03979992866516\n",
      "0.10549592971801758\n",
      "Other-4 0\n",
      "336.8037860393524\n",
      "715.5290319919586\n",
      "1.7175500392913818\n",
      "Other-4 1\n",
      "369.3167669773102\n",
      "801.6649436950684\n",
      "2.3007571697235107\n",
      "Other-4 2\n",
      "258.13688921928406\n",
      "533.0633499622345\n",
      "1.2366139888763428\n",
      "Other-5 0\n",
      "392.5091359615326\n",
      "876.6879451274872\n",
      "2.26035213470459\n",
      "Other-5 1\n",
      "460.3381350040436\n",
      "1029.5763647556305\n",
      "2.664304256439209\n",
      "Other-5 2\n",
      "415.3897759914398\n",
      "907.2305099964142\n",
      "2.585608959197998\n",
      "Other-5 3\n",
      "331.2115159034729\n",
      "772.3239221572876\n",
      "2.1438729763031006\n",
      "Nuclear 0\n",
      "22.860953092575073\n",
      "59.39946889877319\n",
      "0.16038203239440918\n",
      "Non-Fossil 0\n",
      "0.011252880096435547\n",
      "0.017922163009643555\n",
      "0.015314817428588867\n",
      "Enable 0\n",
      "31.915506839752197\n",
      "64.8177101612091\n",
      "0.12096881866455078\n",
      "Other-6 0\n",
      "1.2157649993896484\n",
      "2.5442819595336914\n",
      "0.014471054077148438\n"
     ]
    }
   ],
   "source": [
    "import pandas as pd\n",
    "import numpy as np\n",
    "import time\n",
    "Category = ['Adapt','Build', 'Sequester', 'ICT', 'Geo', 'Hydro', 'Ocean', 'Solar-T', 'PV', 'Thermal-PV', 'Wind', 'Combust', 'Fusion', 'Fission', 'Electric', 'Biofuel', 'Waste', 'Store- B', 'Store - C', 'Store- T', 'Store- M', 'Hydrogen', 'Other-1', 'Other-2', 'Other-3', 'Processing', 'Transport', 'Wastewater', 'SmrtGrds', 'Other-4', 'Other-5', 'Nuclear', 'Non-Fossil', 'Enable','Other-6']\n",
    "for c in Category:\n",
    "    df1 = pd.read_csv('/Volumes/NJ_4TB/PATSAT/MyFiles/'+ c + '_Residence_complete.csv', skipinitialspace=True, chunksize=2000000, header=0)\n",
    "    header = True\n",
    "    iteration = 0 \n",
    "    for chunk in df1:\n",
    "        print(c, iteration)\n",
    "        iteration += 1\n",
    "        time1 = time.time()\n",
    "        df2 = chunk.groupby('appln_id', group_keys=False).apply(lambda x: x.sample(min(len(x), 5)))\n",
    "        time2 = time.time()\n",
    "        print(time2 - time1)\n",
    "        df3 = df2.groupby('appln_id', group_keys=False).apply(lambda x: x.assign(inventor_number=np.arange(min(len(x),5))))\n",
    "        time3 = time.time()\n",
    "        print(time3 - time2)\n",
    "        df4 = pd.pivot(df3, values=['person_id', 'person_ctry_code'],\n",
    "                        index=['appln_id'],\n",
    "                        columns=['inventor_number'])\n",
    "        df4['appln_id'] = df4.index.values\n",
    "        time4 = time.time()\n",
    "        print(time4 - time3)\n",
    "        df4.to_csv('/Volumes/NJ_4TB/PATSAT/MyFiles/Extras/'+ c + '_Residence_concise.csv', encoding='utf-8', index=False, mode='a', header=header)\n",
    "        header = False\n",
    "    del df1, df2"
   ]
  },
  {
   "cell_type": "code",
   "execution_count": 7,
   "metadata": {},
   "outputs": [
    {
     "data": {
      "text/html": [
       "<div>\n",
       "<style scoped>\n",
       "    .dataframe tbody tr th:only-of-type {\n",
       "        vertical-align: middle;\n",
       "    }\n",
       "\n",
       "    .dataframe tbody tr th {\n",
       "        vertical-align: top;\n",
       "    }\n",
       "\n",
       "    .dataframe thead th {\n",
       "        text-align: right;\n",
       "    }\n",
       "</style>\n",
       "<table border=\"1\" class=\"dataframe\">\n",
       "  <thead>\n",
       "    <tr style=\"text-align: right;\">\n",
       "      <th></th>\n",
       "      <th>person_id</th>\n",
       "      <th>person_id.1</th>\n",
       "      <th>person_id.2</th>\n",
       "      <th>person_id.3</th>\n",
       "      <th>person_id.4</th>\n",
       "      <th>person_ctry_code</th>\n",
       "      <th>person_ctry_code.1</th>\n",
       "      <th>person_ctry_code.2</th>\n",
       "      <th>person_ctry_code.3</th>\n",
       "      <th>person_ctry_code.4</th>\n",
       "      <th>appln_id</th>\n",
       "    </tr>\n",
       "  </thead>\n",
       "  <tbody>\n",
       "    <tr>\n",
       "      <th>0</th>\n",
       "      <td>0</td>\n",
       "      <td>1</td>\n",
       "      <td>2.0</td>\n",
       "      <td>3.0</td>\n",
       "      <td>4.0</td>\n",
       "      <td>0</td>\n",
       "      <td>1</td>\n",
       "      <td>2</td>\n",
       "      <td>3</td>\n",
       "      <td>4</td>\n",
       "      <td>NaN</td>\n",
       "    </tr>\n",
       "    <tr>\n",
       "      <th>1</th>\n",
       "      <td>72</td>\n",
       "      <td>71</td>\n",
       "      <td>73.0</td>\n",
       "      <td>NaN</td>\n",
       "      <td>NaN</td>\n",
       "      <td>FR</td>\n",
       "      <td>FR</td>\n",
       "      <td>FR</td>\n",
       "      <td>NaN</td>\n",
       "      <td>NaN</td>\n",
       "      <td>14.0</td>\n",
       "    </tr>\n",
       "    <tr>\n",
       "      <th>2</th>\n",
       "      <td>461</td>\n",
       "      <td>460</td>\n",
       "      <td>NaN</td>\n",
       "      <td>NaN</td>\n",
       "      <td>NaN</td>\n",
       "      <td>CY</td>\n",
       "      <td>CY</td>\n",
       "      <td>NaN</td>\n",
       "      <td>NaN</td>\n",
       "      <td>NaN</td>\n",
       "      <td>124.0</td>\n",
       "    </tr>\n",
       "    <tr>\n",
       "      <th>3</th>\n",
       "      <td>220</td>\n",
       "      <td>107387</td>\n",
       "      <td>44730436.0</td>\n",
       "      <td>NaN</td>\n",
       "      <td>NaN</td>\n",
       "      <td>DE</td>\n",
       "      <td>DE</td>\n",
       "      <td>DE</td>\n",
       "      <td>NaN</td>\n",
       "      <td>NaN</td>\n",
       "      <td>216.0</td>\n",
       "    </tr>\n",
       "    <tr>\n",
       "      <th>4</th>\n",
       "      <td>33392</td>\n",
       "      <td>942</td>\n",
       "      <td>NaN</td>\n",
       "      <td>NaN</td>\n",
       "      <td>NaN</td>\n",
       "      <td>DE</td>\n",
       "      <td>DE</td>\n",
       "      <td>NaN</td>\n",
       "      <td>NaN</td>\n",
       "      <td>NaN</td>\n",
       "      <td>233.0</td>\n",
       "    </tr>\n",
       "  </tbody>\n",
       "</table>\n",
       "</div>"
      ],
      "text/plain": [
       "   person_id  person_id.1  person_id.2  person_id.3  person_id.4  \\\n",
       "0          0            1          2.0          3.0          4.0   \n",
       "1         72           71         73.0          NaN          NaN   \n",
       "2        461          460          NaN          NaN          NaN   \n",
       "3        220       107387   44730436.0          NaN          NaN   \n",
       "4      33392          942          NaN          NaN          NaN   \n",
       "\n",
       "  person_ctry_code person_ctry_code.1 person_ctry_code.2 person_ctry_code.3  \\\n",
       "0                0                  1                  2                  3   \n",
       "1               FR                 FR                 FR                NaN   \n",
       "2               CY                 CY                NaN                NaN   \n",
       "3               DE                 DE                 DE                NaN   \n",
       "4               DE                 DE                NaN                NaN   \n",
       "\n",
       "  person_ctry_code.4  appln_id  \n",
       "0                  4       NaN  \n",
       "1                NaN      14.0  \n",
       "2                NaN     124.0  \n",
       "3                NaN     216.0  \n",
       "4                NaN     233.0  "
      ]
     },
     "execution_count": 7,
     "metadata": {},
     "output_type": "execute_result"
    }
   ],
   "source": [
    "import pandas as pd\n",
    "df3 = pd.read_csv('/Volumes/NJ_4TB/PATSAT/MyFiles1/Transport_Residence_concise.csv', skipinitialspace=True,nrows=10, header=0)\n",
    "df3.head()"
   ]
  },
  {
   "cell_type": "code",
   "execution_count": 8,
   "metadata": {},
   "outputs": [],
   "source": [
    "import pandas as pd\n",
    "field = ['appln_id']\n",
    "patents = 0\n",
    "Category = ['Adapt','Build', 'Sequester', 'ICT', 'Geo', 'Hydro', 'Ocean', 'Solar-T', 'PV', 'Thermal-PV', 'Wind', 'Combust', 'Fusion', 'Fission', 'Electric', 'Biofuel', 'Waste', 'Store- B', 'Store - C', 'Store- T', 'Store- M', 'Hydrogen', 'Other-1', 'Other-3', 'Processing', 'Transport', 'Wastewater', 'SmrtGrds', 'Other-4', 'Other-5', 'Nuclear', 'Non-Fossil', 'Enable','Other-6']\n",
    "for c in Category:\n",
    "    df = pd.read_csv('/Volumes/NJ_4TB/PATSAT/MyFiles/Extras/'+ c + '_Residence_complete.csv', skipinitialspace=True, usecols=field, header=0)\n",
    "    n = df['appln_id'].nunique()\n",
    "    patents = patents + n"
   ]
  },
  {
   "cell_type": "code",
   "execution_count": 9,
   "metadata": {},
   "outputs": [
    {
     "data": {
      "text/plain": [
       "7931602"
      ]
     },
     "execution_count": 9,
     "metadata": {},
     "output_type": "execute_result"
    }
   ],
   "source": [
    "patents"
   ]
  },
  {
   "cell_type": "markdown",
   "metadata": {},
   "source": [
    "We have retained 7,931,602 of 8,042,737 patents."
   ]
  },
  {
   "cell_type": "code",
   "execution_count": null,
   "metadata": {},
   "outputs": [],
   "source": []
  }
 ],
 "metadata": {
  "kernelspec": {
   "display_name": "Python 3 (ipykernel)",
   "language": "python",
   "name": "python3"
  },
  "language_info": {
   "codemirror_mode": {
    "name": "ipython",
    "version": 3
   },
   "file_extension": ".py",
   "mimetype": "text/x-python",
   "name": "python",
   "nbconvert_exporter": "python",
   "pygments_lexer": "ipython3",
   "version": "3.9.7"
  }
 },
 "nbformat": 4,
 "nbformat_minor": 2
}
