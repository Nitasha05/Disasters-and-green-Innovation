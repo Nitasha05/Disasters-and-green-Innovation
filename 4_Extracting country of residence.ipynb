{
 "cells": [
  {
   "cell_type": "code",
   "execution_count": null,
   "metadata": {},
   "outputs": [],
   "source": [
    "import pandas as pd\n",
    "df1 = pd.read_csv('/Volumes/NJ_4TB/PATSAT/tls207_part01.csv',skipinitialspace=True, header=0)\n",
    "df1['appln_id'].nunique()\n",
    "#84,076,043"
   ]
  },
  {
   "cell_type": "code",
   "execution_count": null,
   "metadata": {},
   "outputs": [],
   "source": [
    "df1['person_id'].nunique()\n",
    "#61,558,031"
   ]
  },
  {
   "cell_type": "markdown",
   "metadata": {},
   "source": [
    "~84 million unique applications have persons associated with them, and ~62 million unique persons have contributed to the dataset"
   ]
  },
  {
   "cell_type": "markdown",
   "metadata": {},
   "source": [
    "### Filter Inventors by Application id"
   ]
  },
  {
   "cell_type": "code",
   "execution_count": null,
   "metadata": {},
   "outputs": [],
   "source": [
    "import pandas as pd\n",
    "import numpy as np\n",
    "field = ['appln_id']\n",
    "df2 = pd.read_csv('/Volumes/NJ_4TB/PATSAT/MyFiles/CPCcodes_1.csv',skipinitialspace=True, usecols = field) \n",
    "ids = df2.drop_duplicates() #extract relevant unique ids"
   ]
  },
  {
   "cell_type": "code",
   "execution_count": null,
   "metadata": {},
   "outputs": [],
   "source": [
    "fields = ['person_id', 'appln_id']\n",
    "df3 = pd.read_csv('/Volumes/NJ_4TB/PATSAT/tls207_part01.csv',skipinitialspace=True, chunksize=200000, header=0,usecols=fields)\n",
    "header = True\n",
    "chunkid=0\n",
    "for chunk in df3:\n",
    "    chunk = ids.merge(chunk, on='appln_id', how='inner') #filter by ids\n",
    "    chunk.to_csv('/Volumes/NJ_4TB/PATSAT/MyFiles/Persons_1.csv', index=False, mode='a', header=header)\n",
    "    print (chunkid)\n",
    "    chunkid = chunkid + 1\n",
    "    header = False"
   ]
  },
  {
   "cell_type": "code",
   "execution_count": null,
   "metadata": {},
   "outputs": [],
   "source": [
    "del ids, df2\n",
    "import pandas as pd\n",
    "import numpy as np\n",
    "field = ['appln_id']\n",
    "df2 = pd.read_csv('/Volumes/NJ_4TB/PATSAT/MyFiles/CPCcodes_2.csv',skipinitialspace=True, usecols = field) \n",
    "ids = df2.drop_duplicates() #extract relevant unique ids"
   ]
  },
  {
   "cell_type": "code",
   "execution_count": null,
   "metadata": {},
   "outputs": [],
   "source": [
    "fields = ['person_id', 'appln_id']\n",
    "df3 = pd.read_csv('/Volumes/NJ_4TB/PATSAT/tls207_part01.csv',skipinitialspace=True, chunksize=500000, header=0,usecols=fields)\n",
    "header = True\n",
    "chunkid=0\n",
    "for chunk in df3:\n",
    "    chunk = ids.merge(chunk, on='appln_id', how='inner') #filter by ids\n",
    "    chunk.to_csv('/Volumes/NJ_4TB/PATSAT/MyFiles/Persons_2.csv', index=False, mode='a', header=header)\n",
    "    print (chunkid)\n",
    "    chunkid = chunkid + 1\n",
    "    header = False"
   ]
  },
  {
   "cell_type": "code",
   "execution_count": 1,
   "metadata": {},
   "outputs": [
    {
     "ename": "NameError",
     "evalue": "name 'ids' is not defined",
     "output_type": "error",
     "traceback": [
      "\u001b[0;31m---------------------------------------------------------------------------\u001b[0m",
      "\u001b[0;31mNameError\u001b[0m                                 Traceback (most recent call last)",
      "\u001b[0;32m/var/folders/m0/n45yndhx6rd3g0r9yzrc6k300000gn/T/ipykernel_99599/3901995337.py\u001b[0m in \u001b[0;36m<module>\u001b[0;34m\u001b[0m\n\u001b[0;32m----> 1\u001b[0;31m \u001b[0;32mdel\u001b[0m \u001b[0mids\u001b[0m\u001b[0;34m,\u001b[0m \u001b[0mdf2\u001b[0m\u001b[0;34m\u001b[0m\u001b[0;34m\u001b[0m\u001b[0m\n\u001b[0m",
      "\u001b[0;31mNameError\u001b[0m: name 'ids' is not defined"
     ]
    }
   ],
   "source": [
    "del ids, df2"
   ]
  },
  {
   "cell_type": "code",
   "execution_count": 2,
   "metadata": {},
   "outputs": [],
   "source": [
    "import pandas as pd\n",
    "import numpy as np\n",
    "field = ['appln_id']\n",
    "df2 = pd.read_csv('/Volumes/NJ_4TB/PATSAT/MyFiles/Adapt.csv',skipinitialspace=True, usecols = field) \n",
    "ids = df2.drop_duplicates() #extract relevant unique ids"
   ]
  },
  {
   "cell_type": "code",
   "execution_count": 3,
   "metadata": {},
   "outputs": [],
   "source": [
    "fields = ['person_id', 'appln_id']\n",
    "df3 = pd.read_csv('/Volumes/NJ_4TB/PATSAT/tls207_part01.csv',skipinitialspace=True, chunksize=500000, header=0,usecols=fields)\n",
    "header = True\n",
    "for chunk in df3:\n",
    "    chunk = ids.merge(chunk, on='appln_id', how='inner') #filter by ids\n",
    "    chunk.to_csv('/Volumes/NJ_4TB/PATSAT/MyFiles/Adapt_residence.csv', index=False, mode='a', header=header)\n",
    "    header = False"
   ]
  },
  {
   "cell_type": "code",
   "execution_count": 4,
   "metadata": {},
   "outputs": [],
   "source": [
    "#creating a for loop for the remaining categories\n",
    "Category = ['Build', 'Sequester', 'ICT', 'Geo', 'Hydro', 'Ocean', 'Solar-T', 'PV', 'Thermal-PV', 'Wind', 'Combust', 'Fusion', 'Fission', 'Electric', 'Biofuel', 'Waste', 'Store- B', 'Store - C', 'Store- T', 'Store- M', 'Hydrogen', 'Other-1', 'Other-2', 'Other-3', 'Processing', 'Transport', 'Wastewater', 'SmrtGrds', 'Other-4', 'Other-5', 'Nuclear', 'Non-Fossil', 'Enable','Other-6']\n",
    "field = ['appln_id']\n",
    "fields = ['person_id', 'appln_id']\n",
    "for c in Category:\n",
    "    df2 = pd.read_csv('/Volumes/NJ_4TB/PATSAT/MyFiles/'+ c +'.csv',skipinitialspace=True, usecols = field) \n",
    "    ids = df2.drop_duplicates() #extract relevant unique ids\n",
    "    df3 = pd.read_csv('/Volumes/NJ_4TB/PATSAT/tls207_part01.csv',skipinitialspace=True, chunksize=500000, header=0,usecols=fields)\n",
    "    header = True\n",
    "    for chunk in df3:\n",
    "        chunk = ids.merge(chunk, on='appln_id', how='inner') #filter by ids\n",
    "        chunk.to_csv('/Volumes/NJ_4TB/PATSAT/MyFiles/' + c + '_residence.csv', index=False, mode='a', header=header)\n",
    "        header = False\n",
    "    del df2, df3"
   ]
  },
  {
   "cell_type": "code",
   "execution_count": null,
   "metadata": {},
   "outputs": [],
   "source": []
  }
 ],
 "metadata": {
  "kernelspec": {
   "display_name": "Python 3 (ipykernel)",
   "language": "python",
   "name": "python3"
  },
  "language_info": {
   "codemirror_mode": {
    "name": "ipython",
    "version": 3
   },
   "file_extension": ".py",
   "mimetype": "text/x-python",
   "name": "python",
   "nbconvert_exporter": "python",
   "pygments_lexer": "ipython3",
   "version": "3.9.7"
  }
 },
 "nbformat": 4,
 "nbformat_minor": 2
}
