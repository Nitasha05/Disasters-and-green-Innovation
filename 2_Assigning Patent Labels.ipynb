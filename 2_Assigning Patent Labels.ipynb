{
 "cells": [
  {
   "cell_type": "code",
   "execution_count": null,
   "metadata": {},
   "outputs": [],
   "source": [
    "import pandas as pd\n",
    "import numpy as np\n",
    "labels = pd.read_csv('/Volumes/NJ_4TB/PATSAT/MyFiles/CPClabels.csv',skipinitialspace=True)"
   ]
  },
  {
   "cell_type": "code",
   "execution_count": null,
   "metadata": {},
   "outputs": [],
   "source": [
    "def cpc_symbol_to_category(df_column, symbol, category):\n",
    "    current_dict = dict.fromkeys(df_column[df_column.str.contains(symbol)], category) #build dictionary\n",
    "    return df_column.replace(current_dict) #replace keys with values\n",
    "df1 = pd.read_csv('/Volumes/NJ_4TB/PATSAT/MyFiles/CPCcodes_1.csv',skipinitialspace=True, chunksize=5000, header=0)\n",
    "extra_labels = pd.DataFrame([['Y02E30', 'Nuclear'],['Y02E50', 'Non-Fossil'], ['Y02E60','Enable'], ['Y02E', 'Other-6']], columns=labels.columns.values)\n",
    "\n",
    "header = True\n",
    "for chunk in df1:\n",
    "    chunk_modified = chunk.copy()\n",
    "    chunk_modified['Category'] = chunk_modified['cpc_class_symbol'] #create a dummy column to be replaced later\n",
    "    for index, row in labels.iterrows():\n",
    "        chunk_modified['Category'] = cpc_symbol_to_category(chunk_modified['Category'], row['cpc_class_symbol'], row['Category'])\n",
    "    for index, row in extra_labels.iterrows():\n",
    "        chunk_modified['Category'] = cpc_symbol_to_category(chunk_modified['Category'], row['cpc_class_symbol'], row['Category'])\n",
    "    chunk_modified.to_csv('/Volumes/NJ_4TB/PATSAT/MyFiles/CPC_with_labels.csv', index=False, mode='a', header=header)\n",
    "    header = False"
   ]
  },
  {
   "cell_type": "code",
   "execution_count": null,
   "metadata": {},
   "outputs": [],
   "source": [
    "# def cpc_symbol_to_category(df_column, symbol, category):\n",
    "#     current_dict = dict.fromkeys(df_column[df_column.str.contains(symbol)], category)\n",
    "#     return df_column.replace(current_dict)\n",
    "\n",
    "# df1 = pd.read_csv('/Volumes/NJ_4TB/PATSAT/MyFiles/CPCcodes_1.csv',skipinitialspace=True, nrows=1000, header=0)\n",
    "# extra_labels = pd.DataFrame([['Y02E30', 'Nuclear'],['Y02E50', 'Non-Fossil'], ['Y02E60','Enable'], ['Y02E', 'Other-6']], columns=labels.columns.values)\n",
    "\n",
    "# df1_modified = df1.copy()\n",
    "# df1_modified['Category'] = df1_modified['cpc_class_symbol']\n",
    "\n",
    "# for index, row in labels.iterrows():\n",
    "#     df1_modified['Category'] = cpc_symbol_to_category(df1_modified['Category'], row['cpc_class_symbol'], row['Category'])\n",
    "\n",
    "# for index, row in extra_labels.iterrows():\n",
    "#     df1_modified['Category'] = cpc_symbol_to_category(df1_modified['Category'], row['cpc_class_symbol'], row['Category'])"
   ]
  },
  {
   "cell_type": "code",
   "execution_count": null,
   "metadata": {},
   "outputs": [],
   "source": [
    "def cpc_symbol_to_category(df_column, symbol, category):\n",
    "    current_dict = dict.fromkeys(df_column[df_column.str.contains(symbol)], category)\n",
    "    return df_column.replace(current_dict)\n",
    "df2 = pd.read_csv('/Volumes/NJ_4TB/PATSAT/MyFiles/CPCcodes_2.csv',skipinitialspace=True, chunksize=5000, header=0)\n",
    "extra_labels = pd.DataFrame([['Y02E30', 'Nuclear'],['Y02E50', 'Non-Fossil'], ['Y02E60','Enable'], ['Y02E', 'Other-6']], columns=labels.columns.values)\n",
    "\n",
    "header = True\n",
    "for chunk in df2:\n",
    "    chunk_modified = chunk.copy()\n",
    "    chunk_modified['Category'] = chunk_modified['cpc_class_symbol']\n",
    "    for index, row in labels.iterrows():\n",
    "        chunk_modified['Category'] = cpc_symbol_to_category(chunk_modified['Category'], row['cpc_class_symbol'], row['Category'])\n",
    "    for index, row in extra_labels.iterrows():\n",
    "        chunk_modified['Category'] = cpc_symbol_to_category(chunk_modified['Category'], row['cpc_class_symbol'], row['Category'])\n",
    "    chunk_modified.to_csv('/Volumes/NJ_4TB/PATSAT/MyFiles/CPC_with_labels_2.csv', index=False, mode='a', header=header)\n",
    "    header = False"
   ]
  },
  {
   "cell_type": "code",
   "execution_count": null,
   "metadata": {},
   "outputs": [],
   "source": [
    "df1 = pd.read_csv('/Volumes/NJ_4TB/PATSAT/MyFiles/CPCcodes_1.csv',skipinitialspace=True, header=0)\n",
    "df1['appln_id'].nunique()\n",
    "# 6,136,206"
   ]
  },
  {
   "cell_type": "code",
   "execution_count": null,
   "metadata": {},
   "outputs": [],
   "source": [
    "df2 = pd.read_csv('/Volumes/NJ_4TB/PATSAT/MyFiles/CPCcodes_2.csv',skipinitialspace=True, header=0)\n",
    "df2['appln_id'].nunique()\n",
    "# 2,414,168"
   ]
  },
  {
   "cell_type": "code",
   "execution_count": null,
   "metadata": {},
   "outputs": [],
   "source": []
  }
 ],
 "metadata": {
  "kernelspec": {
   "display_name": "Python 3",
   "language": "python",
   "name": "python3"
  },
  "language_info": {
   "codemirror_mode": {
    "name": "ipython",
    "version": 3
   },
   "file_extension": ".py",
   "mimetype": "text/x-python",
   "name": "python",
   "nbconvert_exporter": "python",
   "pygments_lexer": "ipython3",
   "version": "3.7.4"
  }
 },
 "nbformat": 4,
 "nbformat_minor": 2
}
