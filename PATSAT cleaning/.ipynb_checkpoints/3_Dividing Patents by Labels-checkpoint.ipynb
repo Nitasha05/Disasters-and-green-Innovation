{
 "cells": [
  {
   "cell_type": "markdown",
   "metadata": {},
   "source": [
    "# Extracting by Label"
   ]
  },
  {
   "cell_type": "markdown",
   "metadata": {},
   "source": [
    "### 1. Adapt"
   ]
  },
  {
   "cell_type": "code",
   "execution_count": 1,
   "metadata": {},
   "outputs": [],
   "source": [
    "import pandas as pd\n",
    "df1 = pd.read_csv('/Volumes/NJ_4TB/PATSAT/MyFiles/CPC_with_labels.csv',skipinitialspace=True, chunksize=5000, header=0)\n",
    "header = True\n",
    "for chunk in df1:\n",
    "    validid = chunk['Category'].str.contains('Adapt', regex=True)\n",
    "    chunk = chunk[validid]\n",
    "    chunk.to_csv('/Volumes/NJ_4TB/PATSAT/MyFiles/Adapt1.csv', index=False, mode='a', header=header)\n",
    "    header = False"
   ]
  },
  {
   "cell_type": "code",
   "execution_count": 2,
   "metadata": {},
   "outputs": [],
   "source": [
    "df2 = pd.read_csv('/Volumes/NJ_4TB/PATSAT/MyFiles/CPC_with_labels_2.csv',skipinitialspace=True, chunksize=5000, header=0)\n",
    "header = True\n",
    "for chunk in df2:\n",
    "    validid = chunk['Category'].str.contains('Adapt', regex=True)\n",
    "    chunk = chunk[validid]\n",
    "    chunk.to_csv('/Volumes/NJ_4TB/PATSAT/MyFiles/Adapt2.csv', index=False, mode='a', header=header)\n",
    "    header = False"
   ]
  },
  {
   "cell_type": "code",
   "execution_count": 4,
   "metadata": {},
   "outputs": [],
   "source": [
    "df3 = pd.read_csv('/Volumes/NJ_4TB/PATSAT/MyFiles/Adapt1.csv', skipinitialspace=True, header=0)\n",
    "df4 = pd.read_csv('/Volumes/NJ_4TB/PATSAT/MyFiles/Adapt2.csv', skipinitialspace=True, header=0)\n",
    "out = pd.concat([df3,df4])\n",
    "out.to_csv('/Volumes/NJ_4TB/PATSAT/MyFiles/Adapt.csv', index=False)"
   ]
  },
  {
   "cell_type": "code",
   "execution_count": 10,
   "metadata": {},
   "outputs": [
    {
     "name": "stdout",
     "output_type": "stream",
     "text": [
      "concatenating 327402 unique ids from file 1 and 264595 and unique ids from file 2 to get 591997 unique ids\n"
     ]
    }
   ],
   "source": [
    "print (\"concatenating \" + str(df3['appln_id'].nunique()) + \" unique ids from file 1 and \" + str(df4['appln_id'].nunique()) + \" and unique ids from file 2 to get \" + str(out['appln_id'].nunique()) + \" unique ids\")\n"
   ]
  },
  {
   "cell_type": "code",
   "execution_count": 17,
   "metadata": {},
   "outputs": [],
   "source": [
    "del df1, df2, df3, df4"
   ]
  },
  {
   "cell_type": "code",
   "execution_count": 18,
   "metadata": {},
   "outputs": [
    {
     "ename": "NameError",
     "evalue": "name 'df4' is not defined",
     "output_type": "error",
     "traceback": [
      "\u001b[0;31m---------------------------------------------------------------------------\u001b[0m",
      "\u001b[0;31mNameError\u001b[0m                                 Traceback (most recent call last)",
      "\u001b[0;32m<ipython-input-18-e9ae58f210e4>\u001b[0m in \u001b[0;36m<module>\u001b[0;34m\u001b[0m\n\u001b[0;32m----> 1\u001b[0;31m \u001b[0mdf4\u001b[0m\u001b[0;34m\u001b[0m\u001b[0;34m\u001b[0m\u001b[0m\n\u001b[0m",
      "\u001b[0;31mNameError\u001b[0m: name 'df4' is not defined"
     ]
    }
   ],
   "source": []
  },
  {
   "cell_type": "code",
   "execution_count": null,
   "metadata": {},
   "outputs": [],
   "source": []
  }
 ],
 "metadata": {
  "kernelspec": {
   "display_name": "Python 3",
   "language": "python",
   "name": "python3"
  },
  "language_info": {
   "codemirror_mode": {
    "name": "ipython",
    "version": 3
   },
   "file_extension": ".py",
   "mimetype": "text/x-python",
   "name": "python",
   "nbconvert_exporter": "python",
   "pygments_lexer": "ipython3",
   "version": "3.7.4"
  }
 },
 "nbformat": 4,
 "nbformat_minor": 2
}
