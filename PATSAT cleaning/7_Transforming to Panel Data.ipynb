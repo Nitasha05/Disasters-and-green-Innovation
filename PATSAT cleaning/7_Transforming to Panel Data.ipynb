{
 "cells": [
  {
   "cell_type": "markdown",
   "id": "dd956133",
   "metadata": {},
   "source": [
    "### 1. Total patents \n",
    "### 2. Total Successful Patents\n",
    "### 3. Successful Patents with Family size >=2 "
   ]
  },
  {
   "cell_type": "code",
   "execution_count": null,
   "id": "bbf4cc13",
   "metadata": {},
   "outputs": [
    {
     "name": "stdout",
     "output_type": "stream",
     "text": [
      "Counting  1_ExTemp\n",
      "Finished in  197.95398807525635\n",
      "Counting  3_Storm\n",
      "Finished in  21.933608293533325\n",
      "Counting  4_Flood\n",
      "Finished in  21.87106156349182\n",
      "Counting  5_Landslide\n",
      "Finished in  13.117753028869629\n",
      "Counting  6_WaveAct\n",
      "Finished in  12.970354080200195\n",
      "Counting  7_Drought\n",
      "Finished in  145.28934144973755\n",
      "Counting  9_Wildfire\n",
      "Finished in  17.86696195602417\n",
      "Counting  Adapt\n"
     ]
    }
   ],
   "source": [
    "import pandas as pd\n",
    "import numpy as np\n",
    "import time\n",
    "\n",
    "Category = ['1_ExTemp', '3_Storm', '4_Flood', '5_Landslide', '6_WaveAct', '7_Drought', '9_Wildfire', 'Adapt','Build','Sequester', 'ICT', 'Geo', 'Hydro', 'Ocean', 'Solar-T', 'PV', 'Thermal-PV', 'Wind', 'Combust', 'Fusion', 'Fission', 'Electric', 'Biofuel', 'Waste', 'Store- B', 'Store - C', 'Store- T', 'Store- M', 'Hydrogen', 'Other-1', 'Other-3', 'Processing', 'Transport', 'Wastewater', 'SmrtGrds', 'Nuclear', 'Non-Fossil', 'Enable', 'Other-4', 'Other-5','Other-6']\n",
    "for c in Category:\n",
    "    df1 = pd.read_csv('/Volumes/NJ_4TB/PATSAT/MyFiles/' + c + '_everything.csv', skipinitialspace=True, header=0)\n",
    "    df1.loc[df1.appln_filing_year == 9999] = np.NaN\n",
    "    df1.dropna(subset=['appln_filing_year'], inplace=True)\n",
    "\n",
    "    countries = pd.unique( pd.concat([df1['person_ctry_code'],df1['person_ctry_code.1'],df1['person_ctry_code.2'],df1['person_ctry_code.3'],df1['person_ctry_code.4']]))\n",
    "\n",
    "\n",
    "    years = pd.unique(df1['appln_filing_year'])\n",
    "    start_year = 1985\n",
    "    end_year = years.max()\n",
    "    start_time = time.time()\n",
    "        \n",
    "    print('Counting ', c)\n",
    "    list_of_points = []\n",
    "    for country in countries:\n",
    "        for year in range(int(start_year), int(end_year) + 1):\n",
    "            patent_country_idx = ([(df1['appln_filing_year'] == year) & ((df1['person_ctry_code'] == country) | (df1['person_ctry_code.1'] == country) | (df1['person_ctry_code.2'] == country) | (df1['person_ctry_code.3'] == country) | (df1['person_ctry_code.4'] == country))][0])\n",
    "            count = sum(patent_country_idx)\n",
    "            granted_count = sum(patent_country_idx & (df1['granted'] == 'Y'))\n",
    "            granted_family_ge_2 = sum(patent_country_idx & (df1['granted'] == 'Y') & (df1['docdb_family_size'] >=2 ))\n",
    "            list_of_points.append({'country': country, 'year': year, 'total_count': count, 'granted_count': granted_count , 'granted_family_ge_2_count': granted_family_ge_2 })\n",
    "    df_panel = pd.DataFrame.from_records(list_of_points)\n",
    "    df_panel.to_csv('/Volumes/NJ_4TB/PATSAT/MyFiles/' + c + '_panel.csv', encoding='utf-8', index=False)\n",
    "    del df1, df_panel\n",
    "    print(\"Finished in \", time.time() - start_time)\n",
    "    \n",
    "\n",
    "\n",
    "\n",
    "\n"
   ]
  },
  {
   "cell_type": "markdown",
   "id": "5158772c",
   "metadata": {},
   "source": [
    "### Triadic Patents"
   ]
  },
  {
   "cell_type": "code",
   "execution_count": 1,
   "id": "4b297ca4",
   "metadata": {},
   "outputs": [],
   "source": [
    "#not right now"
   ]
  },
  {
   "cell_type": "code",
   "execution_count": null,
   "id": "2ca756b2",
   "metadata": {},
   "outputs": [],
   "source": []
  }
 ],
 "metadata": {
  "kernelspec": {
   "display_name": "Python 3 (ipykernel)",
   "language": "python",
   "name": "python3"
  },
  "language_info": {
   "codemirror_mode": {
    "name": "ipython",
    "version": 3
   },
   "file_extension": ".py",
   "mimetype": "text/x-python",
   "name": "python",
   "nbconvert_exporter": "python",
   "pygments_lexer": "ipython3",
   "version": "3.10.1"
  }
 },
 "nbformat": 4,
 "nbformat_minor": 5
}
